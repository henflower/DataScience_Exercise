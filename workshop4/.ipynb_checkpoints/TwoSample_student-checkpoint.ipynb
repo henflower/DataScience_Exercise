{
 "cells": [
  {
   "cell_type": "markdown",
   "metadata": {},
   "source": [
    "\n"
   ]
  },
  {
   "cell_type": "code",
   "execution_count": 1,
   "metadata": {},
   "outputs": [],
   "source": [
    "knitr::opts_chunk$set(echo = TRUE)\n",
    "\n"
   ]
  },
  {
   "cell_type": "markdown",
   "metadata": {},
   "source": [
    "## The problem\n",
    "\n",
    "The purpose of this exercise is to compare the means of two samples and test the hypothesis that their population means are the same.\n",
    "\n",
    "## Initialisation\n",
    "\n",
    "Your first block of code should install any packages and load in the corresponding libraries. You can also read in any data files here. The file provided is comma-delimited, and the function \"read_csv\" works nicely. Note that \"read_csv\" and \"read.csv\" are not the same!\n"
   ]
  },
  {
   "cell_type": "code",
   "execution_count": 2,
   "metadata": {},
   "outputs": [
    {
     "name": "stderr",
     "output_type": "stream",
     "text": [
      "-- \u001b[1mAttaching packages\u001b[22m ------------------------------------------------------------------------------- tidyverse 1.3.2 --\n",
      "\u001b[32mv\u001b[39m \u001b[34mggplot2\u001b[39m 3.3.6     \u001b[32mv\u001b[39m \u001b[34mpurrr  \u001b[39m 0.3.4\n",
      "\u001b[32mv\u001b[39m \u001b[34mtibble \u001b[39m 3.1.8     \u001b[32mv\u001b[39m \u001b[34mdplyr  \u001b[39m 1.0.9\n",
      "\u001b[32mv\u001b[39m \u001b[34mtidyr  \u001b[39m 1.2.0     \u001b[32mv\u001b[39m \u001b[34mstringr\u001b[39m 1.4.0\n",
      "\u001b[32mv\u001b[39m \u001b[34mreadr  \u001b[39m 2.1.2     \u001b[32mv\u001b[39m \u001b[34mforcats\u001b[39m 0.5.1\n",
      "-- \u001b[1mConflicts\u001b[22m ---------------------------------------------------------------------------------- tidyverse_conflicts() --\n",
      "\u001b[31mx\u001b[39m \u001b[34mdplyr\u001b[39m::\u001b[32mfilter()\u001b[39m masks \u001b[34mstats\u001b[39m::filter()\n",
      "\u001b[31mx\u001b[39m \u001b[34mdplyr\u001b[39m::\u001b[32mlag()\u001b[39m    masks \u001b[34mstats\u001b[39m::lag()\n",
      "\u001b[1mRows: \u001b[22m\u001b[34m50\u001b[39m \u001b[1mColumns: \u001b[22m\u001b[34m2\u001b[39m\n",
      "\u001b[36m--\u001b[39m \u001b[1mColumn specification\u001b[22m \u001b[36m------------------------------------------------------------------------------------------------\u001b[39m\n",
      "\u001b[1mDelimiter:\u001b[22m \",\"\n",
      "\u001b[32mdbl\u001b[39m (2): set_A, set_B\n",
      "\n",
      "\u001b[36mi\u001b[39m Use `spec()` to retrieve the full column specification for this data.\n",
      "\u001b[36mi\u001b[39m Specify the column types or set `show_col_types = FALSE` to quiet this message.\n"
     ]
    },
    {
     "data": {
      "text/html": [
       "<table class=\"dataframe\">\n",
       "<caption>A tibble: 6 × 2</caption>\n",
       "<thead>\n",
       "\t<tr><th scope=col>set_A</th><th scope=col>set_B</th></tr>\n",
       "\t<tr><th scope=col>&lt;dbl&gt;</th><th scope=col>&lt;dbl&gt;</th></tr>\n",
       "</thead>\n",
       "<tbody>\n",
       "\t<tr><td> 3.9431580</td><td> 4.8033614</td></tr>\n",
       "\t<tr><td> 2.4189205</td><td> 7.5521834</td></tr>\n",
       "\t<tr><td>-6.6521319</td><td> 4.9814803</td></tr>\n",
       "\t<tr><td>-9.1600153</td><td> 0.2728780</td></tr>\n",
       "\t<tr><td> 0.8518474</td><td>-0.1878289</td></tr>\n",
       "\t<tr><td>-1.9783274</td><td> 5.6007266</td></tr>\n",
       "</tbody>\n",
       "</table>\n"
      ],
      "text/latex": [
       "A tibble: 6 × 2\n",
       "\\begin{tabular}{ll}\n",
       " set\\_A & set\\_B\\\\\n",
       " <dbl> & <dbl>\\\\\n",
       "\\hline\n",
       "\t  3.9431580 &  4.8033614\\\\\n",
       "\t  2.4189205 &  7.5521834\\\\\n",
       "\t -6.6521319 &  4.9814803\\\\\n",
       "\t -9.1600153 &  0.2728780\\\\\n",
       "\t  0.8518474 & -0.1878289\\\\\n",
       "\t -1.9783274 &  5.6007266\\\\\n",
       "\\end{tabular}\n"
      ],
      "text/markdown": [
       "\n",
       "A tibble: 6 × 2\n",
       "\n",
       "| set_A &lt;dbl&gt; | set_B &lt;dbl&gt; |\n",
       "|---|---|\n",
       "|  3.9431580 |  4.8033614 |\n",
       "|  2.4189205 |  7.5521834 |\n",
       "| -6.6521319 |  4.9814803 |\n",
       "| -9.1600153 |  0.2728780 |\n",
       "|  0.8518474 | -0.1878289 |\n",
       "| -1.9783274 |  5.6007266 |\n",
       "\n"
      ],
      "text/plain": [
       "  set_A      set_B     \n",
       "1  3.9431580  4.8033614\n",
       "2  2.4189205  7.5521834\n",
       "3 -6.6521319  4.9814803\n",
       "4 -9.1600153  0.2728780\n",
       "5  0.8518474 -0.1878289\n",
       "6 -1.9783274  5.6007266"
      ]
     },
     "metadata": {},
     "output_type": "display_data"
    }
   ],
   "source": [
    "library(tidyverse)\n",
    "group_data <- read_csv(\"GroupData12Aug.csv\")\n",
    "\n",
    "head(group_data)\n"
   ]
  },
  {
   "cell_type": "markdown",
   "metadata": {},
   "source": [
    "## Exploring the Data\n",
    "\n",
    "Let's see what our data looks like. We'll use ggplot to make a histogram of set_A.\n"
   ]
  },
  {
   "cell_type": "code",
   "execution_count": 3,
   "metadata": {},
   "outputs": [
    {
     "name": "stderr",
     "output_type": "stream",
     "text": [
      "`stat_bin()` using `bins = 30`. Pick better value with `binwidth`.\n",
      "\n"
     ]
    },
    {
     "data": {
      "image/png": "[encoded data removed]",
      "text/plain": [
       "plot without title"
      ]
     },
     "metadata": {
      "image/png": {
       "height": 420,
       "width": 420
      }
     },
     "output_type": "display_data"
    }
   ],
   "source": [
    "ggplot(data = group_data,aes(x = set_A))+geom_histogram()\n",
    "\n"
   ]
  },
  {
   "cell_type": "markdown",
   "metadata": {},
   "source": [
    "A ggplot always needs (at least) these three components:\n",
    "    1. data (in the form of a tibble or data frame);\n",
    "    2. a mapping -- the aes() function, which stands for aesthetic, that tells R how to map data coordinates to the plot; and,\n",
    "    3. a geometry (which always starts with geom_) which determines the shape of the plot.\n",
    "\n",
    "Let's plot the histogram for Set_B, but also add a smoothed density function on top of it. Note the syntax: geom_density has been added to the ggplot statement, and the call to geom_histogram has been given the argument \"(aes(y = ..density..))\". What would happen if that argument was removed?\n"
   ]
  },
  {
   "cell_type": "code",
   "execution_count": 4,
   "metadata": {},
   "outputs": [
    {
     "name": "stderr",
     "output_type": "stream",
     "text": [
      "`stat_bin()` using `bins = 30`. Pick better value with `binwidth`.\n",
      "\n"
     ]
    },
    {
     "data": {
      "image/png": "[encoded data removed]",
      "text/plain": [
       "plot without title"
      ]
     },
     "metadata": {
      "image/png": {
       "height": 420,
       "width": 420
      }
     },
     "output_type": "display_data"
    }
   ],
   "source": [
    "ggplot(data = group_data,aes(x = set_B))+geom_histogram(aes(y = ..density..))+geom_density()\n",
    "\n"
   ]
  },
  {
   "cell_type": "markdown",
   "metadata": {},
   "source": [
    "We'll come back to this later when we focus on data visualisation.\n",
    "\n",
    "It sure would be helpful to see both distributions together in one plot. But this is\n",
    "difficult because set_A and set_B are column names instead of factor levels. Instead of a 50x2 tibble whose columns are Set_A and Set_B, ggplot wants a 100x2 tibble whose columns are the group membership (A or B) and the values. In other words, we want to pivot the table to make it longer. So, we need the function \"pivot_longer\".\n",
    "\n",
    "Look up the function \"pivot_longer\". Use it to complete the code block below to create a new 100x2 tibble such that:\n",
    "\n",
    "    Column 1, named \"ID\", contains the letter A or B to indicate group membership\n",
    "    Column 2, named \"value\", contains the corresponding number from group_data\n"
   ]
  },
  {
   "cell_type": "code",
   "execution_count": 5,
   "metadata": {},
   "outputs": [
    {
     "data": {
      "text/html": [
       "<table class=\"dataframe\">\n",
       "<caption>A tibble: 6 × 2</caption>\n",
       "<thead>\n",
       "\t<tr><th scope=col>ID</th><th scope=col>value</th></tr>\n",
       "\t<tr><th scope=col>&lt;chr&gt;</th><th scope=col>&lt;dbl&gt;</th></tr>\n",
       "</thead>\n",
       "<tbody>\n",
       "\t<tr><td>A</td><td> 3.943158</td></tr>\n",
       "\t<tr><td>B</td><td> 4.803361</td></tr>\n",
       "\t<tr><td>A</td><td> 2.418920</td></tr>\n",
       "\t<tr><td>B</td><td> 7.552183</td></tr>\n",
       "\t<tr><td>A</td><td>-6.652132</td></tr>\n",
       "\t<tr><td>B</td><td> 4.981480</td></tr>\n",
       "</tbody>\n",
       "</table>\n"
      ],
      "text/latex": [
       "A tibble: 6 × 2\n",
       "\\begin{tabular}{ll}\n",
       " ID & value\\\\\n",
       " <chr> & <dbl>\\\\\n",
       "\\hline\n",
       "\t A &  3.943158\\\\\n",
       "\t B &  4.803361\\\\\n",
       "\t A &  2.418920\\\\\n",
       "\t B &  7.552183\\\\\n",
       "\t A & -6.652132\\\\\n",
       "\t B &  4.981480\\\\\n",
       "\\end{tabular}\n"
      ],
      "text/markdown": [
       "\n",
       "A tibble: 6 × 2\n",
       "\n",
       "| ID &lt;chr&gt; | value &lt;dbl&gt; |\n",
       "|---|---|\n",
       "| A |  3.943158 |\n",
       "| B |  4.803361 |\n",
       "| A |  2.418920 |\n",
       "| B |  7.552183 |\n",
       "| A | -6.652132 |\n",
       "| B |  4.981480 |\n",
       "\n"
      ],
      "text/plain": [
       "  ID value    \n",
       "1 A   3.943158\n",
       "2 B   4.803361\n",
       "3 A   2.418920\n",
       "4 B   7.552183\n",
       "5 A  -6.652132\n",
       "6 B   4.981480"
      ]
     },
     "metadata": {},
     "output_type": "display_data"
    }
   ],
   "source": [
    "new_group_data <- pivot_longer(group_data, cols = everything(),\n",
    "   names_to = \"ID\",names_pattern = \"set_(\\\\w)\",values_to = \"value\")\n",
    "\n",
    "head(new_group_data)"
   ]
  },
  {
   "cell_type": "markdown",
   "metadata": {},
   "source": [
    "How cool is that? The function \"pivot_longer\", and the opposite function \"pivot_wider\", are really useful for data wrangling. More on that later.\n",
    "\n",
    "Now our data is in the right shape to plot both distributions together. Copy the code from one your previous plots (with or without density) into the block below and modify it to plot both histograms together using different colours. If this is new to you, try searching for how to do this online. This is often how you will figure out how to make the plots you want.\n"
   ]
  },
  {
   "cell_type": "code",
   "execution_count": 6,
   "metadata": {},
   "outputs": [
    {
     "data": {
      "image/png": "[encoded data removed]",
      "text/plain": [
       "plot without title"
      ]
     },
     "metadata": {
      "image/png": {
       "height": 420,
       "width": 420
      }
     },
     "output_type": "display_data"
    }
   ],
   "source": [
    "ggplot(data = new_group_data,aes(x = value,fill = ID))+\n",
    "   geom_histogram(aes(y = ..density..),binwidth = 1)+\n",
    "   geom_density(alpha = 0.3, size= 1)\n"
   ]
  },
  {
   "cell_type": "markdown",
   "metadata": {},
   "source": [
    "Now that you've make this plot, what do you think could make it even better? Comment on this in the block below. \n",
    "\n"
   ]
  },
  {
   "cell_type": "markdown",
   "metadata": {},
   "source": [
    "The plot could be improved by displaying two variables in faceted areas\n",
    "\n",
    "\n"
   ]
  },
  {
   "cell_type": "markdown",
   "metadata": {},
   "source": [
    "Because this exercise is about comparing means, it might be nice to indicate where the means of the distributions are. The lesson we learned above when calling pivot_longer still applies: to add the mean to a plot, ggplot wants a data column that pairs the means to their respective groups. So, now we need a 100x3 tibble that contains the group means in column 3. We can use tidyverse commands to accomplish this in a single line, flexing our wrangling skills once again.\n",
    "\n"
   ]
  },
  {
   "cell_type": "code",
   "execution_count": 7,
   "metadata": {},
   "outputs": [
    {
     "data": {
      "text/html": [
       "<table class=\"dataframe\">\n",
       "<caption>A grouped_df: 6 × 3</caption>\n",
       "<thead>\n",
       "\t<tr><th scope=col>ID</th><th scope=col>value</th><th scope=col>mean</th></tr>\n",
       "\t<tr><th scope=col>&lt;chr&gt;</th><th scope=col>&lt;dbl&gt;</th><th scope=col>&lt;dbl&gt;</th></tr>\n",
       "</thead>\n",
       "<tbody>\n",
       "\t<tr><td>A</td><td> 3.943158</td><td>-0.8492643</td></tr>\n",
       "\t<tr><td>B</td><td> 4.803361</td><td> 1.0733574</td></tr>\n",
       "\t<tr><td>A</td><td> 2.418920</td><td>-0.8492643</td></tr>\n",
       "\t<tr><td>B</td><td> 7.552183</td><td> 1.0733574</td></tr>\n",
       "\t<tr><td>A</td><td>-6.652132</td><td>-0.8492643</td></tr>\n",
       "\t<tr><td>B</td><td> 4.981480</td><td> 1.0733574</td></tr>\n",
       "</tbody>\n",
       "</table>\n"
      ],
      "text/latex": [
       "A grouped\\_df: 6 × 3\n",
       "\\begin{tabular}{lll}\n",
       " ID & value & mean\\\\\n",
       " <chr> & <dbl> & <dbl>\\\\\n",
       "\\hline\n",
       "\t A &  3.943158 & -0.8492643\\\\\n",
       "\t B &  4.803361 &  1.0733574\\\\\n",
       "\t A &  2.418920 & -0.8492643\\\\\n",
       "\t B &  7.552183 &  1.0733574\\\\\n",
       "\t A & -6.652132 & -0.8492643\\\\\n",
       "\t B &  4.981480 &  1.0733574\\\\\n",
       "\\end{tabular}\n"
      ],
      "text/markdown": [
       "\n",
       "A grouped_df: 6 × 3\n",
       "\n",
       "| ID &lt;chr&gt; | value &lt;dbl&gt; | mean &lt;dbl&gt; |\n",
       "|---|---|---|\n",
       "| A |  3.943158 | -0.8492643 |\n",
       "| B |  4.803361 |  1.0733574 |\n",
       "| A |  2.418920 | -0.8492643 |\n",
       "| B |  7.552183 |  1.0733574 |\n",
       "| A | -6.652132 | -0.8492643 |\n",
       "| B |  4.981480 |  1.0733574 |\n",
       "\n"
      ],
      "text/plain": [
       "  ID value     mean      \n",
       "1 A   3.943158 -0.8492643\n",
       "2 B   4.803361  1.0733574\n",
       "3 A   2.418920 -0.8492643\n",
       "4 B   7.552183  1.0733574\n",
       "5 A  -6.652132 -0.8492643\n",
       "6 B   4.981480  1.0733574"
      ]
     },
     "metadata": {},
     "output_type": "display_data"
    }
   ],
   "source": [
    "means_group_data <- new_group_data %>% group_by(ID) %>%  mutate(mean = mean(value))\n",
    "head(means_group_data)\n"
   ]
  },
  {
   "cell_type": "markdown",
   "metadata": {},
   "source": [
    "What was that about? The %>%, as we will discuss later, is called the pipe and allows objects to flow from left to right. We start with our data tibble and tell R to consider the data grouped by ID (either A or B). Then we tell it to mutate the tibble by adding a new column, called \"mean\", that contains the mean of the group indicated in column 1. (This is just a taste of the wrangling we'll learn later!)\n",
    "\n",
    "Great, so now we have the means in a format that ggplot can use. To add a vertical line to a plot, we use the command \"geom_vline\". Copy your plot code in the block below and include the following command to add the means to the plot. \n",
    "\n",
    "    geom_vline(aes(xintercept = mean, group = ID), colour = 'black')\n"
   ]
  },
  {
   "cell_type": "code",
   "execution_count": 8,
   "metadata": {},
   "outputs": [
    {
     "data": {
      "image/png": "[encoded data removed]",
      "text/plain": [
       "plot without title"
      ]
     },
     "metadata": {
      "image/png": {
       "height": 420,
       "width": 420
      }
     },
     "output_type": "display_data"
    }
   ],
   "source": [
    "ggplot(data = means_group_data,aes(x = value,fill = ID))+\n",
    "   geom_histogram(aes(y = ..density..),binwidth = 1)+\n",
    "   geom_density(alpha = 0.3, size= 1)+\n",
    "   geom_vline(aes(xintercept = mean, group = ID), colour = 'black')"
   ]
  },
  {
   "cell_type": "markdown",
   "metadata": {},
   "source": [
    "This might be easier to read if we present these as two stacked plots. To create this, copy your code from above and add:\n",
    "\n",
    "    facet_wrap(~ID,ncol=1)\n"
   ]
  },
  {
   "cell_type": "code",
   "execution_count": 9,
   "metadata": {},
   "outputs": [
    {
     "data": {
      "image/png": "[encoded data removed]",
      "text/plain": [
       "plot without title"
      ]
     },
     "metadata": {
      "image/png": {
       "height": 420,
       "width": 420
      }
     },
     "output_type": "display_data"
    }
   ],
   "source": [
    "ggplot(data = means_group_data,aes(x = value,fill = ID))+\n",
    "   geom_histogram(aes(y = ..density..),binwidth = 1)+\n",
    "   geom_density(alpha = 0.3, size= 1)+\n",
    "   geom_vline(aes(xintercept = mean, group = ID), colour = 'black')+\n",
    "   facet_wrap(~ID,ncol=1)"
   ]
  },
  {
   "cell_type": "markdown",
   "metadata": {},
   "source": [
    "What if instead you wanted to place these side by side? Copy your code from above and modify it so that the histograms are instead side by side in a single row.\n",
    "\n"
   ]
  },
  {
   "cell_type": "code",
   "execution_count": 10,
   "metadata": {},
   "outputs": [
    {
     "data": {
      "image/png": "[encoded data removed]",
      "text/plain": [
       "plot without title"
      ]
     },
     "metadata": {
      "image/png": {
       "height": 420,
       "width": 420
      }
     },
     "output_type": "display_data"
    }
   ],
   "source": [
    "ggplot(data = means_group_data,aes(x = value,fill = ID))+\n",
    "   geom_histogram(aes(y = ..density..),binwidth = 1)+\n",
    "   geom_density(alpha = 0.3, size= 1)+\n",
    "   geom_vline(aes(xintercept = mean, group = ID), colour = 'black')+\n",
    "   facet_wrap(~ID,nrow=1)\n",
    "\n"
   ]
  },
  {
   "cell_type": "markdown",
   "metadata": {},
   "source": [
    "Which of these many plots do you find most informative, and why? Comment on this in the block below. \n",
    "\n"
   ]
  },
  {
   "cell_type": "markdown",
   "metadata": {},
   "source": [
    "The most informative plot is a histogram after using 'plvot_longer()' because it is a good comparison of the distribution differences between the two sets and the approximate density curve comparison."
   ]
  },
  {
   "cell_type": "markdown",
   "metadata": {},
   "source": [
    "How different do the means look to you? Is there evidence that the two groups of sampled data, set_A and set_B, come from populations with different means? Let's use the power of R to test this. \n",
    "\n",
    "## Hypothesis testing\n",
    "\n",
    "We're familiar with the t-test, and it is a sensible choice here. In the block below, enter the code to run a two-sample t-test assuming equal variance. (Why equal variance? Just to keep things simple. Plus, the variances (spread) look pretty similar in the plot, right?)\n"
   ]
  },
  {
   "cell_type": "code",
   "execution_count": 11,
   "metadata": {},
   "outputs": [
    {
     "data": {
      "text/plain": [
       "\n",
       "\tTwo Sample t-test\n",
       "\n",
       "data:  group_data$set_A and group_data$set_B\n",
       "t = -1.9845, df = 98, p-value = 0.05\n",
       "alternative hypothesis: true difference in means is not equal to 0\n",
       "95 percent confidence interval:\n",
       " -3.845224e+00 -1.926587e-05\n",
       "sample estimates:\n",
       " mean of x  mean of y \n",
       "-0.8492643  1.0733574 \n"
      ]
     },
     "metadata": {},
     "output_type": "display_data"
    }
   ],
   "source": [
    "t.test(x = group_data$set_A, y = group_data$set_B, var.equal = TRUE)\n"
   ]
  },
  {
   "cell_type": "markdown",
   "metadata": {},
   "source": [
    "In the block below, write the null hypothesis for this t-test:\n",
    "\n"
   ]
  },
  {
   "cell_type": "markdown",
   "metadata": {},
   "source": [
    "H_0 (null hypothesis): In the case where the two sets satisfy the variance homogeneity, there is no real difference in the mean between the two samples.\n",
    "\n"
   ]
  },
  {
   "cell_type": "markdown",
   "metadata": {},
   "source": [
    "Now try removing the equal variance assumption and see what happens. It's always reassuring when the results are robust to these types of choices. That said, when the p-value is close to the chosen significance threshold, even small effects may be consequential.\n",
    "\n",
    "The t-test returns a table of results, but it is also an object in R. Copy your code from above into the block below and assign the t-test to a variable\n"
   ]
  },
  {
   "cell_type": "code",
   "execution_count": 12,
   "metadata": {},
   "outputs": [
    {
     "name": "stdout",
     "output_type": "stream",
     "text": [
      "List of 10\n",
      " $ statistic  : Named num -1.98\n",
      "  ..- attr(*, \"names\")= chr \"t\"\n",
      " $ parameter  : Named num 95.9\n",
      "  ..- attr(*, \"names\")= chr \"df\"\n",
      " $ p.value    : num 0.0501\n",
      " $ conf.int   : num [1:2] -3.8457 0.0005\n",
      "  ..- attr(*, \"conf.level\")= num 0.95\n",
      " $ estimate   : Named num [1:2] -0.849 1.073\n",
      "  ..- attr(*, \"names\")= chr [1:2] \"mean of x\" \"mean of y\"\n",
      " $ null.value : Named num 0\n",
      "  ..- attr(*, \"names\")= chr \"difference in means\"\n",
      " $ stderr     : num 0.969\n",
      " $ alternative: chr \"two.sided\"\n",
      " $ method     : chr \"Welch Two Sample t-test\"\n",
      " $ data.name  : chr \"group_data$set_A and group_data$set_B\"\n",
      " - attr(*, \"class\")= chr \"htest\"\n"
     ]
    }
   ],
   "source": [
    "t_test_results <- t.test(x = group_data$set_A, y = group_data$set_B, var.equal = FALSE)\n",
    "str(t_test_results)\n"
   ]
  },
  {
   "cell_type": "markdown",
   "metadata": {},
   "source": [
    "The t-test is a list with 10 attributes, each of which can be accessed from the variable. In the block below, complete the code to assign the computed t statistic to the variable t_test_statistic.\n",
    "\n"
   ]
  },
  {
   "cell_type": "code",
   "execution_count": 13,
   "metadata": {},
   "outputs": [
    {
     "data": {
      "text/html": [
       "<strong>t:</strong> -1.98448734031235"
      ],
      "text/latex": [
       "\\textbf{t:} -1.98448734031235"
      ],
      "text/markdown": [
       "**t:** -1.98448734031235"
      ],
      "text/plain": [
       "        t \n",
       "-1.984487 "
      ]
     },
     "metadata": {},
     "output_type": "display_data"
    }
   ],
   "source": [
    "t_test_statistic <-  t_test_results$statistic\n",
    "t_test_statistic"
   ]
  },
  {
   "cell_type": "markdown",
   "metadata": {},
   "source": [
    "You'll have already noticed that the p-value is almost exactly 0.05. Now you've found that the t statistic is almost exactly -2. This is no accident. Now that we know about sampling distributions: what's the sampling distribution of the t statistic? Well, the answer is the t distribution! There are many t distributions, each defined by a number of degrees of freedom (here t_test_results$parameter = 98), and you'll probably recall from earlier statistics classes that the t distribution with many degrees of freedom looks a lot like the standard normal distribution. But don't take my word for it -- let's plot them in R:\n",
    "\n"
   ]
  },
  {
   "cell_type": "code",
   "execution_count": 14,
   "metadata": {},
   "outputs": [
    {
     "data": {
      "image/png": "[encoded data removed]",
      "text/plain": [
       "plot without title"
      ]
     },
     "metadata": {
      "image/png": {
       "height": 420,
       "width": 420
      }
     },
     "output_type": "display_data"
    }
   ],
   "source": [
    "ggplot(tibble(x = c(-4, 4)), aes(x = x)) + stat_function(fun = dt, args = list(df = 98),colour=\"red\") + stat_function(fun = dnorm, args = list(0,1),colour=\"blue\")\n"
   ]
  },
  {
   "cell_type": "markdown",
   "metadata": {},
   "source": [
    "Basically the same! With 98 degrees of freedom, there's not really any difference between using a t-test or a Z-test, and you can think about the t statistic in terms of the standard Normal distribution. In that context, how do we interpret a value of -2 (rounded from -1.98)? A value of -2 corresponds to two standard deviations less than the mean. To obtain a value as or more extreme by chance is to obtain a sample from the standard Normal distribution that is at least two standard deviations away from the mean zero. You'll recall that this happens only 5% of the time, which is why the p-value is 0.05.\n",
    "\n",
    "But what if we didn't know the sampling distribution of the t statistic under the null hypothesis?!?\n",
    "\n",
    "## Permutation testing\n",
    "\n",
    "Here is where you forget the statistics you learned in other classes. Let's just use some logic. We have two samples, A and B, each with 50 numbers, and we want to test whether there is a difference between the populations from which they arose. Remember that we are interested in what happens when the null hypothesis is true; that is, when the samples are actually drawn from the same population. We can model that by \"forgetting\" which numbers came from A and which numbers came from B, and then randomly assigning the 50 A and 50 B labels. This is the basis for a \"permutation test\", because is relies of the sampling distribution of the statistic when the labels are permuted.\n",
    "\n",
    "What exactly is a permutation? A permutation is just a reordering of the indices of a list/vector. See what happens when you run the code below.\n"
   ]
  },
  {
   "cell_type": "code",
   "execution_count": 15,
   "metadata": {},
   "outputs": [
    {
     "data": {
      "text/html": [
       "<style>\n",
       ".list-inline {list-style: none; margin:0; padding: 0}\n",
       ".list-inline>li {display: inline-block}\n",
       ".list-inline>li:not(:last-child)::after {content: \"\\00b7\"; padding: 0 .5ex}\n",
       "</style>\n",
       "<ol class=list-inline><li>'you'</li><li>'have'</li><li>'become'</li><li>'powerful'</li></ol>\n"
      ],
      "text/latex": [
       "\\begin{enumerate*}\n",
       "\\item 'you'\n",
       "\\item 'have'\n",
       "\\item 'become'\n",
       "\\item 'powerful'\n",
       "\\end{enumerate*}\n"
      ],
      "text/markdown": [
       "1. 'you'\n",
       "2. 'have'\n",
       "3. 'become'\n",
       "4. 'powerful'\n",
       "\n",
       "\n"
      ],
      "text/plain": [
       "[1] \"you\"      \"have\"     \"become\"   \"powerful\""
      ]
     },
     "metadata": {},
     "output_type": "display_data"
    },
    {
     "data": {
      "text/html": [
       "<style>\n",
       ".list-inline {list-style: none; margin:0; padding: 0}\n",
       ".list-inline>li {display: inline-block}\n",
       ".list-inline>li:not(:last-child)::after {content: \"\\00b7\"; padding: 0 .5ex}\n",
       "</style>\n",
       "<ol class=list-inline><li>'become'</li><li>'powerful'</li><li>'you'</li><li>'have'</li></ol>\n"
      ],
      "text/latex": [
       "\\begin{enumerate*}\n",
       "\\item 'become'\n",
       "\\item 'powerful'\n",
       "\\item 'you'\n",
       "\\item 'have'\n",
       "\\end{enumerate*}\n"
      ],
      "text/markdown": [
       "1. 'become'\n",
       "2. 'powerful'\n",
       "3. 'you'\n",
       "4. 'have'\n",
       "\n",
       "\n"
      ],
      "text/plain": [
       "[1] \"become\"   \"powerful\" \"you\"      \"have\"    "
      ]
     },
     "metadata": {},
     "output_type": "display_data"
    }
   ],
   "source": [
    "sentence <- c(\"you\",\"have\",\"become\",\"powerful\")\n",
    "sentence\n",
    "sentence[c(3,4,1,2)]\n"
   ]
  },
  {
   "cell_type": "markdown",
   "metadata": {},
   "source": [
    "Here we have rearranged a sentence by permuting its indices so that the new word order is 3,4,1,2. We can also choose a random permutation by sampling the numbers 1:4 without replacement. Complete the code block below to do this, and then run it a few times to observe how the permuted_sentence changes. This is how we are going to randomise our data.\n",
    "\n"
   ]
  },
  {
   "cell_type": "code",
   "execution_count": 16,
   "metadata": {},
   "outputs": [
    {
     "data": {
      "text/html": [
       "<style>\n",
       ".list-inline {list-style: none; margin:0; padding: 0}\n",
       ".list-inline>li {display: inline-block}\n",
       ".list-inline>li:not(:last-child)::after {content: \"\\00b7\"; padding: 0 .5ex}\n",
       "</style>\n",
       "<ol class=list-inline><li>'have'</li><li>'you'</li><li>'powerful'</li><li>'become'</li></ol>\n"
      ],
      "text/latex": [
       "\\begin{enumerate*}\n",
       "\\item 'have'\n",
       "\\item 'you'\n",
       "\\item 'powerful'\n",
       "\\item 'become'\n",
       "\\end{enumerate*}\n"
      ],
      "text/markdown": [
       "1. 'have'\n",
       "2. 'you'\n",
       "3. 'powerful'\n",
       "4. 'become'\n",
       "\n",
       "\n"
      ],
      "text/plain": [
       "[1] \"have\"     \"you\"      \"powerful\" \"become\"  "
      ]
     },
     "metadata": {},
     "output_type": "display_data"
    }
   ],
   "source": [
    "permuted_sentence <- sentence[sample(4,replace=F)]\n",
    "permuted_sentence\n"
   ]
  },
  {
   "cell_type": "markdown",
   "metadata": {},
   "source": [
    "Now let's try this out on our data. Recall that new_group_data is a 100x2 tibble such that:\n",
    "\n",
    "    Column 1, named \"ID\", contains the letter A or B to indicate group membership\n",
    "    Column 2, named value, contains the corresponding number from group_data\n",
    "    \n",
    "To randomise the assignment of value to ID, we just need to permute either of the two columns. Complete the code block below to create a permuted version of the tibble called \"permuted_group_data\" by permuting the ID column.\n"
   ]
  },
  {
   "cell_type": "code",
   "execution_count": 17,
   "metadata": {},
   "outputs": [
    {
     "data": {
      "text/html": [
       "<table class=\"dataframe\">\n",
       "<caption>A tibble: 6 × 2</caption>\n",
       "<thead>\n",
       "\t<tr><th scope=col>ID</th><th scope=col>value</th></tr>\n",
       "\t<tr><th scope=col>&lt;chr&gt;</th><th scope=col>&lt;dbl&gt;</th></tr>\n",
       "</thead>\n",
       "<tbody>\n",
       "\t<tr><td>A</td><td> 3.943158</td></tr>\n",
       "\t<tr><td>A</td><td> 4.803361</td></tr>\n",
       "\t<tr><td>A</td><td> 2.418920</td></tr>\n",
       "\t<tr><td>B</td><td> 7.552183</td></tr>\n",
       "\t<tr><td>A</td><td>-6.652132</td></tr>\n",
       "\t<tr><td>A</td><td> 4.981480</td></tr>\n",
       "</tbody>\n",
       "</table>\n"
      ],
      "text/latex": [
       "A tibble: 6 × 2\n",
       "\\begin{tabular}{ll}\n",
       " ID & value\\\\\n",
       " <chr> & <dbl>\\\\\n",
       "\\hline\n",
       "\t A &  3.943158\\\\\n",
       "\t A &  4.803361\\\\\n",
       "\t A &  2.418920\\\\\n",
       "\t B &  7.552183\\\\\n",
       "\t A & -6.652132\\\\\n",
       "\t A &  4.981480\\\\\n",
       "\\end{tabular}\n"
      ],
      "text/markdown": [
       "\n",
       "A tibble: 6 × 2\n",
       "\n",
       "| ID &lt;chr&gt; | value &lt;dbl&gt; |\n",
       "|---|---|\n",
       "| A |  3.943158 |\n",
       "| A |  4.803361 |\n",
       "| A |  2.418920 |\n",
       "| B |  7.552183 |\n",
       "| A | -6.652132 |\n",
       "| A |  4.981480 |\n",
       "\n"
      ],
      "text/plain": [
       "  ID value    \n",
       "1 A   3.943158\n",
       "2 A   4.803361\n",
       "3 A   2.418920\n",
       "4 B   7.552183\n",
       "5 A  -6.652132\n",
       "6 A   4.981480"
      ]
     },
     "metadata": {},
     "output_type": "display_data"
    }
   ],
   "source": [
    "permutation <- sample(100,replace = F)\n",
    "permuted_group_data <- new_group_data\n",
    "permuted_group_data$ID <- permuted_group_data$ID[permutation]\n",
    "head(permuted_group_data)"
   ]
  },
  {
   "cell_type": "markdown",
   "metadata": {},
   "source": [
    "Now pretend that this is our real data and repeat the t-test from before.\n",
    "\n"
   ]
  },
  {
   "cell_type": "code",
   "execution_count": 18,
   "metadata": {},
   "outputs": [
    {
     "name": "stdout",
     "output_type": "stream",
     "text": [
      "List of 10\n",
      " $ statistic  : Named num -0.102\n",
      "  ..- attr(*, \"names\")= chr \"t\"\n",
      " $ parameter  : Named num 98\n",
      "  ..- attr(*, \"names\")= chr \"df\"\n",
      " $ p.value    : num 0.919\n",
      " $ conf.int   : num [1:2] -2.06 1.86\n",
      "  ..- attr(*, \"conf.level\")= num 0.95\n",
      " $ estimate   : Named num [1:2] 0.0618 0.1623\n",
      "  ..- attr(*, \"names\")= chr [1:2] \"mean of x\" \"mean of y\"\n",
      " $ null.value : Named num 0\n",
      "  ..- attr(*, \"names\")= chr \"difference in means\"\n",
      " $ stderr     : num 0.988\n",
      " $ alternative: chr \"two.sided\"\n",
      " $ method     : chr \" Two Sample t-test\"\n",
      " $ data.name  : chr \"permuted_group_data$value[which(permuted_group_data$ID == \\\"A\\\")] and permuted_group_data$value[which(permuted_\"| __truncated__\n",
      " - attr(*, \"class\")= chr \"htest\"\n"
     ]
    }
   ],
   "source": [
    "permuted_t_test_results <- t.test(permuted_group_data$value[which(permuted_group_data$ID==\"A\")],permuted_group_data$value[which(permuted_group_data$ID==\"B\")],var.equal=T)\n",
    "str(permuted_t_test_results)\n",
    "permuted_t_test_statistic <- permuted_t_test_results$statistic\n"
   ]
  },
  {
   "cell_type": "markdown",
   "metadata": {},
   "source": [
    "There are many ways to accomplish what was done by the two code blocks above. The tidyverse command \"mutate\" makes the permutation easy as shown in the code block below.\n",
    "\n"
   ]
  },
  {
   "cell_type": "code",
   "execution_count": 19,
   "metadata": {},
   "outputs": [
    {
     "data": {
      "text/html": [
       "<table class=\"dataframe\">\n",
       "<caption>A tibble: 5 × 2</caption>\n",
       "<thead>\n",
       "\t<tr><th scope=col>ID</th><th scope=col>value</th></tr>\n",
       "\t<tr><th scope=col>&lt;chr&gt;</th><th scope=col>&lt;dbl&gt;</th></tr>\n",
       "</thead>\n",
       "<tbody>\n",
       "\t<tr><td>A</td><td> 3.943158</td></tr>\n",
       "\t<tr><td>A</td><td> 4.803361</td></tr>\n",
       "\t<tr><td>B</td><td> 2.418920</td></tr>\n",
       "\t<tr><td>B</td><td> 7.552183</td></tr>\n",
       "\t<tr><td>A</td><td>-6.652132</td></tr>\n",
       "</tbody>\n",
       "</table>\n"
      ],
      "text/latex": [
       "A tibble: 5 × 2\n",
       "\\begin{tabular}{ll}\n",
       " ID & value\\\\\n",
       " <chr> & <dbl>\\\\\n",
       "\\hline\n",
       "\t A &  3.943158\\\\\n",
       "\t A &  4.803361\\\\\n",
       "\t B &  2.418920\\\\\n",
       "\t B &  7.552183\\\\\n",
       "\t A & -6.652132\\\\\n",
       "\\end{tabular}\n"
      ],
      "text/markdown": [
       "\n",
       "A tibble: 5 × 2\n",
       "\n",
       "| ID &lt;chr&gt; | value &lt;dbl&gt; |\n",
       "|---|---|\n",
       "| A |  3.943158 |\n",
       "| A |  4.803361 |\n",
       "| B |  2.418920 |\n",
       "| B |  7.552183 |\n",
       "| A | -6.652132 |\n",
       "\n"
      ],
      "text/plain": [
       "  ID value    \n",
       "1 A   3.943158\n",
       "2 A   4.803361\n",
       "3 B   2.418920\n",
       "4 B   7.552183\n",
       "5 A  -6.652132"
      ]
     },
     "metadata": {},
     "output_type": "display_data"
    }
   ],
   "source": [
    "new_group_data %>% mutate(ID = ID[sample(row_number())]) %>% head(5)\n",
    "\n"
   ]
  },
  {
   "cell_type": "markdown",
   "metadata": {},
   "source": [
    "Note, however, that this doesn't change new_group_data, nor does it assign the permuted table to a new variable. To mirror our non-tidy approach, we would need to add the assignment as in the code block below. Each time this code block is run, the results will change.\n",
    "\n"
   ]
  },
  {
   "cell_type": "code",
   "execution_count": 20,
   "metadata": {},
   "outputs": [
    {
     "data": {
      "text/html": [
       "<table class=\"dataframe\">\n",
       "<caption>A tibble: 6 × 2</caption>\n",
       "<thead>\n",
       "\t<tr><th scope=col>ID</th><th scope=col>value</th></tr>\n",
       "\t<tr><th scope=col>&lt;chr&gt;</th><th scope=col>&lt;dbl&gt;</th></tr>\n",
       "</thead>\n",
       "<tbody>\n",
       "\t<tr><td>A</td><td> 3.943158</td></tr>\n",
       "\t<tr><td>B</td><td> 4.803361</td></tr>\n",
       "\t<tr><td>A</td><td> 2.418920</td></tr>\n",
       "\t<tr><td>B</td><td> 7.552183</td></tr>\n",
       "\t<tr><td>B</td><td>-6.652132</td></tr>\n",
       "\t<tr><td>B</td><td> 4.981480</td></tr>\n",
       "</tbody>\n",
       "</table>\n"
      ],
      "text/latex": [
       "A tibble: 6 × 2\n",
       "\\begin{tabular}{ll}\n",
       " ID & value\\\\\n",
       " <chr> & <dbl>\\\\\n",
       "\\hline\n",
       "\t A &  3.943158\\\\\n",
       "\t B &  4.803361\\\\\n",
       "\t A &  2.418920\\\\\n",
       "\t B &  7.552183\\\\\n",
       "\t B & -6.652132\\\\\n",
       "\t B &  4.981480\\\\\n",
       "\\end{tabular}\n"
      ],
      "text/markdown": [
       "\n",
       "A tibble: 6 × 2\n",
       "\n",
       "| ID &lt;chr&gt; | value &lt;dbl&gt; |\n",
       "|---|---|\n",
       "| A |  3.943158 |\n",
       "| B |  4.803361 |\n",
       "| A |  2.418920 |\n",
       "| B |  7.552183 |\n",
       "| B | -6.652132 |\n",
       "| B |  4.981480 |\n",
       "\n"
      ],
      "text/plain": [
       "  ID value    \n",
       "1 A   3.943158\n",
       "2 B   4.803361\n",
       "3 A   2.418920\n",
       "4 B   7.552183\n",
       "5 B  -6.652132\n",
       "6 B   4.981480"
      ]
     },
     "metadata": {},
     "output_type": "display_data"
    }
   ],
   "source": [
    "permuted_group_data <- new_group_data %>% mutate(ID = ID[sample(row_number())])\n",
    "head(permuted_group_data)\n"
   ]
  },
  {
   "cell_type": "markdown",
   "metadata": {},
   "source": [
    "The key quantity of interest is the t statistic. Having observed the value -1.98, we want to know how extreme that is in terms of its sampling distribution. We already have one draw from that sampling distribution:\n",
    "\n"
   ]
  },
  {
   "cell_type": "code",
   "execution_count": 21,
   "metadata": {},
   "outputs": [
    {
     "data": {
      "text/html": [
       "<strong>t:</strong> -0.101624714603837"
      ],
      "text/latex": [
       "\\textbf{t:} -0.101624714603837"
      ],
      "text/markdown": [
       "**t:** -0.101624714603837"
      ],
      "text/plain": [
       "         t \n",
       "-0.1016247 "
      ]
     },
     "metadata": {},
     "output_type": "display_data"
    }
   ],
   "source": [
    "permuted_t_test_statistic\n"
   ]
  },
  {
   "cell_type": "markdown",
   "metadata": {},
   "source": [
    "Now we just need to repeat this many times. We'll follow the approach introduced previously and wrap the code in a for loop. The code block below is functional and will run, though it may take a minute to finish. (If it takes too long, you can always decrease the value of n_reps.) To complete the code block, add comments above each line of code as indicated to describe what that line is doing.\n",
    "\n"
   ]
  },
  {
   "cell_type": "code",
   "execution_count": 22,
   "metadata": {},
   "outputs": [],
   "source": [
    "# define number of cycles\n",
    "n_reps <- 10000\n",
    "# generate blank vectors to save t value in cycles\n",
    "samp_dist <- rep(0,n_reps)\n",
    "# Loop to generate t-values\n",
    "for (i in 1:n_reps)\n",
    "{\n",
    "    # Assign different ids randomly\n",
    "    permuted_group_data <- new_group_data %>% mutate(ID = ID[sample(row_number())])\n",
    "    # t-test performed for this loop\n",
    "    permuted_t_test_results <- t.test(permuted_group_data$value[which(permuted_group_data$ID==\"A\")],permuted_group_data$value[which(permuted_group_data$ID==\"B\")],var.equal=T)\n",
    "# add t-value to vector\n",
    "    samp_dist[i] <- permuted_t_test_results$statistic\n",
    "}\n"
   ]
  },
  {
   "cell_type": "markdown",
   "metadata": {},
   "source": [
    "Let's review where we are. From our original data, we computed a t statistic to quantify the difference between the sample means. We used the t.test function to do so, but we did not actually use the \"test\" part; instead, we just used it to calculate the t statistic. To demonstrate this, here's the calculation done the long way:\n",
    "\n"
   ]
  },
  {
   "cell_type": "code",
   "execution_count": 23,
   "metadata": {},
   "outputs": [],
   "source": [
    "set_A <- group_data$set_A\n",
    "set_B <- group_data$set_B\n",
    "mean_A <- mean(group_data$set_A)\n",
    "mean_B <- mean(group_data$set_B)\n",
    "pooled_sd <- sd(c(set_A-mean_A,set_B-mean_B))\n",
    "t_stat <- ((mean_A - mean_B)/pooled_sd) / (sqrt(1/50 + 1/50) * sqrt((50+50-1)/(50-1+50-1)))\n"
   ]
  },
  {
   "cell_type": "markdown",
   "metadata": {},
   "source": [
    "The value of t_stat is the same as that of t_test_statistic calculated using the t.test function. Note how t_stat was calculated just above. The first part of the equation, ((mean_A - mean_B)/pooled_sd), is the effect size and estimates the standardised mean difference between the populations. This is then scaled by a function of the sample size to compute the t statistic.\n",
    "\n",
    "A permutation approach was used to generate 10000 (n_reps) random t statistics from the sampling distribution under the null hypothesis. We are interested in what fraction of these 10000 are more extreme than the value computed for our original data. The code block below visualises this in a plot. Add a detailed comment above each line to explain what the code is doing.\n"
   ]
  },
  {
   "cell_type": "code",
   "execution_count": 24,
   "metadata": {},
   "outputs": [
    {
     "data": {
      "image/png": "[encoded data removed]",
      "text/plain": [
       "plot without title"
      ]
     },
     "metadata": {
      "image/png": {
       "height": 420,
       "width": 420
      }
     },
     "output_type": "display_data"
    }
   ],
   "source": [
    "# Set the absolute value of t-statistic greater than that of t-test as the extreme value\n",
    "plot_tibble <- tibble(value = samp_dist,extreme = (abs(samp_dist) > abs(t_test_statistic)))\n",
    "# plot the hisogram with difference colors between normal and extreme values\n",
    "ggplot(plot_tibble,aes(x=value,fill=extreme))+geom_histogram(bins=200)\n"
   ]
  },
  {
   "cell_type": "markdown",
   "metadata": {},
   "source": [
    "Finally, we can compute a p-value. (We call this an \"empirical p-value\" because it is not computed from the theoretical sampling distribution.) The p-value here is simply the proportion of value in the sampling distribution that are more extreme than the observed value. Complete the code block to compute the p-value.\n",
    "\n"
   ]
  },
  {
   "cell_type": "code",
   "execution_count": 25,
   "metadata": {},
   "outputs": [
    {
     "data": {
      "text/html": [
       "0.0508"
      ],
      "text/latex": [
       "0.0508"
      ],
      "text/markdown": [
       "0.0508"
      ],
      "text/plain": [
       "[1] 0.0508"
      ]
     },
     "metadata": {},
     "output_type": "display_data"
    }
   ],
   "source": [
    "permutation_pvalue <- sum(plot_tibble$extreme)/length(plot_tibble$extreme)\n",
    "permutation_pvalue"
   ]
  },
  {
   "cell_type": "markdown",
   "metadata": {},
   "source": [
    "How does this compare to p-value computed using the actual t-test?\n",
    "\n"
   ]
  },
  {
   "cell_type": "code",
   "execution_count": 26,
   "metadata": {},
   "outputs": [
    {
     "data": {
      "text/html": [
       "<table class=\"dataframe\">\n",
       "<caption>A tibble: 1 × 2</caption>\n",
       "<thead>\n",
       "\t<tr><th scope=col>permutation_pvalue</th><th scope=col>t_test_results$p.value</th></tr>\n",
       "\t<tr><th scope=col>&lt;dbl&gt;</th><th scope=col>&lt;dbl&gt;</th></tr>\n",
       "</thead>\n",
       "<tbody>\n",
       "\t<tr><td>0.0508</td><td>0.05005847</td></tr>\n",
       "</tbody>\n",
       "</table>\n"
      ],
      "text/latex": [
       "A tibble: 1 × 2\n",
       "\\begin{tabular}{ll}\n",
       " permutation\\_pvalue & t\\_test\\_results\\$p.value\\\\\n",
       " <dbl> & <dbl>\\\\\n",
       "\\hline\n",
       "\t 0.0508 & 0.05005847\\\\\n",
       "\\end{tabular}\n"
      ],
      "text/markdown": [
       "\n",
       "A tibble: 1 × 2\n",
       "\n",
       "| permutation_pvalue &lt;dbl&gt; | t_test_results$p.value &lt;dbl&gt; |\n",
       "|---|---|\n",
       "| 0.0508 | 0.05005847 |\n",
       "\n"
      ],
      "text/plain": [
       "  permutation_pvalue t_test_results$p.value\n",
       "1 0.0508             0.05005847            "
      ]
     },
     "metadata": {},
     "output_type": "display_data"
    }
   ],
   "source": [
    "tibble(permutation_pvalue,t_test_results$p.value)"
   ]
  },
  {
   "cell_type": "markdown",
   "metadata": {},
   "source": [
    "Finally, let's make a visual comparison or our permutation sampling distribution to the theoretical sampling distribution (a t-distribution with 98 df):\n",
    "\n"
   ]
  },
  {
   "cell_type": "code",
   "execution_count": 27,
   "metadata": {},
   "outputs": [
    {
     "data": {
      "image/png": "[encoded data removed]",
      "text/plain": [
       "plot without title"
      ]
     },
     "metadata": {
      "image/png": {
       "height": 420,
       "width": 420
      }
     },
     "output_type": "display_data"
    }
   ],
   "source": [
    "ggplot(plot_tibble, aes(x = value)) + geom_histogram(aes(y = ..density..),bins=50) + stat_function(fun = dt, args = list(df = 98),colour=\"red\")\n",
    "\n"
   ]
  },
  {
   "cell_type": "markdown",
   "metadata": {},
   "source": [
    "That is satisfying, isn't it? What is nice about the permutation approach is that it can be used when the theoretical sampling distribution is unknown. But that doesn't mean that the approach can always be used. In the code block below, list at least one case when the permutation approach would not be a good idea.\n",
    "\n"
   ]
  },
  {
   "cell_type": "markdown",
   "metadata": {},
   "source": [
    "The permutation approach would not be a good idea when in condition of the sample is non-exchangeable such as time series data or relative data.\n"
   ]
  },
  {
   "cell_type": "markdown",
   "metadata": {},
   "source": [
    "\n"
   ]
  }
 ],
 "metadata": {
  "anaconda-cloud": "",
  "kernelspec": {
   "display_name": "R",
   "language": "R",
   "name": "ir"
  },
  "language_info": {
   "codemirror_mode": "r",
   "file_extension": ".r",
   "mimetype": "text/x-r-source",
   "name": "R",
   "pygments_lexer": "r",
   "version": "4.1.3"
  }
 },
 "nbformat": 4,
 "nbformat_minor": 4
}
