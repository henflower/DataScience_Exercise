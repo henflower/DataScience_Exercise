{
 "cells": [
  {
   "cell_type": "code",
   "execution_count": 3,
   "id": "0120f0e8-c9c6-4cd5-8844-4b45a4023312",
   "metadata": {},
   "outputs": [
    {
     "data": {
      "text/html": [
       "<table class=\"dataframe\">\n",
       "<caption>A data.frame: 1 × 7</caption>\n",
       "<thead>\n",
       "\t<tr><th></th><th scope=col>size</th><th scope=col>isdir</th><th scope=col>mode</th><th scope=col>mtime</th><th scope=col>ctime</th><th scope=col>atime</th><th scope=col>exe</th></tr>\n",
       "\t<tr><th></th><th scope=col>&lt;dbl&gt;</th><th scope=col>&lt;lgl&gt;</th><th scope=col>&lt;octmode&gt;</th><th scope=col>&lt;dttm&gt;</th><th scope=col>&lt;dttm&gt;</th><th scope=col>&lt;dttm&gt;</th><th scope=col>&lt;chr&gt;</th></tr>\n",
       "</thead>\n",
       "<tbody>\n",
       "\t<tr><th scope=row>1.rmd</th><td>19436</td><td>FALSE</td><td>666</td><td>2022-08-28 21:03:26</td><td>2022-08-28 21:03:21</td><td>2022-08-28 21:27:13</td><td>no</td></tr>\n",
       "</tbody>\n",
       "</table>\n"
      ],
      "text/latex": [
       "A data.frame: 1 × 7\n",
       "\\begin{tabular}{r|lllllll}\n",
       "  & size & isdir & mode & mtime & ctime & atime & exe\\\\\n",
       "  & <dbl> & <lgl> & <octmode> & <dttm> & <dttm> & <dttm> & <chr>\\\\\n",
       "\\hline\n",
       "\t1.rmd & 19436 & FALSE & 666 & 2022-08-28 21:03:26 & 2022-08-28 21:03:21 & 2022-08-28 21:27:13 & no\\\\\n",
       "\\end{tabular}\n"
      ],
      "text/markdown": [
       "\n",
       "A data.frame: 1 × 7\n",
       "\n",
       "| <!--/--> | size &lt;dbl&gt; | isdir &lt;lgl&gt; | mode &lt;octmode&gt; | mtime &lt;dttm&gt; | ctime &lt;dttm&gt; | atime &lt;dttm&gt; | exe &lt;chr&gt; |\n",
       "|---|---|---|---|---|---|---|---|\n",
       "| 1.rmd | 19436 | FALSE | 666 | 2022-08-28 21:03:26 | 2022-08-28 21:03:21 | 2022-08-28 21:27:13 | no |\n",
       "\n"
      ],
      "text/plain": [
       "      size  isdir mode mtime               ctime              \n",
       "1.rmd 19436 FALSE 666  2022-08-28 21:03:26 2022-08-28 21:03:21\n",
       "      atime               exe\n",
       "1.rmd 2022-08-28 21:27:13 no "
      ]
     },
     "metadata": {},
     "output_type": "display_data"
    }
   ],
   "source": [
    "path = \"1.rmd\""
   ]
  },
  {
   "cell_type": "code",
   "execution_count": 4,
   "id": "61bbf9b2-9ac2-4c3b-ba5a-4d07a3418ddd",
   "metadata": {},
   "outputs": [
    {
     "name": "stderr",
     "output_type": "stream",
     "text": [
      "file saved as 1.rmd\n",
      "\n"
     ]
    }
   ],
   "source": [
    "library(rmd2jupyter)\n",
    "rmd2jupyter(path)"
   ]
  },
  {
   "cell_type": "code",
   "execution_count": null,
   "id": "fd517e65-5bbc-4aff-a2b1-7dc41fe0fb72",
   "metadata": {},
   "outputs": [],
   "source": [
    "input = \"TwoSample_student.ipynb\"\n",
    "rmarkdown::convert_ipynb(path, output = xfun::with_ext(input, \"Rmd\"))"
   ]
  }
 ],
 "metadata": {
  "kernelspec": {
   "display_name": "R",
   "language": "R",
   "name": "ir"
  },
  "language_info": {
   "codemirror_mode": "r",
   "file_extension": ".r",
   "mimetype": "text/x-r-source",
   "name": "R",
   "pygments_lexer": "r",
   "version": "4.1.3"
  }
 },
 "nbformat": 4,
 "nbformat_minor": 5
}
