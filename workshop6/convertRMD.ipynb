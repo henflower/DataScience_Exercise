{
 "cells": [
  {
   "cell_type": "code",
   "execution_count": 1,
   "id": "0120f0e8-c9c6-4cd5-8844-4b45a4023312",
   "metadata": {},
   "outputs": [],
   "source": [
    "path = \"git_fishes_student.Rmd\""
   ]
  },
  {
   "cell_type": "code",
   "execution_count": 2,
   "id": "61bbf9b2-9ac2-4c3b-ba5a-4d07a3418ddd",
   "metadata": {},
   "outputs": [
    {
     "name": "stderr",
     "output_type": "stream",
     "text": [
      "file saved as git_fishes_student.ipynb\n",
      "\n"
     ]
    }
   ],
   "source": [
    "library(rmd2jupyter)\n",
    "rmd2jupyter(path)"
   ]
  },
  {
   "cell_type": "code",
   "execution_count": 1,
   "id": "fd517e65-5bbc-4aff-a2b1-7dc41fe0fb72",
   "metadata": {},
   "outputs": [],
   "source": [
    "input = \"workshop6.ipynb\"\n",
    "rmarkdown::convert_ipynb(input)"
   ]
  },
  {
   "cell_type": "code",
   "execution_count": null,
   "id": "f1b0659e-be7e-461b-978d-fe3964b9f8c0",
   "metadata": {},
   "outputs": [],
   "source": []
  }
 ],
 "metadata": {
  "kernelspec": {
   "display_name": "R",
   "language": "R",
   "name": "ir"
  },
  "language_info": {
   "codemirror_mode": "r",
   "file_extension": ".r",
   "mimetype": "text/x-r-source",
   "name": "R",
   "pygments_lexer": "r",
   "version": "4.1.3"
  }
 },
 "nbformat": 4,
 "nbformat_minor": 5
}
