{
 "cells": [
  {
   "cell_type": "code",
   "execution_count": 29,
   "id": "5bacd31d-a5c2-44dc-a61d-87944fd4aecf",
   "metadata": {
    "tags": []
   },
   "outputs": [],
   "source": [
    "# R script for analyses of activity levels #\n",
    "\n",
    "#setwd('')\n",
    "\n",
    "\n",
    "# import data\n",
    "oaa <- read.csv('./OA_activitydat_20190302_BIOL3207.csv', header=TRUE)\n",
    "library(car)\n",
    "library(MASS)"
   ]
  },
  {
   "cell_type": "code",
   "execution_count": 30,
   "id": "9e042e14-b760-491d-a049-30753c2f7b49",
   "metadata": {
    "collapsed": true,
    "jupyter": {
     "outputs_hidden": true
    },
    "tags": []
   },
   "outputs": [
    {
     "name": "stdout",
     "output_type": "stream",
     "text": [
      "'data.frame':\t589 obs. of  9 variables:\n",
      " $ X        : int  1 2 3 4 5 6 7 8 9 10 ...\n",
      " $ loc      : chr  \"LIRS 2014\" \"LIRS 2014\" \"LIRS 2014\" \"LIRS 2014\" ...\n",
      " $ species  : chr  \"ambon\" \"ambon\" \"ambon\" \"ambon\" ...\n",
      " $ treatment: Factor w/ 2 levels \"control\",\"CO2\": 2 2 2 2 2 2 2 2 2 2 ...\n",
      " $ animal_id: int  64 65 67 68 74 75 81 84 222 85 ...\n",
      " $ sl       : num  57 38.2 39.3 36.1 36.4 ...\n",
      " $ size     : chr  \"big\" \"big\" \"big\" \"big\" ...\n",
      " $ activity : num  8.15 10.51 6.51 27.84 36.68 ...\n",
      " $ comment  : chr  \"27min means of sml+lrg dur, from All Lizard activity data for JJ v2_7 Jun 2017.xlsx\" \"27min means of sml+lrg dur, from All Lizard activity data for JJ v2_7 Jun 2017.xlsx\" \"27min means of sml+lrg dur, from All Lizard activity data for JJ v2_7 Jun 2017.xlsx\" \"27min means of sml+lrg dur, from All Lizard activity data for JJ v2_7 Jun 2017.xlsx\" ...\n"
     ]
    },
    {
     "data": {
      "text/plain": [
       ", , size = big\n",
       "\n",
       "           loc\n",
       "species     AIMS 2015 LIRS 2014 LIRS 2016\n",
       "  acantho           0        18        53\n",
       "  ambon             0        44         0\n",
       "  chromis           0        34         0\n",
       "  humbug            0        48        94\n",
       "  lemon             0        51         0\n",
       "  whitedams         0         0        52\n",
       "\n",
       ", , size = small\n",
       "\n",
       "           loc\n",
       "species     AIMS 2015 LIRS 2014 LIRS 2016\n",
       "  acantho          66         0        59\n",
       "  ambon             0         0         0\n",
       "  chromis           0         0         0\n",
       "  humbug            0         0         0\n",
       "  lemon             0         0         0\n",
       "  whitedams         0         0        70\n"
      ]
     },
     "metadata": {},
     "output_type": "display_data"
    }
   ],
   "source": [
    "# format dataframe\n",
    "{\n",
    "oaa$comment <- as.character(oaa$comment)\n",
    "oaa$animal_id <- as.character(oaa$animal_id)\n",
    "oaa$animal_id <- as.integer(oaa$animal_id)\n",
    "oaa$loc <- as.character(oaa$loc)\n",
    "oaa$species <- as.character(oaa$species)\n",
    "oaa$species <- tolower(oaa$species)\n",
    "oaa$treatment <- relevel(as.factor(oaa$treatment), 'control')\n",
    "}\n",
    "\n",
    "#inspect data\n",
    "str(oaa)\n",
    "with(oaa, table(species, loc, size))"
   ]
  },
  {
   "cell_type": "code",
   "execution_count": 31,
   "id": "c7ed3e9e-c802-4875-bc4a-b19ad332535e",
   "metadata": {},
   "outputs": [
    {
     "data": {
      "text/plain": [
       "           treatment\n",
       "loc         control CO2\n",
       "  AIMS 2015      28  38\n",
       "  LIRS 2014      10   8\n",
       "  LIRS 2016      63  49"
      ]
     },
     "metadata": {},
     "output_type": "display_data"
    }
   ],
   "source": [
    "# linear models looking at fish length (sl = standard length) and treatment\n",
    "# separate models by year (= loccation) and species\n",
    "\n",
    "# acanthochromis\n",
    "\n",
    "acdat <- oaa[oaa$species=='acantho',]\n",
    "with(acdat, table(loc, treatment))\n"
   ]
  },
  {
   "cell_type": "code",
   "execution_count": 32,
   "id": "c5dd751c-33fa-40bf-83c4-908253a95684",
   "metadata": {},
   "outputs": [
    {
     "data": {
      "text/html": [
       "<table class=\"dataframe\">\n",
       "<caption>A anova: 2 × 6</caption>\n",
       "<thead>\n",
       "\t<tr><th></th><th scope=col>Df</th><th scope=col>Sum of Sq</th><th scope=col>RSS</th><th scope=col>AIC</th><th scope=col>F value</th><th scope=col>Pr(&gt;F)</th></tr>\n",
       "\t<tr><th></th><th scope=col>&lt;dbl&gt;</th><th scope=col>&lt;dbl&gt;</th><th scope=col>&lt;dbl&gt;</th><th scope=col>&lt;dbl&gt;</th><th scope=col>&lt;dbl&gt;</th><th scope=col>&lt;dbl&gt;</th></tr>\n",
       "</thead>\n",
       "<tbody>\n",
       "\t<tr><th scope=row>&lt;none&gt;</th><td>NA</td><td>      NA</td><td>390.4987</td><td>59.11737</td><td>      NA</td><td>        NA</td></tr>\n",
       "\t<tr><th scope=row>treatment:sl</th><td> 1</td><td>116.0402</td><td>506.5389</td><td>61.28020</td><td>3.565907</td><td>0.08338531</td></tr>\n",
       "</tbody>\n",
       "</table>\n"
      ],
      "text/latex": [
       "A anova: 2 × 6\n",
       "\\begin{tabular}{r|llllll}\n",
       "  & Df & Sum of Sq & RSS & AIC & F value & Pr(>F)\\\\\n",
       "  & <dbl> & <dbl> & <dbl> & <dbl> & <dbl> & <dbl>\\\\\n",
       "\\hline\n",
       "\t<none> & NA &       NA & 390.4987 & 59.11737 &       NA &         NA\\\\\n",
       "\ttreatment:sl &  1 & 116.0402 & 506.5389 & 61.28020 & 3.565907 & 0.08338531\\\\\n",
       "\\end{tabular}\n"
      ],
      "text/markdown": [
       "\n",
       "A anova: 2 × 6\n",
       "\n",
       "| <!--/--> | Df &lt;dbl&gt; | Sum of Sq &lt;dbl&gt; | RSS &lt;dbl&gt; | AIC &lt;dbl&gt; | F value &lt;dbl&gt; | Pr(&gt;F) &lt;dbl&gt; |\n",
       "|---|---|---|---|---|---|---|\n",
       "| &lt;none&gt; | NA |       NA | 390.4987 | 59.11737 |       NA |         NA |\n",
       "| treatment:sl |  1 | 116.0402 | 506.5389 | 61.28020 | 3.565907 | 0.08338531 |\n",
       "\n"
      ],
      "text/plain": [
       "             Df Sum of Sq RSS      AIC      F value  Pr(>F)    \n",
       "<none>       NA       NA  390.4987 59.11737       NA         NA\n",
       "treatment:sl  1 116.0402  506.5389 61.28020 3.565907 0.08338531"
      ]
     },
     "metadata": {},
     "output_type": "display_data"
    },
    {
     "data": {
      "text/plain": [
       "\n",
       "Call:\n",
       "lm(formula = activity ~ treatment + sl, data = foo)\n",
       "\n",
       "Residuals:\n",
       "     Min       1Q   Median       3Q      Max \n",
       "-11.1311  -3.9870   0.7737   3.2205  12.2490 \n",
       "\n",
       "Coefficients:\n",
       "             Estimate Std. Error t value Pr(>|t|)    \n",
       "(Intercept)   48.1100     7.8079   6.162 3.42e-05 ***\n",
       "treatmentCO2   9.6563     3.1215   3.093 0.008553 ** \n",
       "sl            -0.5944     0.1125  -5.282 0.000148 ***\n",
       "---\n",
       "Signif. codes:  0 '***' 0.001 '**' 0.01 '*' 0.05 '.' 0.1 ' ' 1\n",
       "\n",
       "Residual standard error: 6.242 on 13 degrees of freedom\n",
       "  (2 observations deleted due to missingness)\n",
       "Multiple R-squared:  0.7451,\tAdjusted R-squared:  0.7059 \n",
       "F-statistic:    19 on 2 and 13 DF,  p-value: 0.0001383\n"
      ]
     },
     "metadata": {},
     "output_type": "display_data"
    }
   ],
   "source": [
    "#2014 data\n",
    "foo <- acdat[acdat$loc=='LIRS 2014',]\n",
    "ac100 <- lm(activity ~ treatment*sl, data=foo)\n",
    "drop1(ac100, test='F')\n",
    "ac101 <- lm(activity ~ treatment + sl, data=foo)\n",
    "summary(ac101) # final model for acanthos 2014"
   ]
  },
  {
   "cell_type": "code",
   "execution_count": 33,
   "id": "f8213985-872f-40fc-a3e2-a279080c8a66",
   "metadata": {},
   "outputs": [
    {
     "data": {
      "text/html": [
       "<table class=\"dataframe\">\n",
       "<caption>A anova: 2 × 6</caption>\n",
       "<thead>\n",
       "\t<tr><th></th><th scope=col>Df</th><th scope=col>Sum of Sq</th><th scope=col>RSS</th><th scope=col>AIC</th><th scope=col>F value</th><th scope=col>Pr(&gt;F)</th></tr>\n",
       "\t<tr><th></th><th scope=col>&lt;dbl&gt;</th><th scope=col>&lt;dbl&gt;</th><th scope=col>&lt;dbl&gt;</th><th scope=col>&lt;dbl&gt;</th><th scope=col>&lt;dbl&gt;</th><th scope=col>&lt;dbl&gt;</th></tr>\n",
       "</thead>\n",
       "<tbody>\n",
       "\t<tr><th scope=row>&lt;none&gt;</th><td>NA</td><td>      NA</td><td>2235.108</td><td>240.4777</td><td>     NA</td><td>      NA</td></tr>\n",
       "\t<tr><th scope=row>treatment:sl</th><td> 1</td><td>163.5573</td><td>2398.665</td><td>243.1389</td><td>4.53694</td><td>0.037147</td></tr>\n",
       "</tbody>\n",
       "</table>\n"
      ],
      "text/latex": [
       "A anova: 2 × 6\n",
       "\\begin{tabular}{r|llllll}\n",
       "  & Df & Sum of Sq & RSS & AIC & F value & Pr(>F)\\\\\n",
       "  & <dbl> & <dbl> & <dbl> & <dbl> & <dbl> & <dbl>\\\\\n",
       "\\hline\n",
       "\t<none> & NA &       NA & 2235.108 & 240.4777 &      NA &       NA\\\\\n",
       "\ttreatment:sl &  1 & 163.5573 & 2398.665 & 243.1389 & 4.53694 & 0.037147\\\\\n",
       "\\end{tabular}\n"
      ],
      "text/markdown": [
       "\n",
       "A anova: 2 × 6\n",
       "\n",
       "| <!--/--> | Df &lt;dbl&gt; | Sum of Sq &lt;dbl&gt; | RSS &lt;dbl&gt; | AIC &lt;dbl&gt; | F value &lt;dbl&gt; | Pr(&gt;F) &lt;dbl&gt; |\n",
       "|---|---|---|---|---|---|---|\n",
       "| &lt;none&gt; | NA |       NA | 2235.108 | 240.4777 |      NA |       NA |\n",
       "| treatment:sl |  1 | 163.5573 | 2398.665 | 243.1389 | 4.53694 | 0.037147 |\n",
       "\n"
      ],
      "text/plain": [
       "             Df Sum of Sq RSS      AIC      F value Pr(>F)  \n",
       "<none>       NA       NA  2235.108 240.4777      NA       NA\n",
       "treatment:sl  1 163.5573  2398.665 243.1389 4.53694 0.037147"
      ]
     },
     "metadata": {},
     "output_type": "display_data"
    },
    {
     "data": {
      "text/plain": [
       "\n",
       "Call:\n",
       "lm(formula = activity ~ treatment * sl, data = foo)\n",
       "\n",
       "Residuals:\n",
       "     Min       1Q   Median       3Q      Max \n",
       "-13.5396  -3.7489  -0.2603   4.2788  14.1551 \n",
       "\n",
       "Coefficients:\n",
       "                Estimate Std. Error t value Pr(>|t|)  \n",
       "(Intercept)      23.3253     9.6002   2.430   0.0180 *\n",
       "treatmentCO2     19.7591    11.8131   1.673   0.0994 .\n",
       "sl                0.2972     0.7921   0.375   0.7087  \n",
       "treatmentCO2:sl  -2.1122     0.9916  -2.130   0.0371 *\n",
       "---\n",
       "Signif. codes:  0 '***' 0.001 '**' 0.01 '*' 0.05 '.' 0.1 ' ' 1\n",
       "\n",
       "Residual standard error: 6.004 on 62 degrees of freedom\n",
       "Multiple R-squared:  0.2312,\tAdjusted R-squared:  0.194 \n",
       "F-statistic: 6.214 on 3 and 62 DF,  p-value: 0.0009275\n"
      ]
     },
     "metadata": {},
     "output_type": "display_data"
    }
   ],
   "source": [
    "#2015 data\n",
    "foo <- acdat[acdat$loc=='AIMS 2015',]\n",
    "ac110 <- lm(activity ~ treatment*sl, data=foo)\n",
    "drop1(ac110, test='F')\n",
    "summary(ac110) # final model"
   ]
  },
  {
   "cell_type": "code",
   "execution_count": 34,
   "id": "a7065779-d4cc-430f-bb4e-fed3ad2cc986",
   "metadata": {},
   "outputs": [
    {
     "data": {
      "text/html": [
       "<table class=\"dataframe\">\n",
       "<caption>A anova: 2 × 6</caption>\n",
       "<thead>\n",
       "\t<tr><th></th><th scope=col>Df</th><th scope=col>Sum of Sq</th><th scope=col>RSS</th><th scope=col>AIC</th><th scope=col>F value</th><th scope=col>Pr(&gt;F)</th></tr>\n",
       "\t<tr><th></th><th scope=col>&lt;dbl&gt;</th><th scope=col>&lt;dbl&gt;</th><th scope=col>&lt;dbl&gt;</th><th scope=col>&lt;dbl&gt;</th><th scope=col>&lt;dbl&gt;</th><th scope=col>&lt;dbl&gt;</th></tr>\n",
       "</thead>\n",
       "<tbody>\n",
       "\t<tr><th scope=row>&lt;none&gt;</th><td>NA</td><td>     NA</td><td>9409.598</td><td>504.2705</td><td>       NA</td><td>       NA</td></tr>\n",
       "\t<tr><th scope=row>treatment:sl</th><td> 1</td><td>27.7299</td><td>9437.328</td><td>502.6001</td><td>0.3182738</td><td>0.5738166</td></tr>\n",
       "</tbody>\n",
       "</table>\n"
      ],
      "text/latex": [
       "A anova: 2 × 6\n",
       "\\begin{tabular}{r|llllll}\n",
       "  & Df & Sum of Sq & RSS & AIC & F value & Pr(>F)\\\\\n",
       "  & <dbl> & <dbl> & <dbl> & <dbl> & <dbl> & <dbl>\\\\\n",
       "\\hline\n",
       "\t<none> & NA &      NA & 9409.598 & 504.2705 &        NA &        NA\\\\\n",
       "\ttreatment:sl &  1 & 27.7299 & 9437.328 & 502.6001 & 0.3182738 & 0.5738166\\\\\n",
       "\\end{tabular}\n"
      ],
      "text/markdown": [
       "\n",
       "A anova: 2 × 6\n",
       "\n",
       "| <!--/--> | Df &lt;dbl&gt; | Sum of Sq &lt;dbl&gt; | RSS &lt;dbl&gt; | AIC &lt;dbl&gt; | F value &lt;dbl&gt; | Pr(&gt;F) &lt;dbl&gt; |\n",
       "|---|---|---|---|---|---|---|\n",
       "| &lt;none&gt; | NA |      NA | 9409.598 | 504.2705 |        NA |        NA |\n",
       "| treatment:sl |  1 | 27.7299 | 9437.328 | 502.6001 | 0.3182738 | 0.5738166 |\n",
       "\n"
      ],
      "text/plain": [
       "             Df Sum of Sq RSS      AIC      F value   Pr(>F)   \n",
       "<none>       NA      NA   9409.598 504.2705        NA        NA\n",
       "treatment:sl  1 27.7299   9437.328 502.6001 0.3182738 0.5738166"
      ]
     },
     "metadata": {},
     "output_type": "display_data"
    },
    {
     "data": {
      "text/plain": [
       "\n",
       "Call:\n",
       "lm(formula = activity ~ treatment + sl, data = foo)\n",
       "\n",
       "Residuals:\n",
       "     Min       1Q   Median       3Q      Max \n",
       "-18.4528  -7.3401   0.8226   7.4992  18.7996 \n",
       "\n",
       "Coefficients:\n",
       "             Estimate Std. Error t value Pr(>|t|)    \n",
       "(Intercept)   38.2415     1.5307  24.983  < 2e-16 ***\n",
       "treatmentCO2   0.3360     1.7725   0.190     0.85    \n",
       "sl            -0.3223     0.0422  -7.637 9.14e-12 ***\n",
       "---\n",
       "Signif. codes:  0 '***' 0.001 '**' 0.01 '*' 0.05 '.' 0.1 ' ' 1\n",
       "\n",
       "Residual standard error: 9.305 on 109 degrees of freedom\n",
       "Multiple R-squared:  0.3486,\tAdjusted R-squared:  0.3366 \n",
       "F-statistic: 29.16 on 2 and 109 DF,  p-value: 7.161e-11\n"
      ]
     },
     "metadata": {},
     "output_type": "display_data"
    },
    {
     "data": {
      "image/png": "[encoded data removed]",
      "text/plain": [
       "Plot with title \"Histogram of foo$sl\""
      ]
     },
     "metadata": {
      "image/png": {
       "height": 420,
       "width": 420
      }
     },
     "output_type": "display_data"
    }
   ],
   "source": [
    "#2016 data\n",
    "foo <- acdat[acdat$loc=='LIRS 2016',]\n",
    "hist(foo$sl)\n",
    "ac120 <- lm(activity ~ treatment*sl, data=foo)\n",
    "drop1(ac120, test='F')\n",
    "ac121 <- lm(activity ~ treatment + sl, data=foo)\n",
    "summary(ac121)"
   ]
  },
  {
   "cell_type": "code",
   "execution_count": 35,
   "id": "456a0799-54f4-4fd3-ac74-f350d8713647",
   "metadata": {
    "tags": []
   },
   "outputs": [
    {
     "data": {
      "text/html": [
       "<style>\n",
       ".dl-inline {width: auto; margin:0; padding: 0}\n",
       ".dl-inline>dt, .dl-inline>dd {float: none; width: auto; display: inline-block}\n",
       ".dl-inline>dt::after {content: \":\\0020\"; padding-right: .5ex}\n",
       ".dl-inline>dt:not(:first-of-type) {padding-left: .5ex}\n",
       "</style><dl class=dl-inline><dt>466</dt><dd>59</dd><dt>326</dt><dd>40</dd></dl>\n"
      ],
      "text/latex": [
       "\\begin{description*}\n",
       "\\item[466] 59\n",
       "\\item[326] 40\n",
       "\\end{description*}\n"
      ],
      "text/markdown": [
       "466\n",
       ":   59326\n",
       ":   40\n",
       "\n"
      ],
      "text/plain": [
       "466 326 \n",
       " 59  40 "
      ]
     },
     "metadata": {},
     "output_type": "display_data"
    },
    {
     "data": {
      "image/png": "[encoded data removed]",
      "text/plain": [
       "plot without title"
      ]
     },
     "metadata": {
      "image/png": {
       "height": 420,
       "width": 420
      }
     },
     "output_type": "display_data"
    },
    {
     "data": {
      "image/png": "[encoded data removed]",
      "text/plain": [
       "plot without title"
      ]
     },
     "metadata": {
      "image/png": {
       "height": 420,
       "width": 420
      }
     },
     "output_type": "display_data"
    },
    {
     "data": {
      "image/png": "[encoded data removed]",
      "text/plain": [
       "Plot with title \"treatment\""
      ]
     },
     "metadata": {
      "image/png": {
       "height": 420,
       "width": 420
      }
     },
     "output_type": "display_data"
    },
    {
     "data": {
      "image/png": "[encoded data removed]",
      "text/plain": [
       "plot without title"
      ]
     },
     "metadata": {
      "image/png": {
       "height": 420,
       "width": 420
      }
     },
     "output_type": "display_data"
    }
   ],
   "source": [
    "# visual checks of model assumptions\n",
    "# replace model name as needed\n",
    "# ensure dataframe (w/ temporary name 'foo') is same one used to fit model\n",
    "E1 <- resid(ac121)\n",
    "F1 <- fitted(ac121)\n",
    "\n",
    "qqp(ac121$residuals)\n",
    "\n",
    "plot(x = F1, y = E1, xlab = 'fitted values', ylab = 'residuals') \n",
    "abline(h = 0)\n",
    "\n",
    "boxplot(E1 ~ foo$treatment, main = \"treatment\", ylab = 'residuals')\n",
    "abline(h = 0)\n",
    "\n",
    "plot(x = foo$sl, y = E1, xlab = \"standard length\", ylab = 'residuals') \n",
    "abline(h = 0)"
   ]
  },
  {
   "cell_type": "code",
   "execution_count": 36,
   "id": "42310bf1-7577-4bf0-9cfc-e0a83462f81e",
   "metadata": {
    "tags": []
   },
   "outputs": [
    {
     "data": {
      "text/plain": [
       "\n",
       "Call:\n",
       "lm(formula = activity ~ treatment * sl, data = foo)\n",
       "\n",
       "Residuals:\n",
       "     Min       1Q   Median       3Q      Max \n",
       "-23.0365  -7.3813  -0.1692   6.6783  28.5052 \n",
       "\n",
       "Coefficients:\n",
       "                Estimate Std. Error t value Pr(>|t|)    \n",
       "(Intercept)     25.18606    7.05372   3.571 0.000909 ***\n",
       "treatmentCO2    31.82498    9.91405   3.210 0.002544 ** \n",
       "sl              -0.08302    0.18969  -0.438 0.663871    \n",
       "treatmentCO2:sl -0.58961    0.26411  -2.232 0.030977 *  \n",
       "---\n",
       "Signif. codes:  0 '***' 0.001 '**' 0.01 '*' 0.05 '.' 0.1 ' ' 1\n",
       "\n",
       "Residual standard error: 11.61 on 42 degrees of freedom\n",
       "  (2 observations deleted due to missingness)\n",
       "Multiple R-squared:  0.3595,\tAdjusted R-squared:  0.3137 \n",
       "F-statistic: 7.856 on 3 and 42 DF,  p-value: 0.000284\n"
      ]
     },
     "metadata": {},
     "output_type": "display_data"
    },
    {
     "data": {
      "text/html": [
       "<table class=\"dataframe\">\n",
       "<caption>A anova: 2 × 6</caption>\n",
       "<thead>\n",
       "\t<tr><th></th><th scope=col>Df</th><th scope=col>Sum of Sq</th><th scope=col>RSS</th><th scope=col>AIC</th><th scope=col>F value</th><th scope=col>Pr(&gt;F)</th></tr>\n",
       "\t<tr><th></th><th scope=col>&lt;dbl&gt;</th><th scope=col>&lt;dbl&gt;</th><th scope=col>&lt;dbl&gt;</th><th scope=col>&lt;dbl&gt;</th><th scope=col>&lt;dbl&gt;</th><th scope=col>&lt;dbl&gt;</th></tr>\n",
       "</thead>\n",
       "<tbody>\n",
       "\t<tr><th scope=row>&lt;none&gt;</th><td>NA</td><td>      NA</td><td>5660.348</td><td>229.3796</td><td>      NA</td><td>        NA</td></tr>\n",
       "\t<tr><th scope=row>treatment:sl</th><td> 1</td><td>671.6419</td><td>6331.990</td><td>232.5375</td><td>4.983609</td><td>0.03097726</td></tr>\n",
       "</tbody>\n",
       "</table>\n"
      ],
      "text/latex": [
       "A anova: 2 × 6\n",
       "\\begin{tabular}{r|llllll}\n",
       "  & Df & Sum of Sq & RSS & AIC & F value & Pr(>F)\\\\\n",
       "  & <dbl> & <dbl> & <dbl> & <dbl> & <dbl> & <dbl>\\\\\n",
       "\\hline\n",
       "\t<none> & NA &       NA & 5660.348 & 229.3796 &       NA &         NA\\\\\n",
       "\ttreatment:sl &  1 & 671.6419 & 6331.990 & 232.5375 & 4.983609 & 0.03097726\\\\\n",
       "\\end{tabular}\n"
      ],
      "text/markdown": [
       "\n",
       "A anova: 2 × 6\n",
       "\n",
       "| <!--/--> | Df &lt;dbl&gt; | Sum of Sq &lt;dbl&gt; | RSS &lt;dbl&gt; | AIC &lt;dbl&gt; | F value &lt;dbl&gt; | Pr(&gt;F) &lt;dbl&gt; |\n",
       "|---|---|---|---|---|---|---|\n",
       "| &lt;none&gt; | NA |       NA | 5660.348 | 229.3796 |       NA |         NA |\n",
       "| treatment:sl |  1 | 671.6419 | 6331.990 | 232.5375 | 4.983609 | 0.03097726 |\n",
       "\n"
      ],
      "text/plain": [
       "             Df Sum of Sq RSS      AIC      F value  Pr(>F)    \n",
       "<none>       NA       NA  5660.348 229.3796       NA         NA\n",
       "treatment:sl  1 671.6419  6331.990 232.5375 4.983609 0.03097726"
      ]
     },
     "metadata": {},
     "output_type": "display_data"
    },
    {
     "data": {
      "text/plain": [
       "\n",
       "Call:\n",
       "lm(formula = activity ~ treatment * sl, data = foo)\n",
       "\n",
       "Residuals:\n",
       "     Min       1Q   Median       3Q      Max \n",
       "-26.0548  -6.6336   0.3739   7.1706  15.4400 \n",
       "\n",
       "Coefficients:\n",
       "                 Estimate Std. Error t value Pr(>|t|)    \n",
       "(Intercept)     42.035305   4.215236   9.972 3.26e-16 ***\n",
       "treatmentCO2     7.990668   6.033740   1.324    0.189    \n",
       "sl               0.003052   0.122020   0.025    0.980    \n",
       "treatmentCO2:sl -0.218985   0.176320  -1.242    0.217    \n",
       "---\n",
       "Signif. codes:  0 '***' 0.001 '**' 0.01 '*' 0.05 '.' 0.1 ' ' 1\n",
       "\n",
       "Residual standard error: 9.438 on 90 degrees of freedom\n",
       "Multiple R-squared:  0.03351,\tAdjusted R-squared:  0.001296 \n",
       "F-statistic:  1.04 on 3 and 90 DF,  p-value: 0.3787\n"
      ]
     },
     "metadata": {},
     "output_type": "display_data"
    },
    {
     "data": {
      "text/plain": [
       "\n",
       "Call:\n",
       "lm(formula = activity ~ treatment + sl, data = foo)\n",
       "\n",
       "Residuals:\n",
       "     Min       1Q   Median       3Q      Max \n",
       "-27.4573  -6.6595   0.8448   7.1227  15.3675 \n",
       "\n",
       "Coefficients:\n",
       "             Estimate Std. Error t value Pr(>|t|)    \n",
       "(Intercept)  45.46388    3.19498  14.230   <2e-16 ***\n",
       "treatmentCO2  0.89819    1.95380   0.460    0.647    \n",
       "sl           -0.10182    0.08834  -1.153    0.252    \n",
       "---\n",
       "Signif. codes:  0 '***' 0.001 '**' 0.01 '*' 0.05 '.' 0.1 ' ' 1\n",
       "\n",
       "Residual standard error: 9.466 on 91 degrees of freedom\n",
       "Multiple R-squared:  0.01695,\tAdjusted R-squared:  -0.004658 \n",
       "F-statistic: 0.7844 on 2 and 91 DF,  p-value: 0.4594\n"
      ]
     },
     "metadata": {},
     "output_type": "display_data"
    },
    {
     "data": {
      "text/html": [
       "<table class=\"dataframe\">\n",
       "<caption>A anova: 3 × 6</caption>\n",
       "<thead>\n",
       "\t<tr><th></th><th scope=col>Df</th><th scope=col>Sum of Sq</th><th scope=col>RSS</th><th scope=col>AIC</th><th scope=col>F value</th><th scope=col>Pr(&gt;F)</th></tr>\n",
       "\t<tr><th></th><th scope=col>&lt;dbl&gt;</th><th scope=col>&lt;dbl&gt;</th><th scope=col>&lt;dbl&gt;</th><th scope=col>&lt;dbl&gt;</th><th scope=col>&lt;dbl&gt;</th><th scope=col>&lt;dbl&gt;</th></tr>\n",
       "</thead>\n",
       "<tbody>\n",
       "\t<tr><th scope=row>&lt;none&gt;</th><td>NA</td><td>       NA</td><td>8153.964</td><td>425.5187</td><td>       NA</td><td>       NA</td></tr>\n",
       "\t<tr><th scope=row>treatment</th><td> 1</td><td> 18.93684</td><td>8172.901</td><td>423.7367</td><td>0.2113392</td><td>0.6468162</td></tr>\n",
       "\t<tr><th scope=row>sl</th><td> 1</td><td>119.03509</td><td>8273.000</td><td>424.8810</td><td>1.3284573</td><td>0.2520986</td></tr>\n",
       "</tbody>\n",
       "</table>\n"
      ],
      "text/latex": [
       "A anova: 3 × 6\n",
       "\\begin{tabular}{r|llllll}\n",
       "  & Df & Sum of Sq & RSS & AIC & F value & Pr(>F)\\\\\n",
       "  & <dbl> & <dbl> & <dbl> & <dbl> & <dbl> & <dbl>\\\\\n",
       "\\hline\n",
       "\t<none> & NA &        NA & 8153.964 & 425.5187 &        NA &        NA\\\\\n",
       "\ttreatment &  1 &  18.93684 & 8172.901 & 423.7367 & 0.2113392 & 0.6468162\\\\\n",
       "\tsl &  1 & 119.03509 & 8273.000 & 424.8810 & 1.3284573 & 0.2520986\\\\\n",
       "\\end{tabular}\n"
      ],
      "text/markdown": [
       "\n",
       "A anova: 3 × 6\n",
       "\n",
       "| <!--/--> | Df &lt;dbl&gt; | Sum of Sq &lt;dbl&gt; | RSS &lt;dbl&gt; | AIC &lt;dbl&gt; | F value &lt;dbl&gt; | Pr(&gt;F) &lt;dbl&gt; |\n",
       "|---|---|---|---|---|---|---|\n",
       "| &lt;none&gt; | NA |        NA | 8153.964 | 425.5187 |        NA |        NA |\n",
       "| treatment |  1 |  18.93684 | 8172.901 | 423.7367 | 0.2113392 | 0.6468162 |\n",
       "| sl |  1 | 119.03509 | 8273.000 | 424.8810 | 1.3284573 | 0.2520986 |\n",
       "\n"
      ],
      "text/plain": [
       "          Df Sum of Sq RSS      AIC      F value   Pr(>F)   \n",
       "<none>    NA        NA 8153.964 425.5187        NA        NA\n",
       "treatment  1  18.93684 8172.901 423.7367 0.2113392 0.6468162\n",
       "sl         1 119.03509 8273.000 424.8810 1.3284573 0.2520986"
      ]
     },
     "metadata": {},
     "output_type": "display_data"
    },
    {
     "data": {
      "text/plain": [
       "\n",
       "Call:\n",
       "lm(formula = activity ~ treatment, data = foo)\n",
       "\n",
       "Residuals:\n",
       "    Min      1Q  Median      3Q     Max \n",
       "-28.709  -7.281   1.366   7.016  15.438 \n",
       "\n",
       "Coefficients:\n",
       "             Estimate Std. Error t value Pr(>|t|)    \n",
       "(Intercept)   42.1351     1.3687  30.784   <2e-16 ***\n",
       "treatmentCO2   0.9576     1.9566   0.489    0.626    \n",
       "---\n",
       "Signif. codes:  0 '***' 0.001 '**' 0.01 '*' 0.05 '.' 0.1 ' ' 1\n",
       "\n",
       "Residual standard error: 9.483 on 92 degrees of freedom\n",
       "Multiple R-squared:  0.002597,\tAdjusted R-squared:  -0.008245 \n",
       "F-statistic: 0.2395 on 1 and 92 DF,  p-value: 0.6257\n"
      ]
     },
     "metadata": {},
     "output_type": "display_data"
    }
   ],
   "source": [
    "# humbugs\n",
    "\n",
    "humdat <- oaa[oaa$species=='humbug',]\n",
    "\n",
    "# 2014\n",
    "foo <- humdat[humdat$loc=='LIRS 2014',]\n",
    "hum101 <- lm(activity ~ treatment*sl, data=foo)\n",
    "summary(hum101) # final model\n",
    "drop1(hum101, test='F') \n",
    "\n",
    "\n",
    "# 2016\n",
    "foo <- humdat[humdat$loc=='LIRS 2016',]\n",
    "hum121 <- lm(activity ~ treatment*sl, data=foo)\n",
    "summary(hum121)\n",
    "hum122 <- lm(activity ~ treatment + sl, data=foo)\n",
    "summary(hum122)\n",
    "drop1(hum122, test='F')\n",
    "hum123 <- lm(activity ~ treatment, data=foo)\n",
    "summary(hum123) # final model"
   ]
  },
  {
   "cell_type": "code",
   "execution_count": 37,
   "id": "8611b6e3-0ce4-4c22-b4d8-23a6f5b6ced6",
   "metadata": {
    "tags": []
   },
   "outputs": [
    {
     "data": {
      "text/html": [
       "<style>\n",
       ".dl-inline {width: auto; margin:0; padding: 0}\n",
       ".dl-inline>dt, .dl-inline>dd {float: none; width: auto; display: inline-block}\n",
       ".dl-inline>dt::after {content: \":\\0020\"; padding-right: .5ex}\n",
       ".dl-inline>dt:not(:first-of-type) {padding-left: .5ex}\n",
       "</style><dl class=dl-inline><dt>112</dt><dd>16</dd><dt>109</dt><dd>13</dd></dl>\n"
      ],
      "text/latex": [
       "\\begin{description*}\n",
       "\\item[112] 16\n",
       "\\item[109] 13\n",
       "\\end{description*}\n"
      ],
      "text/markdown": [
       "112\n",
       ":   16109\n",
       ":   13\n",
       "\n"
      ],
      "text/plain": [
       "112 109 \n",
       " 16  13 "
      ]
     },
     "metadata": {},
     "output_type": "display_data"
    },
    {
     "data": {
      "image/png": "[encoded data removed]",
      "text/plain": [
       "plot without title"
      ]
     },
     "metadata": {
      "image/png": {
       "height": 420,
       "width": 420
      }
     },
     "output_type": "display_data"
    },
    {
     "data": {
      "image/png": "[encoded data removed]",
      "text/plain": [
       "plot without title"
      ]
     },
     "metadata": {
      "image/png": {
       "height": 420,
       "width": 420
      }
     },
     "output_type": "display_data"
    },
    {
     "data": {
      "image/png": "[encoded data removed]",
      "text/plain": [
       "Plot with title \"treatment\""
      ]
     },
     "metadata": {
      "image/png": {
       "height": 420,
       "width": 420
      }
     },
     "output_type": "display_data"
    },
    {
     "data": {
      "image/png": "[encoded data removed]",
      "text/plain": [
       "plot without title"
      ]
     },
     "metadata": {
      "image/png": {
       "height": 420,
       "width": 420
      }
     },
     "output_type": "display_data"
    }
   ],
   "source": [
    "# visual checks of model assumptions\n",
    "# replace model name as needed\n",
    "# ensure dataframe (w/ temporary name 'foo') is same one used to fit model\n",
    "E1 <- resid(hum123)\n",
    "F1 <- fitted(hum123)\n",
    "\n",
    "qqp(hum123$residuals)\n",
    "\n",
    "plot(x = F1, y = E1, xlab = 'fitted values', ylab = 'residuals') \n",
    "abline(h = 0)\n",
    "\n",
    "boxplot(E1 ~ foo$treatment, main = \"treatment\", ylab = 'residuals')\n",
    "abline(h = 0)\n",
    "\n",
    "plot(x = foo$sl, y = E1, xlab = \"standard length\", ylab = 'residuals') \n",
    "abline(h = 0)"
   ]
  },
  {
   "cell_type": "code",
   "execution_count": 38,
   "id": "5e710b3f-96d0-46a2-82d7-adbfcc58a991",
   "metadata": {
    "tags": []
   },
   "outputs": [
    {
     "data": {
      "text/html": [
       "<table class=\"dataframe\">\n",
       "<caption>A anova: 2 × 6</caption>\n",
       "<thead>\n",
       "\t<tr><th></th><th scope=col>Df</th><th scope=col>Sum of Sq</th><th scope=col>RSS</th><th scope=col>AIC</th><th scope=col>F value</th><th scope=col>Pr(&gt;F)</th></tr>\n",
       "\t<tr><th></th><th scope=col>&lt;dbl&gt;</th><th scope=col>&lt;dbl&gt;</th><th scope=col>&lt;dbl&gt;</th><th scope=col>&lt;dbl&gt;</th><th scope=col>&lt;dbl&gt;</th><th scope=col>&lt;dbl&gt;</th></tr>\n",
       "</thead>\n",
       "<tbody>\n",
       "\t<tr><th scope=row>&lt;none&gt;</th><td>NA</td><td>     NA</td><td>5672.864</td><td>240.8298</td><td>     NA</td><td>        NA</td></tr>\n",
       "\t<tr><th scope=row>sl:treatment</th><td> 1</td><td>486.022</td><td>6158.886</td><td>242.8577</td><td>3.85537</td><td>0.05578408</td></tr>\n",
       "</tbody>\n",
       "</table>\n"
      ],
      "text/latex": [
       "A anova: 2 × 6\n",
       "\\begin{tabular}{r|llllll}\n",
       "  & Df & Sum of Sq & RSS & AIC & F value & Pr(>F)\\\\\n",
       "  & <dbl> & <dbl> & <dbl> & <dbl> & <dbl> & <dbl>\\\\\n",
       "\\hline\n",
       "\t<none> & NA &      NA & 5672.864 & 240.8298 &      NA &         NA\\\\\n",
       "\tsl:treatment &  1 & 486.022 & 6158.886 & 242.8577 & 3.85537 & 0.05578408\\\\\n",
       "\\end{tabular}\n"
      ],
      "text/markdown": [
       "\n",
       "A anova: 2 × 6\n",
       "\n",
       "| <!--/--> | Df &lt;dbl&gt; | Sum of Sq &lt;dbl&gt; | RSS &lt;dbl&gt; | AIC &lt;dbl&gt; | F value &lt;dbl&gt; | Pr(&gt;F) &lt;dbl&gt; |\n",
       "|---|---|---|---|---|---|---|\n",
       "| &lt;none&gt; | NA |      NA | 5672.864 | 240.8298 |      NA |         NA |\n",
       "| sl:treatment |  1 | 486.022 | 6158.886 | 242.8577 | 3.85537 | 0.05578408 |\n",
       "\n"
      ],
      "text/plain": [
       "             Df Sum of Sq RSS      AIC      F value Pr(>F)    \n",
       "<none>       NA      NA   5672.864 240.8298      NA         NA\n",
       "sl:treatment  1 486.022   6158.886 242.8577 3.85537 0.05578408"
      ]
     },
     "metadata": {},
     "output_type": "display_data"
    },
    {
     "data": {
      "text/html": [
       "<table class=\"dataframe\">\n",
       "<caption>A anova: 3 × 6</caption>\n",
       "<thead>\n",
       "\t<tr><th></th><th scope=col>Df</th><th scope=col>Sum of Sq</th><th scope=col>RSS</th><th scope=col>AIC</th><th scope=col>F value</th><th scope=col>Pr(&gt;F)</th></tr>\n",
       "\t<tr><th></th><th scope=col>&lt;dbl&gt;</th><th scope=col>&lt;dbl&gt;</th><th scope=col>&lt;dbl&gt;</th><th scope=col>&lt;dbl&gt;</th><th scope=col>&lt;dbl&gt;</th><th scope=col>&lt;dbl&gt;</th></tr>\n",
       "</thead>\n",
       "<tbody>\n",
       "\t<tr><th scope=row>&lt;none&gt;</th><td>NA</td><td>      NA</td><td>6158.886</td><td>242.8577</td><td>      NA</td><td>        NA</td></tr>\n",
       "\t<tr><th scope=row>sl</th><td> 1</td><td>358.5110</td><td>6517.397</td><td>243.6301</td><td>2.677677</td><td>0.10858883</td></tr>\n",
       "\t<tr><th scope=row>treatment</th><td> 1</td><td>450.9464</td><td>6609.833</td><td>244.3202</td><td>3.368066</td><td>0.07294211</td></tr>\n",
       "</tbody>\n",
       "</table>\n"
      ],
      "text/latex": [
       "A anova: 3 × 6\n",
       "\\begin{tabular}{r|llllll}\n",
       "  & Df & Sum of Sq & RSS & AIC & F value & Pr(>F)\\\\\n",
       "  & <dbl> & <dbl> & <dbl> & <dbl> & <dbl> & <dbl>\\\\\n",
       "\\hline\n",
       "\t<none> & NA &       NA & 6158.886 & 242.8577 &       NA &         NA\\\\\n",
       "\tsl &  1 & 358.5110 & 6517.397 & 243.6301 & 2.677677 & 0.10858883\\\\\n",
       "\ttreatment &  1 & 450.9464 & 6609.833 & 244.3202 & 3.368066 & 0.07294211\\\\\n",
       "\\end{tabular}\n"
      ],
      "text/markdown": [
       "\n",
       "A anova: 3 × 6\n",
       "\n",
       "| <!--/--> | Df &lt;dbl&gt; | Sum of Sq &lt;dbl&gt; | RSS &lt;dbl&gt; | AIC &lt;dbl&gt; | F value &lt;dbl&gt; | Pr(&gt;F) &lt;dbl&gt; |\n",
       "|---|---|---|---|---|---|---|\n",
       "| &lt;none&gt; | NA |       NA | 6158.886 | 242.8577 |       NA |         NA |\n",
       "| sl |  1 | 358.5110 | 6517.397 | 243.6301 | 2.677677 | 0.10858883 |\n",
       "| treatment |  1 | 450.9464 | 6609.833 | 244.3202 | 3.368066 | 0.07294211 |\n",
       "\n"
      ],
      "text/plain": [
       "          Df Sum of Sq RSS      AIC      F value  Pr(>F)    \n",
       "<none>    NA       NA  6158.886 242.8577       NA         NA\n",
       "sl         1 358.5110  6517.397 243.6301 2.677677 0.10858883\n",
       "treatment  1 450.9464  6609.833 244.3202 3.368066 0.07294211"
      ]
     },
     "metadata": {},
     "output_type": "display_data"
    },
    {
     "data": {
      "text/html": [
       "<table class=\"dataframe\">\n",
       "<caption>A anova: 2 × 6</caption>\n",
       "<thead>\n",
       "\t<tr><th></th><th scope=col>Df</th><th scope=col>Sum of Sq</th><th scope=col>RSS</th><th scope=col>AIC</th><th scope=col>F value</th><th scope=col>Pr(&gt;F)</th></tr>\n",
       "\t<tr><th></th><th scope=col>&lt;dbl&gt;</th><th scope=col>&lt;dbl&gt;</th><th scope=col>&lt;dbl&gt;</th><th scope=col>&lt;dbl&gt;</th><th scope=col>&lt;dbl&gt;</th><th scope=col>&lt;dbl&gt;</th></tr>\n",
       "</thead>\n",
       "<tbody>\n",
       "\t<tr><th scope=row>&lt;none&gt;</th><td>NA</td><td>      NA</td><td>6517.397</td><td>243.6301</td><td>      NA</td><td>       NA</td></tr>\n",
       "\t<tr><th scope=row>treatment</th><td> 1</td><td>453.5159</td><td>6970.913</td><td>244.9264</td><td>3.270515</td><td>0.0769356</td></tr>\n",
       "</tbody>\n",
       "</table>\n"
      ],
      "text/latex": [
       "A anova: 2 × 6\n",
       "\\begin{tabular}{r|llllll}\n",
       "  & Df & Sum of Sq & RSS & AIC & F value & Pr(>F)\\\\\n",
       "  & <dbl> & <dbl> & <dbl> & <dbl> & <dbl> & <dbl>\\\\\n",
       "\\hline\n",
       "\t<none> & NA &       NA & 6517.397 & 243.6301 &       NA &        NA\\\\\n",
       "\ttreatment &  1 & 453.5159 & 6970.913 & 244.9264 & 3.270515 & 0.0769356\\\\\n",
       "\\end{tabular}\n"
      ],
      "text/markdown": [
       "\n",
       "A anova: 2 × 6\n",
       "\n",
       "| <!--/--> | Df &lt;dbl&gt; | Sum of Sq &lt;dbl&gt; | RSS &lt;dbl&gt; | AIC &lt;dbl&gt; | F value &lt;dbl&gt; | Pr(&gt;F) &lt;dbl&gt; |\n",
       "|---|---|---|---|---|---|---|\n",
       "| &lt;none&gt; | NA |       NA | 6517.397 | 243.6301 |       NA |        NA |\n",
       "| treatment |  1 | 453.5159 | 6970.913 | 244.9264 | 3.270515 | 0.0769356 |\n",
       "\n"
      ],
      "text/plain": [
       "          Df Sum of Sq RSS      AIC      F value  Pr(>F)   \n",
       "<none>    NA       NA  6517.397 243.6301       NA        NA\n",
       "treatment  1 453.5159  6970.913 244.9264 3.270515 0.0769356"
      ]
     },
     "metadata": {},
     "output_type": "display_data"
    },
    {
     "data": {
      "text/plain": [
       "\n",
       "Call:\n",
       "lm(formula = activity ~ treatment, data = lemdat)\n",
       "\n",
       "Residuals:\n",
       "     Min       1Q   Median       3Q      Max \n",
       "-17.1846  -9.5977  -0.2243   8.1864  29.5331 \n",
       "\n",
       "Coefficients:\n",
       "             Estimate Std. Error t value Pr(>|t|)    \n",
       "(Intercept)    19.798      2.150   9.208 4.28e-12 ***\n",
       "treatmentCO2    6.244      3.453   1.808   0.0769 .  \n",
       "---\n",
       "Signif. codes:  0 '***' 0.001 '**' 0.01 '*' 0.05 '.' 0.1 ' ' 1\n",
       "\n",
       "Residual standard error: 11.78 on 47 degrees of freedom\n",
       "Multiple R-squared:  0.06506,\tAdjusted R-squared:  0.04517 \n",
       "F-statistic: 3.271 on 1 and 47 DF,  p-value: 0.07694\n"
      ]
     },
     "metadata": {},
     "output_type": "display_data"
    }
   ],
   "source": [
    "# lemons\n",
    "lemdat <- na.omit(oaa[oaa$species=='lemon',])\n",
    "lem1 <- lm(activity ~ sl*treatment, data=lemdat)\n",
    "drop1(lem1, test='F')\n",
    "\n",
    "lem2 <- lm(activity ~ sl + treatment, data=lemdat)\n",
    "drop1(lem2, test='F')\n",
    "\n",
    "lem3 <- lm(activity ~ treatment, data=lemdat)\n",
    "drop1(lem3, test='F')\n",
    "summary(lem3) # final model"
   ]
  },
  {
   "cell_type": "code",
   "execution_count": 39,
   "id": "b32140ec-26b6-4af6-b63a-5e33e84f1826",
   "metadata": {
    "tags": []
   },
   "outputs": [
    {
     "data": {
      "text/html": [
       "<style>\n",
       ".dl-inline {width: auto; margin:0; padding: 0}\n",
       ".dl-inline>dt, .dl-inline>dd {float: none; width: auto; display: inline-block}\n",
       ".dl-inline>dt::after {content: \":\\0020\"; padding-right: .5ex}\n",
       ".dl-inline>dt:not(:first-of-type) {padding-left: .5ex}\n",
       "</style><dl class=dl-inline><dt>205</dt><dd>27</dd><dt>229</dt><dd>49</dd></dl>\n"
      ],
      "text/latex": [
       "\\begin{description*}\n",
       "\\item[205] 27\n",
       "\\item[229] 49\n",
       "\\end{description*}\n"
      ],
      "text/markdown": [
       "205\n",
       ":   27229\n",
       ":   49\n",
       "\n"
      ],
      "text/plain": [
       "205 229 \n",
       " 27  49 "
      ]
     },
     "metadata": {},
     "output_type": "display_data"
    },
    {
     "data": {
      "image/png": "[encoded data removed]",
      "text/plain": [
       "plot without title"
      ]
     },
     "metadata": {
      "image/png": {
       "height": 420,
       "width": 420
      }
     },
     "output_type": "display_data"
    },
    {
     "data": {
      "image/png": "[encoded data removed]",
      "text/plain": [
       "plot without title"
      ]
     },
     "metadata": {
      "image/png": {
       "height": 420,
       "width": 420
      }
     },
     "output_type": "display_data"
    },
    {
     "data": {
      "image/png": "[encoded data removed]",
      "text/plain": [
       "Plot with title \"treatment\""
      ]
     },
     "metadata": {
      "image/png": {
       "height": 420,
       "width": 420
      }
     },
     "output_type": "display_data"
    },
    {
     "data": {
      "image/png": "[encoded data removed]",
      "text/plain": [
       "plot without title"
      ]
     },
     "metadata": {
      "image/png": {
       "height": 420,
       "width": 420
      }
     },
     "output_type": "display_data"
    }
   ],
   "source": [
    "# visual checks of model assumptions\n",
    "# replace model name as needed\n",
    "# ensure dataframe is same one used to fit model\n",
    "E1 <- resid(lem3)\n",
    "F1 <- fitted(lem3)\n",
    "qqp(lem3$residuals)\n",
    "\n",
    "plot(x = F1, y = E1, xlab = 'fitted values', ylab = 'residuals') \n",
    "abline(h = 0)\n",
    "\n",
    "boxplot(E1 ~ lemdat$treatment, main = \"treatment\", ylab = 'residuals')\n",
    "abline(h = 0)\n",
    "\n",
    "plot(x = lemdat$sl, y = E1, xlab = \"standard length\", ylab = 'residuals') \n",
    "abline(h = 0)"
   ]
  },
  {
   "cell_type": "code",
   "execution_count": 40,
   "id": "95773655-0cb5-4c92-8556-00cd95409c13",
   "metadata": {
    "tags": []
   },
   "outputs": [
    {
     "data": {
      "text/html": [
       "<table class=\"dataframe\">\n",
       "<caption>A anova: 2 × 6</caption>\n",
       "<thead>\n",
       "\t<tr><th></th><th scope=col>Df</th><th scope=col>Sum of Sq</th><th scope=col>RSS</th><th scope=col>AIC</th><th scope=col>F value</th><th scope=col>Pr(&gt;F)</th></tr>\n",
       "\t<tr><th></th><th scope=col>&lt;dbl&gt;</th><th scope=col>&lt;dbl&gt;</th><th scope=col>&lt;dbl&gt;</th><th scope=col>&lt;dbl&gt;</th><th scope=col>&lt;dbl&gt;</th><th scope=col>&lt;dbl&gt;</th></tr>\n",
       "</thead>\n",
       "<tbody>\n",
       "\t<tr><th scope=row>&lt;none&gt;</th><td>NA</td><td>      NA</td><td>10288.99</td><td>549.0467</td><td>        NA</td><td>       NA</td></tr>\n",
       "\t<tr><th scope=row>sl:treatment</th><td> 1</td><td>6.233312</td><td>10295.23</td><td>547.1206</td><td>0.07148715</td><td>0.7896504</td></tr>\n",
       "</tbody>\n",
       "</table>\n"
      ],
      "text/latex": [
       "A anova: 2 × 6\n",
       "\\begin{tabular}{r|llllll}\n",
       "  & Df & Sum of Sq & RSS & AIC & F value & Pr(>F)\\\\\n",
       "  & <dbl> & <dbl> & <dbl> & <dbl> & <dbl> & <dbl>\\\\\n",
       "\\hline\n",
       "\t<none> & NA &       NA & 10288.99 & 549.0467 &         NA &        NA\\\\\n",
       "\tsl:treatment &  1 & 6.233312 & 10295.23 & 547.1206 & 0.07148715 & 0.7896504\\\\\n",
       "\\end{tabular}\n"
      ],
      "text/markdown": [
       "\n",
       "A anova: 2 × 6\n",
       "\n",
       "| <!--/--> | Df &lt;dbl&gt; | Sum of Sq &lt;dbl&gt; | RSS &lt;dbl&gt; | AIC &lt;dbl&gt; | F value &lt;dbl&gt; | Pr(&gt;F) &lt;dbl&gt; |\n",
       "|---|---|---|---|---|---|---|\n",
       "| &lt;none&gt; | NA |       NA | 10288.99 | 549.0467 |         NA |        NA |\n",
       "| sl:treatment |  1 | 6.233312 | 10295.23 | 547.1206 | 0.07148715 | 0.7896504 |\n",
       "\n"
      ],
      "text/plain": [
       "             Df Sum of Sq RSS      AIC      F value    Pr(>F)   \n",
       "<none>       NA       NA  10288.99 549.0467         NA        NA\n",
       "sl:treatment  1 6.233312  10295.23 547.1206 0.07148715 0.7896504"
      ]
     },
     "metadata": {},
     "output_type": "display_data"
    },
    {
     "data": {
      "text/html": [
       "<table class=\"dataframe\">\n",
       "<caption>A anova: 3 × 6</caption>\n",
       "<thead>\n",
       "\t<tr><th></th><th scope=col>Df</th><th scope=col>Sum of Sq</th><th scope=col>RSS</th><th scope=col>AIC</th><th scope=col>F value</th><th scope=col>Pr(&gt;F)</th></tr>\n",
       "\t<tr><th></th><th scope=col>&lt;dbl&gt;</th><th scope=col>&lt;dbl&gt;</th><th scope=col>&lt;dbl&gt;</th><th scope=col>&lt;dbl&gt;</th><th scope=col>&lt;dbl&gt;</th><th scope=col>&lt;dbl&gt;</th></tr>\n",
       "</thead>\n",
       "<tbody>\n",
       "\t<tr><th scope=row>&lt;none&gt;</th><td>NA</td><td>       NA</td><td>10295.23</td><td>547.1206</td><td>       NA</td><td>          NA</td></tr>\n",
       "\t<tr><th scope=row>treatment</th><td> 1</td><td> 113.6153</td><td>10408.84</td><td>546.4596</td><td> 1.313251</td><td>2.541061e-01</td></tr>\n",
       "\t<tr><th scope=row>sl</th><td> 1</td><td>2819.1818</td><td>13114.41</td><td>574.6484</td><td>32.586233</td><td>8.523174e-08</td></tr>\n",
       "</tbody>\n",
       "</table>\n"
      ],
      "text/latex": [
       "A anova: 3 × 6\n",
       "\\begin{tabular}{r|llllll}\n",
       "  & Df & Sum of Sq & RSS & AIC & F value & Pr(>F)\\\\\n",
       "  & <dbl> & <dbl> & <dbl> & <dbl> & <dbl> & <dbl>\\\\\n",
       "\\hline\n",
       "\t<none> & NA &        NA & 10295.23 & 547.1206 &        NA &           NA\\\\\n",
       "\ttreatment &  1 &  113.6153 & 10408.84 & 546.4596 &  1.313251 & 2.541061e-01\\\\\n",
       "\tsl &  1 & 2819.1818 & 13114.41 & 574.6484 & 32.586233 & 8.523174e-08\\\\\n",
       "\\end{tabular}\n"
      ],
      "text/markdown": [
       "\n",
       "A anova: 3 × 6\n",
       "\n",
       "| <!--/--> | Df &lt;dbl&gt; | Sum of Sq &lt;dbl&gt; | RSS &lt;dbl&gt; | AIC &lt;dbl&gt; | F value &lt;dbl&gt; | Pr(&gt;F) &lt;dbl&gt; |\n",
       "|---|---|---|---|---|---|---|\n",
       "| &lt;none&gt; | NA |        NA | 10295.23 | 547.1206 |        NA |           NA |\n",
       "| treatment |  1 |  113.6153 | 10408.84 | 546.4596 |  1.313251 | 2.541061e-01 |\n",
       "| sl |  1 | 2819.1818 | 13114.41 | 574.6484 | 32.586233 | 8.523174e-08 |\n",
       "\n"
      ],
      "text/plain": [
       "          Df Sum of Sq RSS      AIC      F value   Pr(>F)      \n",
       "<none>    NA        NA 10295.23 547.1206        NA           NA\n",
       "treatment  1  113.6153 10408.84 546.4596  1.313251 2.541061e-01\n",
       "sl         1 2819.1818 13114.41 574.6484 32.586233 8.523174e-08"
      ]
     },
     "metadata": {},
     "output_type": "display_data"
    },
    {
     "data": {
      "text/plain": [
       "\n",
       "Call:\n",
       "lm(formula = activity ~ treatment + sl, data = wdat)\n",
       "\n",
       "Residuals:\n",
       "     Min       1Q   Median       3Q      Max \n",
       "-27.3420  -5.5917  -0.3138   5.2421  23.9623 \n",
       "\n",
       "Coefficients:\n",
       "             Estimate Std. Error t value Pr(>|t|)    \n",
       "(Intercept)   35.4676     1.9593  18.102  < 2e-16 ***\n",
       "treatmentCO2  -1.9314     1.6854  -1.146    0.254    \n",
       "sl            -0.6359     0.1114  -5.708 8.52e-08 ***\n",
       "---\n",
       "Signif. codes:  0 '***' 0.001 '**' 0.01 '*' 0.05 '.' 0.1 ' ' 1\n",
       "\n",
       "Residual standard error: 9.301 on 119 degrees of freedom\n",
       "Multiple R-squared:  0.2244,\tAdjusted R-squared:  0.2114 \n",
       "F-statistic: 17.22 on 2 and 119 DF,  p-value: 2.706e-07\n"
      ]
     },
     "metadata": {},
     "output_type": "display_data"
    }
   ],
   "source": [
    "# white damsels \n",
    "\n",
    "wdat <- oaa[oaa$species=='whitedams',]\n",
    "\n",
    "dams1 <- lm(activity ~ sl*treatment, data=wdat)\n",
    "drop1(dams1, test='F')\n",
    "\n",
    "dams2 <- lm(activity ~ treatment + sl, data=wdat)\n",
    "drop1(dams2, test='F')\n",
    "\n",
    "summary(dams2) # final model"
   ]
  },
  {
   "cell_type": "code",
   "execution_count": 41,
   "id": "1a1d03ae-2269-472b-96a7-e33b14b71e0d",
   "metadata": {
    "tags": []
   },
   "outputs": [
    {
     "data": {
      "text/html": [
       "<style>\n",
       ".dl-inline {width: auto; margin:0; padding: 0}\n",
       ".dl-inline>dt, .dl-inline>dd {float: none; width: auto; display: inline-block}\n",
       ".dl-inline>dt::after {content: \":\\0020\"; padding-right: .5ex}\n",
       ".dl-inline>dt:not(:first-of-type) {padding-left: .5ex}\n",
       "</style><dl class=dl-inline><dt>553</dt><dd>96</dd><dt>575</dt><dd>118</dd></dl>\n"
      ],
      "text/latex": [
       "\\begin{description*}\n",
       "\\item[553] 96\n",
       "\\item[575] 118\n",
       "\\end{description*}\n"
      ],
      "text/markdown": [
       "553\n",
       ":   96575\n",
       ":   118\n",
       "\n"
      ],
      "text/plain": [
       "553 575 \n",
       " 96 118 "
      ]
     },
     "metadata": {},
     "output_type": "display_data"
    },
    {
     "data": {
      "image/png": "[encoded data removed]",
      "text/plain": [
       "plot without title"
      ]
     },
     "metadata": {
      "image/png": {
       "height": 420,
       "width": 420
      }
     },
     "output_type": "display_data"
    },
    {
     "data": {
      "image/png": "[encoded data removed]",
      "text/plain": [
       "plot without title"
      ]
     },
     "metadata": {
      "image/png": {
       "height": 420,
       "width": 420
      }
     },
     "output_type": "display_data"
    },
    {
     "data": {
      "image/png": "[encoded data removed]",
      "text/plain": [
       "Plot with title \"treatment\""
      ]
     },
     "metadata": {
      "image/png": {
       "height": 420,
       "width": 420
      }
     },
     "output_type": "display_data"
    },
    {
     "data": {
      "image/png": "[encoded data removed]",
      "text/plain": [
       "plot without title"
      ]
     },
     "metadata": {
      "image/png": {
       "height": 420,
       "width": 420
      }
     },
     "output_type": "display_data"
    }
   ],
   "source": [
    "# visual checks of model assumptions\n",
    "# replace model name as needed\n",
    "# ensure dataframe is same one used to fit model\n",
    "E1 <- resid(dams2)\n",
    "F1 <- fitted(dams2)\n",
    "\n",
    "qqp(dams2$residuals)\n",
    "\n",
    "plot(x = F1, y = E1, xlab = 'fitted values', ylab = 'residuals') \n",
    "abline(h = 0)\n",
    "\n",
    "boxplot(E1 ~ wdat$treatment, main = \"treatment\", ylab = 'residuals')\n",
    "abline(h = 0)\n",
    "\n",
    "plot(x = wdat$sl, y = E1, xlab = \"standard length\", ylab = 'residuals') \n",
    "abline(h = 0)"
   ]
  },
  {
   "cell_type": "code",
   "execution_count": 42,
   "id": "2eb9d990-b2f8-405a-8a45-d0e8d031229a",
   "metadata": {
    "tags": []
   },
   "outputs": [
    {
     "data": {
      "text/html": [
       "<table class=\"dataframe\">\n",
       "<caption>A anova: 2 × 6</caption>\n",
       "<thead>\n",
       "\t<tr><th></th><th scope=col>Df</th><th scope=col>Sum of Sq</th><th scope=col>RSS</th><th scope=col>AIC</th><th scope=col>F value</th><th scope=col>Pr(&gt;F)</th></tr>\n",
       "\t<tr><th></th><th scope=col>&lt;dbl&gt;</th><th scope=col>&lt;dbl&gt;</th><th scope=col>&lt;dbl&gt;</th><th scope=col>&lt;dbl&gt;</th><th scope=col>&lt;dbl&gt;</th><th scope=col>&lt;dbl&gt;</th></tr>\n",
       "</thead>\n",
       "<tbody>\n",
       "\t<tr><th scope=row>&lt;none&gt;</th><td>NA</td><td>     NA</td><td>3067.392</td><td>161.0756</td><td>       NA</td><td>       NA</td></tr>\n",
       "\t<tr><th scope=row>sl:treatment</th><td> 1</td><td>72.5139</td><td>3139.906</td><td>159.8700</td><td>0.7092073</td><td>0.4063708</td></tr>\n",
       "</tbody>\n",
       "</table>\n"
      ],
      "text/latex": [
       "A anova: 2 × 6\n",
       "\\begin{tabular}{r|llllll}\n",
       "  & Df & Sum of Sq & RSS & AIC & F value & Pr(>F)\\\\\n",
       "  & <dbl> & <dbl> & <dbl> & <dbl> & <dbl> & <dbl>\\\\\n",
       "\\hline\n",
       "\t<none> & NA &      NA & 3067.392 & 161.0756 &        NA &        NA\\\\\n",
       "\tsl:treatment &  1 & 72.5139 & 3139.906 & 159.8700 & 0.7092073 & 0.4063708\\\\\n",
       "\\end{tabular}\n"
      ],
      "text/markdown": [
       "\n",
       "A anova: 2 × 6\n",
       "\n",
       "| <!--/--> | Df &lt;dbl&gt; | Sum of Sq &lt;dbl&gt; | RSS &lt;dbl&gt; | AIC &lt;dbl&gt; | F value &lt;dbl&gt; | Pr(&gt;F) &lt;dbl&gt; |\n",
       "|---|---|---|---|---|---|---|\n",
       "| &lt;none&gt; | NA |      NA | 3067.392 | 161.0756 |        NA |        NA |\n",
       "| sl:treatment |  1 | 72.5139 | 3139.906 | 159.8700 | 0.7092073 | 0.4063708 |\n",
       "\n"
      ],
      "text/plain": [
       "             Df Sum of Sq RSS      AIC      F value   Pr(>F)   \n",
       "<none>       NA      NA   3067.392 161.0756        NA        NA\n",
       "sl:treatment  1 72.5139   3139.906 159.8700 0.7092073 0.4063708"
      ]
     },
     "metadata": {},
     "output_type": "display_data"
    },
    {
     "data": {
      "text/html": [
       "<table class=\"dataframe\">\n",
       "<caption>A anova: 3 × 6</caption>\n",
       "<thead>\n",
       "\t<tr><th></th><th scope=col>Df</th><th scope=col>Sum of Sq</th><th scope=col>RSS</th><th scope=col>AIC</th><th scope=col>F value</th><th scope=col>Pr(&gt;F)</th></tr>\n",
       "\t<tr><th></th><th scope=col>&lt;dbl&gt;</th><th scope=col>&lt;dbl&gt;</th><th scope=col>&lt;dbl&gt;</th><th scope=col>&lt;dbl&gt;</th><th scope=col>&lt;dbl&gt;</th><th scope=col>&lt;dbl&gt;</th></tr>\n",
       "</thead>\n",
       "<tbody>\n",
       "\t<tr><th scope=row>&lt;none&gt;</th><td>NA</td><td>       NA</td><td>3139.906</td><td>159.8700</td><td>        NA</td><td>       NA</td></tr>\n",
       "\t<tr><th scope=row>sl</th><td> 1</td><td> 8.122243</td><td>3148.028</td><td>157.9578</td><td>0.08019015</td><td>0.7789224</td></tr>\n",
       "\t<tr><th scope=row>treatment</th><td> 1</td><td>12.699839</td><td>3152.606</td><td>158.0072</td><td>0.12538433</td><td>0.7256638</td></tr>\n",
       "</tbody>\n",
       "</table>\n"
      ],
      "text/latex": [
       "A anova: 3 × 6\n",
       "\\begin{tabular}{r|llllll}\n",
       "  & Df & Sum of Sq & RSS & AIC & F value & Pr(>F)\\\\\n",
       "  & <dbl> & <dbl> & <dbl> & <dbl> & <dbl> & <dbl>\\\\\n",
       "\\hline\n",
       "\t<none> & NA &        NA & 3139.906 & 159.8700 &         NA &        NA\\\\\n",
       "\tsl &  1 &  8.122243 & 3148.028 & 157.9578 & 0.08019015 & 0.7789224\\\\\n",
       "\ttreatment &  1 & 12.699839 & 3152.606 & 158.0072 & 0.12538433 & 0.7256638\\\\\n",
       "\\end{tabular}\n"
      ],
      "text/markdown": [
       "\n",
       "A anova: 3 × 6\n",
       "\n",
       "| <!--/--> | Df &lt;dbl&gt; | Sum of Sq &lt;dbl&gt; | RSS &lt;dbl&gt; | AIC &lt;dbl&gt; | F value &lt;dbl&gt; | Pr(&gt;F) &lt;dbl&gt; |\n",
       "|---|---|---|---|---|---|---|\n",
       "| &lt;none&gt; | NA |        NA | 3139.906 | 159.8700 |         NA |        NA |\n",
       "| sl |  1 |  8.122243 | 3148.028 | 157.9578 | 0.08019015 | 0.7789224 |\n",
       "| treatment |  1 | 12.699839 | 3152.606 | 158.0072 | 0.12538433 | 0.7256638 |\n",
       "\n"
      ],
      "text/plain": [
       "          Df Sum of Sq RSS      AIC      F value    Pr(>F)   \n",
       "<none>    NA        NA 3139.906 159.8700         NA        NA\n",
       "sl         1  8.122243 3148.028 157.9578 0.08019015 0.7789224\n",
       "treatment  1 12.699839 3152.606 158.0072 0.12538433 0.7256638"
      ]
     },
     "metadata": {},
     "output_type": "display_data"
    },
    {
     "data": {
      "text/html": [
       "<table class=\"dataframe\">\n",
       "<caption>A anova: 2 × 6</caption>\n",
       "<thead>\n",
       "\t<tr><th></th><th scope=col>Df</th><th scope=col>Sum of Sq</th><th scope=col>RSS</th><th scope=col>AIC</th><th scope=col>F value</th><th scope=col>Pr(&gt;F)</th></tr>\n",
       "\t<tr><th></th><th scope=col>&lt;dbl&gt;</th><th scope=col>&lt;dbl&gt;</th><th scope=col>&lt;dbl&gt;</th><th scope=col>&lt;dbl&gt;</th><th scope=col>&lt;dbl&gt;</th><th scope=col>&lt;dbl&gt;</th></tr>\n",
       "</thead>\n",
       "<tbody>\n",
       "\t<tr><th scope=row>&lt;none&gt;</th><td>NA</td><td>      NA</td><td>3148.028</td><td>157.9578</td><td>       NA</td><td>       NA</td></tr>\n",
       "\t<tr><th scope=row>treatment</th><td> 1</td><td>14.34391</td><td>3162.372</td><td>156.1124</td><td>0.1458071</td><td>0.7050989</td></tr>\n",
       "</tbody>\n",
       "</table>\n"
      ],
      "text/latex": [
       "A anova: 2 × 6\n",
       "\\begin{tabular}{r|llllll}\n",
       "  & Df & Sum of Sq & RSS & AIC & F value & Pr(>F)\\\\\n",
       "  & <dbl> & <dbl> & <dbl> & <dbl> & <dbl> & <dbl>\\\\\n",
       "\\hline\n",
       "\t<none> & NA &       NA & 3148.028 & 157.9578 &        NA &        NA\\\\\n",
       "\ttreatment &  1 & 14.34391 & 3162.372 & 156.1124 & 0.1458071 & 0.7050989\\\\\n",
       "\\end{tabular}\n"
      ],
      "text/markdown": [
       "\n",
       "A anova: 2 × 6\n",
       "\n",
       "| <!--/--> | Df &lt;dbl&gt; | Sum of Sq &lt;dbl&gt; | RSS &lt;dbl&gt; | AIC &lt;dbl&gt; | F value &lt;dbl&gt; | Pr(&gt;F) &lt;dbl&gt; |\n",
       "|---|---|---|---|---|---|---|\n",
       "| &lt;none&gt; | NA |       NA | 3148.028 | 157.9578 |        NA |        NA |\n",
       "| treatment |  1 | 14.34391 | 3162.372 | 156.1124 | 0.1458071 | 0.7050989 |\n",
       "\n"
      ],
      "text/plain": [
       "          Df Sum of Sq RSS      AIC      F value   Pr(>F)   \n",
       "<none>    NA       NA  3148.028 157.9578        NA        NA\n",
       "treatment  1 14.34391  3162.372 156.1124 0.1458071 0.7050989"
      ]
     },
     "metadata": {},
     "output_type": "display_data"
    },
    {
     "data": {
      "text/plain": [
       "\n",
       "Call:\n",
       "lm(formula = activity ~ treatment, data = chrdat)\n",
       "\n",
       "Residuals:\n",
       "     Min       1Q   Median       3Q      Max \n",
       "-15.2134  -5.6558   0.0888   6.2787  25.2251 \n",
       "\n",
       "Coefficients:\n",
       "             Estimate Std. Error t value Pr(>|t|)    \n",
       "(Intercept)    26.100      2.218  11.768 3.66e-13 ***\n",
       "treatmentCO2   -1.320      3.456  -0.382    0.705    \n",
       "---\n",
       "Signif. codes:  0 '***' 0.001 '**' 0.01 '*' 0.05 '.' 0.1 ' ' 1\n",
       "\n",
       "Residual standard error: 9.918 on 32 degrees of freedom\n",
       "Multiple R-squared:  0.004536,\tAdjusted R-squared:  -0.02657 \n",
       "F-statistic: 0.1458 on 1 and 32 DF,  p-value: 0.7051\n"
      ]
     },
     "metadata": {},
     "output_type": "display_data"
    }
   ],
   "source": [
    "# chromis\n",
    "\n",
    "chrdat <- oaa[oaa$species=='chromis',]\n",
    "\n",
    "chr1 <- lm(activity ~ sl*treatment, data=chrdat)\n",
    "drop1(chr1, test='F')\n",
    "\n",
    "chr2 <- lm(activity ~ sl + treatment, data=chrdat)\n",
    "drop1(chr2, test='F')\n",
    "\n",
    "chr3 <- lm(activity ~ treatment, data=chrdat)\n",
    "drop1(chr3, test='F')\n",
    "summary(chr3) # final model"
   ]
  },
  {
   "cell_type": "code",
   "execution_count": 43,
   "id": "b1831d21-76ba-42b9-a029-a7d41bc9ee2e",
   "metadata": {
    "tags": []
   },
   "outputs": [
    {
     "data": {
      "text/html": [
       "<style>\n",
       ".dl-inline {width: auto; margin:0; padding: 0}\n",
       ".dl-inline>dt, .dl-inline>dd {float: none; width: auto; display: inline-block}\n",
       ".dl-inline>dt::after {content: \":\\0020\"; padding-right: .5ex}\n",
       ".dl-inline>dt:not(:first-of-type) {padding-left: .5ex}\n",
       "</style><dl class=dl-inline><dt>238</dt><dd>24</dd><dt>188</dt><dd>22</dd></dl>\n"
      ],
      "text/latex": [
       "\\begin{description*}\n",
       "\\item[238] 24\n",
       "\\item[188] 22\n",
       "\\end{description*}\n"
      ],
      "text/markdown": [
       "238\n",
       ":   24188\n",
       ":   22\n",
       "\n"
      ],
      "text/plain": [
       "238 188 \n",
       " 24  22 "
      ]
     },
     "metadata": {},
     "output_type": "display_data"
    },
    {
     "data": {
      "image/png": "[encoded data removed]",
      "text/plain": [
       "plot without title"
      ]
     },
     "metadata": {
      "image/png": {
       "height": 420,
       "width": 420
      }
     },
     "output_type": "display_data"
    },
    {
     "data": {
      "image/png": "[encoded data removed]",
      "text/plain": [
       "plot without title"
      ]
     },
     "metadata": {
      "image/png": {
       "height": 420,
       "width": 420
      }
     },
     "output_type": "display_data"
    },
    {
     "data": {
      "image/png": "[encoded data removed]",
      "text/plain": [
       "Plot with title \"treatment\""
      ]
     },
     "metadata": {
      "image/png": {
       "height": 420,
       "width": 420
      }
     },
     "output_type": "display_data"
    },
    {
     "data": {
      "image/png": "[encoded data removed]",
      "text/plain": [
       "plot without title"
      ]
     },
     "metadata": {
      "image/png": {
       "height": 420,
       "width": 420
      }
     },
     "output_type": "display_data"
    }
   ],
   "source": [
    "# visual checks of model assumptions\n",
    "# replace model name as needed\n",
    "# ensure dataframe is same one used to fit model\n",
    "E1 <- resid(chr3)\n",
    "F1 <- fitted(chr3)\n",
    "\n",
    "qqp(chr3$residuals)\n",
    "\n",
    "plot(x = F1, y = E1, xlab = 'fitted values', ylab = 'residuals') \n",
    "abline(h = 0)\n",
    "\n",
    "boxplot(E1 ~ chrdat$treatment, main = \"treatment\", ylab = 'residuals')\n",
    "abline(h = 0)\n",
    "\n",
    "plot(x = chrdat$sl, y = E1, xlab = \"standard length\", ylab = 'residuals') \n",
    "abline(h = 0)"
   ]
  },
  {
   "cell_type": "code",
   "execution_count": 44,
   "id": "9547a2ea-166a-4548-83ce-b96b53a6d253",
   "metadata": {
    "tags": []
   },
   "outputs": [
    {
     "data": {
      "text/plain": [
       "     loc\n",
       "size  LIRS 2014\n",
       "  big        43"
      ]
     },
     "metadata": {},
     "output_type": "display_data"
    },
    {
     "data": {
      "text/html": [
       "<table class=\"dataframe\">\n",
       "<caption>A anova: 2 × 6</caption>\n",
       "<thead>\n",
       "\t<tr><th></th><th scope=col>Df</th><th scope=col>Sum of Sq</th><th scope=col>RSS</th><th scope=col>AIC</th><th scope=col>F value</th><th scope=col>Pr(&gt;F)</th></tr>\n",
       "\t<tr><th></th><th scope=col>&lt;dbl&gt;</th><th scope=col>&lt;dbl&gt;</th><th scope=col>&lt;dbl&gt;</th><th scope=col>&lt;dbl&gt;</th><th scope=col>&lt;dbl&gt;</th><th scope=col>&lt;dbl&gt;</th></tr>\n",
       "</thead>\n",
       "<tbody>\n",
       "\t<tr><th scope=row>&lt;none&gt;</th><td>NA</td><td>      NA</td><td>5686.961</td><td>218.0434</td><td>       NA</td><td>       NA</td></tr>\n",
       "\t<tr><th scope=row>sl:treatment</th><td> 1</td><td>45.24693</td><td>5732.208</td><td>216.3842</td><td>0.3102941</td><td>0.5806828</td></tr>\n",
       "</tbody>\n",
       "</table>\n"
      ],
      "text/latex": [
       "A anova: 2 × 6\n",
       "\\begin{tabular}{r|llllll}\n",
       "  & Df & Sum of Sq & RSS & AIC & F value & Pr(>F)\\\\\n",
       "  & <dbl> & <dbl> & <dbl> & <dbl> & <dbl> & <dbl>\\\\\n",
       "\\hline\n",
       "\t<none> & NA &       NA & 5686.961 & 218.0434 &        NA &        NA\\\\\n",
       "\tsl:treatment &  1 & 45.24693 & 5732.208 & 216.3842 & 0.3102941 & 0.5806828\\\\\n",
       "\\end{tabular}\n"
      ],
      "text/markdown": [
       "\n",
       "A anova: 2 × 6\n",
       "\n",
       "| <!--/--> | Df &lt;dbl&gt; | Sum of Sq &lt;dbl&gt; | RSS &lt;dbl&gt; | AIC &lt;dbl&gt; | F value &lt;dbl&gt; | Pr(&gt;F) &lt;dbl&gt; |\n",
       "|---|---|---|---|---|---|---|\n",
       "| &lt;none&gt; | NA |       NA | 5686.961 | 218.0434 |        NA |        NA |\n",
       "| sl:treatment |  1 | 45.24693 | 5732.208 | 216.3842 | 0.3102941 | 0.5806828 |\n",
       "\n"
      ],
      "text/plain": [
       "             Df Sum of Sq RSS      AIC      F value   Pr(>F)   \n",
       "<none>       NA       NA  5686.961 218.0434        NA        NA\n",
       "sl:treatment  1 45.24693  5732.208 216.3842 0.3102941 0.5806828"
      ]
     },
     "metadata": {},
     "output_type": "display_data"
    },
    {
     "data": {
      "text/html": [
       "<table class=\"dataframe\">\n",
       "<caption>A anova: 3 × 6</caption>\n",
       "<thead>\n",
       "\t<tr><th></th><th scope=col>Df</th><th scope=col>Sum of Sq</th><th scope=col>RSS</th><th scope=col>AIC</th><th scope=col>F value</th><th scope=col>Pr(&gt;F)</th></tr>\n",
       "\t<tr><th></th><th scope=col>&lt;dbl&gt;</th><th scope=col>&lt;dbl&gt;</th><th scope=col>&lt;dbl&gt;</th><th scope=col>&lt;dbl&gt;</th><th scope=col>&lt;dbl&gt;</th><th scope=col>&lt;dbl&gt;</th></tr>\n",
       "</thead>\n",
       "<tbody>\n",
       "\t<tr><th scope=row>&lt;none&gt;</th><td>NA</td><td>       NA</td><td>5732.208</td><td>216.3842</td><td>        NA</td><td>       NA</td></tr>\n",
       "\t<tr><th scope=row>sl</th><td> 1</td><td>16.376464</td><td>5748.584</td><td>214.5069</td><td>0.11427683</td><td>0.7370945</td></tr>\n",
       "\t<tr><th scope=row>treatment</th><td> 1</td><td> 9.927923</td><td>5742.136</td><td>214.4586</td><td>0.06927818</td><td>0.7937418</td></tr>\n",
       "</tbody>\n",
       "</table>\n"
      ],
      "text/latex": [
       "A anova: 3 × 6\n",
       "\\begin{tabular}{r|llllll}\n",
       "  & Df & Sum of Sq & RSS & AIC & F value & Pr(>F)\\\\\n",
       "  & <dbl> & <dbl> & <dbl> & <dbl> & <dbl> & <dbl>\\\\\n",
       "\\hline\n",
       "\t<none> & NA &        NA & 5732.208 & 216.3842 &         NA &        NA\\\\\n",
       "\tsl &  1 & 16.376464 & 5748.584 & 214.5069 & 0.11427683 & 0.7370945\\\\\n",
       "\ttreatment &  1 &  9.927923 & 5742.136 & 214.4586 & 0.06927818 & 0.7937418\\\\\n",
       "\\end{tabular}\n"
      ],
      "text/markdown": [
       "\n",
       "A anova: 3 × 6\n",
       "\n",
       "| <!--/--> | Df &lt;dbl&gt; | Sum of Sq &lt;dbl&gt; | RSS &lt;dbl&gt; | AIC &lt;dbl&gt; | F value &lt;dbl&gt; | Pr(&gt;F) &lt;dbl&gt; |\n",
       "|---|---|---|---|---|---|---|\n",
       "| &lt;none&gt; | NA |        NA | 5732.208 | 216.3842 |         NA |        NA |\n",
       "| sl |  1 | 16.376464 | 5748.584 | 214.5069 | 0.11427683 | 0.7370945 |\n",
       "| treatment |  1 |  9.927923 | 5742.136 | 214.4586 | 0.06927818 | 0.7937418 |\n",
       "\n"
      ],
      "text/plain": [
       "          Df Sum of Sq RSS      AIC      F value    Pr(>F)   \n",
       "<none>    NA        NA 5732.208 216.3842         NA        NA\n",
       "sl         1 16.376464 5748.584 214.5069 0.11427683 0.7370945\n",
       "treatment  1  9.927923 5742.136 214.4586 0.06927818 0.7937418"
      ]
     },
     "metadata": {},
     "output_type": "display_data"
    },
    {
     "data": {
      "text/html": [
       "<table class=\"dataframe\">\n",
       "<caption>A anova: 2 × 6</caption>\n",
       "<thead>\n",
       "\t<tr><th></th><th scope=col>Df</th><th scope=col>Sum of Sq</th><th scope=col>RSS</th><th scope=col>AIC</th><th scope=col>F value</th><th scope=col>Pr(&gt;F)</th></tr>\n",
       "\t<tr><th></th><th scope=col>&lt;dbl&gt;</th><th scope=col>&lt;dbl&gt;</th><th scope=col>&lt;dbl&gt;</th><th scope=col>&lt;dbl&gt;</th><th scope=col>&lt;dbl&gt;</th><th scope=col>&lt;dbl&gt;</th></tr>\n",
       "</thead>\n",
       "<tbody>\n",
       "\t<tr><th scope=row>&lt;none&gt;</th><td>NA</td><td>      NA</td><td>5748.584</td><td>214.5069</td><td>        NA</td><td>       NA</td></tr>\n",
       "\t<tr><th scope=row>treatment</th><td> 1</td><td>11.91931</td><td>5760.504</td><td>212.5959</td><td>0.08501079</td><td>0.7720885</td></tr>\n",
       "</tbody>\n",
       "</table>\n"
      ],
      "text/latex": [
       "A anova: 2 × 6\n",
       "\\begin{tabular}{r|llllll}\n",
       "  & Df & Sum of Sq & RSS & AIC & F value & Pr(>F)\\\\\n",
       "  & <dbl> & <dbl> & <dbl> & <dbl> & <dbl> & <dbl>\\\\\n",
       "\\hline\n",
       "\t<none> & NA &       NA & 5748.584 & 214.5069 &         NA &        NA\\\\\n",
       "\ttreatment &  1 & 11.91931 & 5760.504 & 212.5959 & 0.08501079 & 0.7720885\\\\\n",
       "\\end{tabular}\n"
      ],
      "text/markdown": [
       "\n",
       "A anova: 2 × 6\n",
       "\n",
       "| <!--/--> | Df &lt;dbl&gt; | Sum of Sq &lt;dbl&gt; | RSS &lt;dbl&gt; | AIC &lt;dbl&gt; | F value &lt;dbl&gt; | Pr(&gt;F) &lt;dbl&gt; |\n",
       "|---|---|---|---|---|---|---|\n",
       "| &lt;none&gt; | NA |       NA | 5748.584 | 214.5069 |         NA |        NA |\n",
       "| treatment |  1 | 11.91931 | 5760.504 | 212.5959 | 0.08501079 | 0.7720885 |\n",
       "\n"
      ],
      "text/plain": [
       "          Df Sum of Sq RSS      AIC      F value    Pr(>F)   \n",
       "<none>    NA       NA  5748.584 214.5069         NA        NA\n",
       "treatment  1 11.91931  5760.504 212.5959 0.08501079 0.7720885"
      ]
     },
     "metadata": {},
     "output_type": "display_data"
    },
    {
     "data": {
      "text/plain": [
       "\n",
       "Call:\n",
       "lm(formula = activity ~ treatment, data = ambdat)\n",
       "\n",
       "Residuals:\n",
       "    Min      1Q  Median      3Q     Max \n",
       "-17.369  -9.418  -2.315   7.370  24.402 \n",
       "\n",
       "Coefficients:\n",
       "             Estimate Std. Error t value Pr(>|t|)    \n",
       "(Intercept)    17.341      2.584   6.711 4.22e-08 ***\n",
       "treatmentCO2    1.053      3.612   0.292    0.772    \n",
       "---\n",
       "Signif. codes:  0 '***' 0.001 '**' 0.01 '*' 0.05 '.' 0.1 ' ' 1\n",
       "\n",
       "Residual standard error: 11.84 on 41 degrees of freedom\n",
       "Multiple R-squared:  0.002069,\tAdjusted R-squared:  -0.02227 \n",
       "F-statistic: 0.08501 on 1 and 41 DF,  p-value: 0.7721\n"
      ]
     },
     "metadata": {},
     "output_type": "display_data"
    }
   ],
   "source": [
    "# ambons\n",
    "\n",
    "ambdat <- na.omit(oaa[oaa$species=='ambon',])\n",
    "with(ambdat, table(size, loc))\n",
    "\n",
    "# linear models\n",
    "amb1 <- lm(activity ~ sl*treatment, data=ambdat)\n",
    "drop1(amb1, test='F')\n",
    "\n",
    "amb2 <- lm(activity ~ sl + treatment, data=ambdat)\n",
    "drop1(amb2, test='F')\n",
    "\n",
    "amb3 <- lm(activity ~ treatment, data=ambdat)\n",
    "drop1(amb3, test='F')\n",
    "summary(amb3)\n",
    "\n",
    "# nothing significant."
   ]
  },
  {
   "cell_type": "code",
   "execution_count": 45,
   "id": "c98c3267-837a-4a74-ac02-d2123a44b421",
   "metadata": {
    "tags": []
   },
   "outputs": [
    {
     "data": {
      "text/html": [
       "<style>\n",
       ".dl-inline {width: auto; margin:0; padding: 0}\n",
       ".dl-inline>dt, .dl-inline>dd {float: none; width: auto; display: inline-block}\n",
       ".dl-inline>dt::after {content: \":\\0020\"; padding-right: .5ex}\n",
       ".dl-inline>dt:not(:first-of-type) {padding-left: .5ex}\n",
       "</style><dl class=dl-inline><dt>6</dt><dd>5</dd><dt>171</dt><dd>32</dd></dl>\n"
      ],
      "text/latex": [
       "\\begin{description*}\n",
       "\\item[6] 5\n",
       "\\item[171] 32\n",
       "\\end{description*}\n"
      ],
      "text/markdown": [
       "6\n",
       ":   5171\n",
       ":   32\n",
       "\n"
      ],
      "text/plain": [
       "  6 171 \n",
       "  5  32 "
      ]
     },
     "metadata": {},
     "output_type": "display_data"
    },
    {
     "data": {
      "image/png": "[encoded data removed]",
      "text/plain": [
       "plot without title"
      ]
     },
     "metadata": {
      "image/png": {
       "height": 420,
       "width": 420
      }
     },
     "output_type": "display_data"
    },
    {
     "data": {
      "image/png": "[encoded data removed]",
      "text/plain": [
       "plot without title"
      ]
     },
     "metadata": {
      "image/png": {
       "height": 420,
       "width": 420
      }
     },
     "output_type": "display_data"
    },
    {
     "data": {
      "image/png": "[encoded data removed]",
      "text/plain": [
       "Plot with title \"treatment\""
      ]
     },
     "metadata": {
      "image/png": {
       "height": 420,
       "width": 420
      }
     },
     "output_type": "display_data"
    },
    {
     "data": {
      "image/png": "[encoded data removed]",
      "text/plain": [
       "plot without title"
      ]
     },
     "metadata": {
      "image/png": {
       "height": 420,
       "width": 420
      }
     },
     "output_type": "display_data"
    }
   ],
   "source": [
    "# replace model name as needed\n",
    "# ensure dataframe is same one used to fit model\n",
    "E1 <- resid(amb3)\n",
    "F1 <- fitted(amb3)\n",
    "\n",
    "qqp(amb3$residuals)\n",
    "\n",
    "plot(x = F1, y = E1, xlab = 'fitted values', ylab = 'residuals') \n",
    "abline(h = 0)\n",
    "\n",
    "boxplot(E1 ~ ambdat$treatment, main = \"treatment\", ylab = 'residuals')\n",
    "abline(h = 0)\n",
    "\n",
    "plot(x = ambdat$sl, y = E1, xlab = \"standard length\", ylab = 'residuals') \n",
    "abline(h = 0)\n",
    "\n",
    "\n",
    "# statistics end"
   ]
  },
  {
   "cell_type": "code",
   "execution_count": 46,
   "id": "66263a82-28fe-4b70-862c-d8580ee7ca08",
   "metadata": {
    "tags": []
   },
   "outputs": [
    {
     "data": {
      "text/html": [
       "<strong>png:</strong> 2"
      ],
      "text/latex": [
       "\\textbf{png:} 2"
      ],
      "text/markdown": [
       "**png:** 2"
      ],
      "text/plain": [
       "png \n",
       "  2 "
      ]
     },
     "metadata": {},
     "output_type": "display_data"
    }
   ],
   "source": [
    "# figure for paper\n",
    "library(scales)\n",
    "library(plotrix)\n",
    "\n",
    "\n",
    "file_nm <- 'OA activity scatter_confint_20190304'\n",
    "\n",
    "# run one of these, then run from the brackets below\n",
    "jpeg(paste(file_nm, '.jpg', sep=\"\"), width=14, height=6, units='in', res=600)\n",
    "pdf(paste(file_nm, '.pdf', sep=\"\"), width=14, height=6)\n",
    "\n",
    "\n",
    "{\n",
    "  ymin <- 0\n",
    "  ymax <- 60\n",
    "  ylab <- seq(from=ymin, to=ymax, by=10)\n",
    "  \n",
    "  layout(matrix(c(1,1,1,1,1,1,1,2,2,2,2,2,2,3,3,3,3,4,4,4,4,5,5,5,5,6,6,6,6), 1, 29))\n",
    "  \n",
    "  par(mar=c(1, 0, 0, 1), bty='n', oma=c(7, 7, 1, 0))\n",
    "  \n",
    "  # acanthos\n",
    "  plot(NA, ylim=c(-3, ymax), xlim=c(0.4, 3.6), xaxt = 'n', yaxt = 'n')\n",
    "  \n",
    "  rect(-5000, -5000, 10000, 10000, col='grey92')\n",
    "  abline(v = c(0.8, 1.2, 1.8, 2.2, 2.8, 3.2), lwd=3.6, col='white')\n",
    "  abline(h = c(ylab), lwd=3.6, col='white')\n",
    "  \n",
    "  #2014\n",
    "  foo <- oaa[oaa$species=='acantho' & oaa$loc=='LIRS 2014',]\n",
    "  \n",
    "  points(activity ~ jitter(as.numeric(treatment)-0.2, 11), data=foo[foo$treatment=='control',], lwd=1, pch=18, col = 'grey40', cex=1.1)\n",
    "  points(activity ~ jitter(as.numeric(treatment)-0.8, 5.5), data=foo[foo$treatment=='CO2',], lwd=1, pch=16, col = 'dodgerblue2')\n",
    "  \n",
    "  axis(2, at = ylab, labels = ylab, lty=0, tick=NA, cex.axis=2, las=2)\n",
    "  mtext(expression(paste('Activity duration (', 's min'^'-1', ')')), side=2, line=3.25, cex=2)\n",
    "  \n",
    "  #mtext(expression(italic('A. polyacanthus')), cex=1.5, side=3, line=1)\n",
    "  \n",
    "  text(0.6, 58, labels = 'A', cex=3.4, font=2)\n",
    "  \n",
    "  points(x = 0.8, y = mean(foo[foo$treatment=='control',]$activity), cex=2.6, pch=16, col = 'grey40')\n",
    "  segments(x0 = 0.8, x1 = 0.8, \n",
    "           y0 = mean(foo[foo$treatment=='control',]$activity) - (qnorm(0.975)*std.error(foo[foo$treatment=='control',]$activity)), \n",
    "           y1 = mean(foo[foo$treatment=='control',]$activity) + (qnorm(0.975)*std.error(foo[foo$treatment=='control',]$activity)),\n",
    "           lwd = 4, col = 'grey40')\n",
    "  \n",
    "  segments(x0 = 0.65, x1 = 0.95, \n",
    "           y0 = mean(foo[foo$treatment=='control',]$activity) - (qnorm(0.975)*std.error(foo[foo$treatment=='control',]$activity)), \n",
    "           y1 = mean(foo[foo$treatment=='control',]$activity) - (qnorm(0.975)*std.error(foo[foo$treatment=='control',]$activity)),\n",
    "           lwd = 4, col = 'grey40')\n",
    "  \n",
    "  segments(x0 = 0.65, x1 = 0.95, \n",
    "           y0 = mean(foo[foo$treatment=='control',]$activity) + (qnorm(0.975)*std.error(foo[foo$treatment=='control',]$activity)), \n",
    "           y1 = mean(foo[foo$treatment=='control',]$activity) + (qnorm(0.975)*std.error(foo[foo$treatment=='control',]$activity)),\n",
    "           lwd = 4, col = 'grey40')\n",
    "  \n",
    "  segments(x0 = 1.2, x1 = 1.2, \n",
    "           y0 = mean(foo[foo$treatment=='CO2',]$activity) - (qnorm(0.975)*std.error(foo[foo$treatment=='CO2',]$activity)), \n",
    "           y1 = mean(foo[foo$treatment=='CO2',]$activity) + (qnorm(0.975)*std.error(foo[foo$treatment=='CO2',]$activity)),\n",
    "           lwd = 4, col = 'dodgerblue2')\n",
    "  \n",
    "  segments(x0 = 1.05, x1 = 1.35, \n",
    "           y0 = mean(foo[foo$treatment=='CO2',]$activity) - (qnorm(0.975)*std.error(foo[foo$treatment=='CO2',]$activity)), \n",
    "           y1 = mean(foo[foo$treatment=='CO2',]$activity) - (qnorm(0.975)*std.error(foo[foo$treatment=='CO2',]$activity)),\n",
    "           lwd = 4, col = 'dodgerblue2')\n",
    "  \n",
    "  segments(x0 = 1.05, x1 = 1.35, \n",
    "           y0 = mean(foo[foo$treatment=='CO2',]$activity) + (qnorm(0.975)*std.error(foo[foo$treatment=='CO2',]$activity)), \n",
    "           y1 = mean(foo[foo$treatment=='CO2',]$activity) + (qnorm(0.975)*std.error(foo[foo$treatment=='CO2',]$activity)),\n",
    "           lwd = 4, col = 'dodgerblue2')\n",
    "  points(x = 1.2, y = mean(foo[foo$treatment=='CO2',]$activity), cex=2.6, pch=21, col = 'dodgerblue2', bg='white', lwd=4)\n",
    "  \n",
    "  axis(1, at = c(0.8, 1.2), labels = c('Control', expression(paste('CO'[2]))), lty=0, tick=NA, cex.axis=2, las=2)\n",
    "  \n",
    "  \n",
    "  #2015\n",
    "  foo <- oaa[oaa$species=='acantho' & oaa$loc=='AIMS 2015',]\n",
    "  \n",
    "  points(activity ~ jitter(as.numeric(treatment)+0.8, 3), data=foo[foo$treatment=='control',], lwd=1, pch=18, col = 'grey40', cex=1.1)\n",
    "  points(activity ~ jitter(as.numeric(treatment)+0.2, 3), data=foo[foo$treatment=='CO2',], lwd=1, pch=16, col = 'dodgerblue2')\n",
    "  \n",
    "  points(x = 1.8, y = mean(foo[foo$treatment=='control',]$activity), cex=2.6, pch=16, col = 'grey40')\n",
    "  segments(x0 = 1.8, x1 = 1.8, \n",
    "           y0 = mean(foo[foo$treatment=='control',]$activity) - (qnorm(0.975)*std.error(foo[foo$treatment=='control',]$activity)), \n",
    "           y1 = mean(foo[foo$treatment=='control',]$activity) + (qnorm(0.975)*std.error(foo[foo$treatment=='control',]$activity)),\n",
    "           lwd = 4, col = 'grey40')\n",
    "  \n",
    "  segments(x0 = 1.65, x1 = 1.95, \n",
    "           y0 = mean(foo[foo$treatment=='control',]$activity) - (qnorm(0.975)*std.error(foo[foo$treatment=='control',]$activity)), \n",
    "           y1 = mean(foo[foo$treatment=='control',]$activity) - (qnorm(0.975)*std.error(foo[foo$treatment=='control',]$activity)),\n",
    "           lwd = 4, col = 'grey40')\n",
    "  \n",
    "  segments(x0 = 1.65, x1 = 1.95, \n",
    "           y0 = mean(foo[foo$treatment=='control',]$activity) + (qnorm(0.975)*std.error(foo[foo$treatment=='control',]$activity)), \n",
    "           y1 = mean(foo[foo$treatment=='control',]$activity) + (qnorm(0.975)*std.error(foo[foo$treatment=='control',]$activity)),\n",
    "           lwd = 4, col = 'grey40')\n",
    "  \n",
    "  \n",
    "  segments(x0 = 2.2, x1 = 2.2, \n",
    "           y0 = mean(foo[foo$treatment=='CO2',]$activity) - (qnorm(0.975)*std.error(foo[foo$treatment=='CO2',]$activity)), \n",
    "           y1 = mean(foo[foo$treatment=='CO2',]$activity) + (qnorm(0.975)*std.error(foo[foo$treatment=='CO2',]$activity)),\n",
    "           lwd = 4, col = 'dodgerblue2')\n",
    "  \n",
    "  segments(x0 = 2.05, x1 = 2.35, \n",
    "           y0 = mean(foo[foo$treatment=='CO2',]$activity) - (qnorm(0.975)*std.error(foo[foo$treatment=='CO2',]$activity)), \n",
    "           y1 = mean(foo[foo$treatment=='CO2',]$activity) - (qnorm(0.975)*std.error(foo[foo$treatment=='CO2',]$activity)),\n",
    "           lwd = 4, col = 'dodgerblue2')\n",
    "  \n",
    "  segments(x0 = 2.05, x1 = 2.35, \n",
    "           y0 = mean(foo[foo$treatment=='CO2',]$activity) + (qnorm(0.975)*std.error(foo[foo$treatment=='CO2',]$activity)), \n",
    "           y1 = mean(foo[foo$treatment=='CO2',]$activity) + (qnorm(0.975)*std.error(foo[foo$treatment=='CO2',]$activity)),\n",
    "           lwd = 4, col = 'dodgerblue2')\n",
    "  points(x = 2.2, y = mean(foo[foo$treatment=='CO2',]$activity), cex=2.6, pch=21, col = 'dodgerblue2', bg='white', lwd=4)\n",
    "  \n",
    "  axis(1, at = c(1.8, 2.2), labels = c('Control', expression(paste('CO'[2]))), lty=0, tick=NA, cex.axis=2, las=2)\n",
    "  \n",
    "  \n",
    "  # 2016 \n",
    "  foo <- oaa[oaa$species=='acantho' & oaa$loc=='LIRS 2016',]\n",
    "  \n",
    "  points(activity ~ jitter(as.numeric(treatment)+1.8, 2), data=foo[foo$treatment=='control',], lwd=1, pch=18, col = 'grey40', cex=1.1)\n",
    "  points(activity ~ jitter(as.numeric(treatment)+1.2, 2), data=foo[foo$treatment=='CO2',], lwd=1, pch=16, col = 'dodgerblue2')\n",
    "  \n",
    "  points(x = 2.8, y = mean(foo[foo$treatment=='control',]$activity), cex=2.6, pch=16, col = 'grey40')\n",
    "  segments(x0 = 2.8, x1 = 2.8, \n",
    "           y0 = mean(foo[foo$treatment=='control',]$activity) - (qnorm(0.975)*std.error(foo[foo$treatment=='control',]$activity)), \n",
    "           y1 = mean(foo[foo$treatment=='control',]$activity) + (qnorm(0.975)*std.error(foo[foo$treatment=='control',]$activity)),\n",
    "           lwd = 4, col = 'grey40')\n",
    "  \n",
    "  segments(x0 = 2.65, x1 = 2.95, \n",
    "           y0 = mean(foo[foo$treatment=='control',]$activity) - (qnorm(0.975)*std.error(foo[foo$treatment=='control',]$activity)), \n",
    "           y1 = mean(foo[foo$treatment=='control',]$activity) - (qnorm(0.975)*std.error(foo[foo$treatment=='control',]$activity)),\n",
    "           lwd = 4, col = 'grey40')\n",
    "  \n",
    "  segments(x0 = 2.65, x1 = 2.95, \n",
    "           y0 = mean(foo[foo$treatment=='control',]$activity) + (qnorm(0.975)*std.error(foo[foo$treatment=='control',]$activity)), \n",
    "           y1 = mean(foo[foo$treatment=='control',]$activity) + (qnorm(0.975)*std.error(foo[foo$treatment=='control',]$activity)),\n",
    "           lwd = 4, col = 'grey40')\n",
    "  \n",
    "  #points(x = 3.2, y = mean(foo[foo$treatment=='CO2',]$activity), cex=2.6, pch=16, col = 'dodgerblue2')\n",
    "  segments(x0 = 3.2, x1 = 3.2, \n",
    "           y0 = mean(foo[foo$treatment=='CO2',]$activity) - (qnorm(0.975)*std.error(foo[foo$treatment=='CO2',]$activity)), \n",
    "           y1 = mean(foo[foo$treatment=='CO2',]$activity) + (qnorm(0.975)*std.error(foo[foo$treatment=='CO2',]$activity)),\n",
    "           lwd = 4, col = 'dodgerblue2')\n",
    "  \n",
    "  segments(x0 = 3.05, x1 = 3.35, \n",
    "           y0 = mean(foo[foo$treatment=='CO2',]$activity) - (qnorm(0.975)*std.error(foo[foo$treatment=='CO2',]$activity)), \n",
    "           y1 = mean(foo[foo$treatment=='CO2',]$activity) - (qnorm(0.975)*std.error(foo[foo$treatment=='CO2',]$activity)),\n",
    "           lwd = 4, col = 'dodgerblue2')\n",
    "  \n",
    "  segments(x0 = 3.05, x1 = 3.35, \n",
    "           y0 = mean(foo[foo$treatment=='CO2',]$activity) + (qnorm(0.975)*std.error(foo[foo$treatment=='CO2',]$activity)), \n",
    "           y1 = mean(foo[foo$treatment=='CO2',]$activity) + (qnorm(0.975)*std.error(foo[foo$treatment=='CO2',]$activity)),\n",
    "           lwd = 4, col = 'dodgerblue2')\n",
    "  points(x = 3.2, y = mean(foo[foo$treatment=='CO2',]$activity), cex=2.6, pch=21, col = 'dodgerblue2', bg='white', lwd=4)\n",
    "  \n",
    "  text(1,-3, labels='2014', cex=2)\n",
    "  text(2,-3, labels='2015', cex=2)\n",
    "  text(3,-3, labels='2016', cex=2)\n",
    "  \n",
    "  axis(1, at = c(2.8, 3.2), labels = c('Control', expression(paste('CO'[2]))), lty=0, tick=NA, cex.axis=2, las=2)\n",
    "  \n",
    "  \n",
    "  \n",
    "  \n",
    "  # humbugs\n",
    "  plot(NA, ylim=c(-3, ymax), xlim=c(0.4, 2.6), xaxt = 'n', yaxt = 'n')\n",
    "  \n",
    "  rect(-5000, -5000, 10000, 10000, col='grey92')\n",
    "  abline(v = c(0.8, 1.2, 1.8, 2.2), lwd=3.6, col='white')\n",
    "  abline(h = c(ylab), lwd=3.6, col='white')\n",
    "  \n",
    "  \n",
    "  #2014\n",
    "  \n",
    "  foo <- oaa[oaa$species=='humbug' & oaa$loc=='LIRS 2014',]\n",
    "  \n",
    "  points(activity ~ jitter(as.numeric(treatment)-0.2, 11), data=foo[foo$treatment=='control',], lwd=1, pch=18, col = 'grey40', cex=1.1)\n",
    "  points(activity ~ jitter(as.numeric(treatment)-0.8, 5.5), data=foo[foo$treatment=='CO2',], lwd=1, pch=16, col = 'dodgerblue2')\n",
    "  \n",
    "  #mtext(expression(italic('D. aruanus')), cex=1.5, side=3, line=1)\n",
    "  \n",
    "  text(0.6, 58, labels = 'B', cex=3.4, font=2)\n",
    "  \n",
    "  points(x = 0.8, y = mean(foo[foo$treatment=='control',]$activity), cex=2.6, pch=16, col = 'grey40')\n",
    "  segments(x0 = 0.8, x1 = 0.8, \n",
    "           y0 = mean(foo[foo$treatment=='control',]$activity) - (qnorm(0.975)*std.error(foo[foo$treatment=='control',]$activity)), \n",
    "           y1 = mean(foo[foo$treatment=='control',]$activity) + (qnorm(0.975)*std.error(foo[foo$treatment=='control',]$activity)),\n",
    "           lwd = 4, col = 'grey40')\n",
    "  \n",
    "  segments(x0 = 0.65, x1 = 0.95, \n",
    "           y0 = mean(foo[foo$treatment=='control',]$activity) - (qnorm(0.975)*std.error(foo[foo$treatment=='control',]$activity)), \n",
    "           y1 = mean(foo[foo$treatment=='control',]$activity) - (qnorm(0.975)*std.error(foo[foo$treatment=='control',]$activity)),\n",
    "           lwd = 4, col = 'grey40')\n",
    "  \n",
    "  segments(x0 = 0.65, x1 = 0.95, \n",
    "           y0 = mean(foo[foo$treatment=='control',]$activity) + (qnorm(0.975)*std.error(foo[foo$treatment=='control',]$activity)), \n",
    "           y1 = mean(foo[foo$treatment=='control',]$activity) + (qnorm(0.975)*std.error(foo[foo$treatment=='control',]$activity)),\n",
    "           lwd = 4, col = 'grey40')\n",
    "  \n",
    "  #points(x = 1.2, y = mean(foo[foo$treatment=='CO2',]$activity), cex=2.6, pch=16, col = 'dodgerblue2')\n",
    "  segments(x0 = 1.2, x1 = 1.2, \n",
    "           y0 = mean(foo[foo$treatment=='CO2',]$activity) - (qnorm(0.975)*std.error(foo[foo$treatment=='CO2',]$activity)), \n",
    "           y1 = mean(foo[foo$treatment=='CO2',]$activity) + (qnorm(0.975)*std.error(foo[foo$treatment=='CO2',]$activity)),\n",
    "           lwd = 4, col = 'dodgerblue2')\n",
    "  \n",
    "  segments(x0 = 1.05, x1 = 1.35, \n",
    "           y0 = mean(foo[foo$treatment=='CO2',]$activity) - (qnorm(0.975)*std.error(foo[foo$treatment=='CO2',]$activity)), \n",
    "           y1 = mean(foo[foo$treatment=='CO2',]$activity) - (qnorm(0.975)*std.error(foo[foo$treatment=='CO2',]$activity)),\n",
    "           lwd = 4, col = 'dodgerblue2')\n",
    "  \n",
    "  segments(x0 = 1.05, x1 = 1.35, \n",
    "           y0 = mean(foo[foo$treatment=='CO2',]$activity) + (qnorm(0.975)*std.error(foo[foo$treatment=='CO2',]$activity)), \n",
    "           y1 = mean(foo[foo$treatment=='CO2',]$activity) + (qnorm(0.975)*std.error(foo[foo$treatment=='CO2',]$activity)),\n",
    "           lwd = 4, col = 'dodgerblue2')\n",
    "  points(x = 1.2, y = mean(foo[foo$treatment=='CO2',]$activity), cex=2.6, pch=21, col = 'dodgerblue2', bg='white', lwd=4)\n",
    "  \n",
    "  \n",
    "  \n",
    "  # 2016\n",
    "  \n",
    "  foo <- oaa[oaa$species=='humbug' & oaa$loc=='LIRS 2016',]\n",
    "  \n",
    "  points(activity ~ jitter(as.numeric(treatment)+0.8, 3), data=foo[foo$treatment=='control',], lwd=1, pch=18, col = 'grey40', cex=1.1)\n",
    "  points(activity ~ jitter(as.numeric(treatment)+0.2, 3), data=foo[foo$treatment=='CO2',], lwd=1, pch=16, col = 'dodgerblue2')\n",
    "  \n",
    "  \n",
    "  points(x = 1.8, y = mean(foo[foo$treatment=='control',]$activity), cex=2.6, pch=16, col = 'grey40')\n",
    "  segments(x0 = 1.8, x1 = 1.8, \n",
    "           y0 = mean(foo[foo$treatment=='control',]$activity) - (qnorm(0.975)*std.error(foo[foo$treatment=='control',]$activity)), \n",
    "           y1 = mean(foo[foo$treatment=='control',]$activity) + (qnorm(0.975)*std.error(foo[foo$treatment=='control',]$activity)),\n",
    "           lwd = 4, col = 'grey40')\n",
    "  \n",
    "  segments(x0 = 1.65, x1 = 1.95, \n",
    "           y0 = mean(foo[foo$treatment=='control',]$activity) - (qnorm(0.975)*std.error(foo[foo$treatment=='control',]$activity)), \n",
    "           y1 = mean(foo[foo$treatment=='control',]$activity) - (qnorm(0.975)*std.error(foo[foo$treatment=='control',]$activity)),\n",
    "           lwd = 4, col = 'grey40')\n",
    "  \n",
    "  segments(x0 = 1.65, x1 = 1.95, \n",
    "           y0 = mean(foo[foo$treatment=='control',]$activity) + (qnorm(0.975)*std.error(foo[foo$treatment=='control',]$activity)), \n",
    "           y1 = mean(foo[foo$treatment=='control',]$activity) + (qnorm(0.975)*std.error(foo[foo$treatment=='control',]$activity)),\n",
    "           lwd = 4, col = 'grey40')\n",
    "  \n",
    "  #points(x = 2.2, y = mean(foo[foo$treatment=='CO2',]$activity), cex=2.6, pch=16, col = 'dodgerblue2')\n",
    "  segments(x0 = 2.2, x1 = 2.2, \n",
    "           y0 = mean(foo[foo$treatment=='CO2',]$activity) - (qnorm(0.975)*std.error(foo[foo$treatment=='CO2',]$activity)), \n",
    "           y1 = mean(foo[foo$treatment=='CO2',]$activity) + (qnorm(0.975)*std.error(foo[foo$treatment=='CO2',]$activity)),\n",
    "           lwd = 4, col = 'dodgerblue2')\n",
    "  \n",
    "  segments(x0 = 2.05, x1 = 2.35, \n",
    "           y0 = mean(foo[foo$treatment=='CO2',]$activity) - (qnorm(0.975)*std.error(foo[foo$treatment=='CO2',]$activity)), \n",
    "           y1 = mean(foo[foo$treatment=='CO2',]$activity) - (qnorm(0.975)*std.error(foo[foo$treatment=='CO2',]$activity)),\n",
    "           lwd = 4, col = 'dodgerblue2')\n",
    "  \n",
    "  segments(x0 = 2.05, x1 = 2.35, \n",
    "           y0 = mean(foo[foo$treatment=='CO2',]$activity) + (qnorm(0.975)*std.error(foo[foo$treatment=='CO2',]$activity)), \n",
    "           y1 = mean(foo[foo$treatment=='CO2',]$activity) + (qnorm(0.975)*std.error(foo[foo$treatment=='CO2',]$activity)),\n",
    "           lwd = 4, col = 'dodgerblue2')\n",
    "  points(x = 2.2, y = mean(foo[foo$treatment=='CO2',]$activity), cex=2.6, pch=21, col = 'dodgerblue2', bg='white', lwd=4)\n",
    "  \n",
    "  \n",
    "  text(1,-3, labels='2015', cex=2)\n",
    "  text(2,-3, labels='2016', cex=2)\n",
    "  \n",
    "  axis(1, at = c(1.8, 2.2), labels = c('Control', expression(paste('CO'[2]))), lty=0, tick=NA, cex.axis=2, las=2)\n",
    "  axis(1, at = c(0.8, 1.2), labels = c('Control', expression(paste('CO'[2]))), lty=0, tick=NA, cex.axis=2, las=2)\n",
    "  \n",
    "  \n",
    "  \n",
    "  # chromis\n",
    "  plot(NA, ylim=c(-3, ymax), xlim=c(0.4, 2.6), xaxt = 'n', yaxt = 'n')\n",
    "  \n",
    "  rect(-5000, -5000, 10000, 10000, col='grey92')\n",
    "  abline(v = c(1:2), lwd=3.6, col='white')\n",
    "  abline(h = c(ylab), lwd=3.6, col='white')\n",
    "  #points(activity ~ jitter(as.numeric(treatment), 1.2), data=oaa[oaa$species=='chromis',], lwd=1, pch=1)\n",
    "  foo <- oaa[oaa$species=='chromis',]\n",
    "  \n",
    "  points(activity ~ jitter(as.numeric(treatment), 10), data=foo[foo$treatment=='control',], lwd=1, pch=18, col = 'grey40', cex=1.1)\n",
    "  points(activity ~ jitter(as.numeric(treatment), 5), data=foo[foo$treatment=='CO2',], lwd=1, pch=16, col = 'dodgerblue2')\n",
    "  \n",
    "  #mtext(expression(italic('C. atripectoralis')), cex=1.5, side=3, line=1)\n",
    "  axis(1, at = c(1,2), labels = c('Control', expression(paste('CO'[2]))), lty=0, tick=NA, cex.axis=2, las=2)\n",
    "  \n",
    "  text(1.5,-3, labels='2014', cex=2)\n",
    "  text(0.6, 58, labels = 'C', cex=3.4, font=2)\n",
    "  \n",
    "  points(x = 1, y = mean(foo[foo$treatment=='control',]$activity), cex=2.6, pch=16, col = 'grey40')\n",
    "  segments(x0 = 1, x1 = 1, \n",
    "           y0 = mean(foo[foo$treatment=='control',]$activity) - (qnorm(0.975)*std.error(foo[foo$treatment=='control',]$activity)), \n",
    "           y1 = mean(foo[foo$treatment=='control',]$activity) + (qnorm(0.975)*std.error(foo[foo$treatment=='control',]$activity)),\n",
    "           lwd = 4, col = 'grey40')\n",
    "  \n",
    "  segments(x0 = 0.8, x1 = 1.2, \n",
    "           y0 = mean(foo[foo$treatment=='control',]$activity) - (qnorm(0.975)*std.error(foo[foo$treatment=='control',]$activity)), \n",
    "           y1 = mean(foo[foo$treatment=='control',]$activity) - (qnorm(0.975)*std.error(foo[foo$treatment=='control',]$activity)),\n",
    "           lwd = 4, col = 'grey40')\n",
    "  \n",
    "  segments(x0 = 0.8, x1 = 1.2, \n",
    "           y0 = mean(foo[foo$treatment=='control',]$activity) + (qnorm(0.975)*std.error(foo[foo$treatment=='control',]$activity)), \n",
    "           y1 = mean(foo[foo$treatment=='control',]$activity) + (qnorm(0.975)*std.error(foo[foo$treatment=='control',]$activity)),\n",
    "           lwd = 4, col = 'grey40')\n",
    "  \n",
    "  #points(x = 2, y = mean(foo[foo$treatment=='CO2',]$activity), cex=2.6, pch=16, col = 'dodgerblue2')\n",
    "  segments(x0 = 2, x1 = 2, \n",
    "           y0 = mean(foo[foo$treatment=='CO2',]$activity) - qnorm(0.975)*std.error(foo[foo$treatment=='CO2',]$activity), \n",
    "           y1 = mean(foo[foo$treatment=='CO2',]$activity) + qnorm(0.975)*std.error(foo[foo$treatment=='CO2',]$activity),\n",
    "           lwd = 4, col = 'dodgerblue2')\n",
    "  \n",
    "  segments(x0 = 1.8, x1 = 2.2, \n",
    "           y0 = mean(foo[foo$treatment=='CO2',]$activity) - (qnorm(0.975)*std.error(foo[foo$treatment=='CO2',]$activity)), \n",
    "           y1 = mean(foo[foo$treatment=='CO2',]$activity) - (qnorm(0.975)*std.error(foo[foo$treatment=='CO2',]$activity)),\n",
    "           lwd = 4, col = 'dodgerblue2')\n",
    "  \n",
    "  segments(x0 = 1.8, x1 = 2.2, \n",
    "           y0 = mean(foo[foo$treatment=='CO2',]$activity) + (qnorm(0.975)*std.error(foo[foo$treatment=='CO2',]$activity)), \n",
    "           y1 = mean(foo[foo$treatment=='CO2',]$activity) + (qnorm(0.975)*std.error(foo[foo$treatment=='CO2',]$activity)),\n",
    "           lwd = 4, col = 'dodgerblue2')\n",
    "  points(x = 2, y = mean(foo[foo$treatment=='CO2',]$activity), cex=2.6, pch=21, col = 'dodgerblue2', bg='white', lwd=4)\n",
    "  \n",
    "  \n",
    "  # ambon\n",
    "  plot(NA, ylim=c(-3, ymax), xlim=c(0.4, 2.6), xaxt = 'n', yaxt = 'n')\n",
    "  \n",
    "  rect(-5000, -5000, 10000, 10000, col='grey92')\n",
    "  abline(v = c(1:2), lwd=3.6, col='white')\n",
    "  abline(h = c(ylab), lwd=3.6, col='white')\n",
    "  #points(activity ~ jitter(as.numeric(treatment), 1.2), data=oaa[oaa$species=='ambon',], lwd=1, pch=1)\n",
    "  foo <- oaa[oaa$species=='ambon',]\n",
    "  \n",
    "  points(activity ~ jitter(as.numeric(treatment), 10), data=foo[foo$treatment=='control',], lwd=1, pch=18, col = 'grey40', cex=1.1)\n",
    "  points(activity ~ jitter(as.numeric(treatment), 5), data=foo[foo$treatment=='CO2',], lwd=1, pch=16, col = 'dodgerblue2')\n",
    "  \n",
    "  mtext(expression(italic('P. amboinensis')), cex=1.5, side=3, line=1)\n",
    "  axis(1, at = c(1,2), labels = c('Control', expression(paste('CO'[2]))), lty=0, tick=NA, cex.axis=2, las=2)\n",
    "  text(1.5,-3, labels='2014', cex=2)\n",
    "  text(0.6, 58, labels = 'D', cex=3.4, font=2)\n",
    "  \n",
    "  \n",
    "  points(x = 1, y = mean(foo[foo$treatment=='control',]$activity), cex=2.6, pch=16, col = 'grey40')\n",
    "  segments(x0 = 1, x1 = 1, \n",
    "           y0 = mean(foo[foo$treatment=='control',]$activity) - (qnorm(0.975)*std.error(foo[foo$treatment=='control',]$activity)), \n",
    "           y1 = mean(foo[foo$treatment=='control',]$activity) + (qnorm(0.975)*std.error(foo[foo$treatment=='control',]$activity)),\n",
    "           lwd = 4, col = 'grey40')\n",
    "  \n",
    "  segments(x0 = 0.8, x1 = 1.2, \n",
    "           y0 = mean(foo[foo$treatment=='control',]$activity) - (qnorm(0.975)*std.error(foo[foo$treatment=='control',]$activity)), \n",
    "           y1 = mean(foo[foo$treatment=='control',]$activity) - (qnorm(0.975)*std.error(foo[foo$treatment=='control',]$activity)),\n",
    "           lwd = 4, col = 'grey40')\n",
    "  \n",
    "  segments(x0 = 0.8, x1 = 1.2, \n",
    "           y0 = mean(foo[foo$treatment=='control',]$activity) + (qnorm(0.975)*std.error(foo[foo$treatment=='control',]$activity)), \n",
    "           y1 = mean(foo[foo$treatment=='control',]$activity) + (qnorm(0.975)*std.error(foo[foo$treatment=='control',]$activity)),\n",
    "           lwd = 4, col = 'grey40')\n",
    "  \n",
    "  #points(x = 2, y = mean(foo[foo$treatment=='CO2',]$activity), cex=2.6, pch=16, col = 'dodgerblue2')\n",
    "  segments(x0 = 2, x1 = 2, \n",
    "           y0 = mean(foo[foo$treatment=='CO2',]$activity) - (qnorm(0.975)*std.error(foo[foo$treatment=='CO2',]$activity)), \n",
    "           y1 = mean(foo[foo$treatment=='CO2',]$activity) + (qnorm(0.975)*std.error(foo[foo$treatment=='CO2',]$activity)),\n",
    "           lwd = 4, col = 'dodgerblue2')\n",
    "  \n",
    "  segments(x0 = 1.8, x1 = 2.2, \n",
    "           y0 = mean(foo[foo$treatment=='CO2',]$activity) - (qnorm(0.975)*std.error(foo[foo$treatment=='CO2',]$activity)), \n",
    "           y1 = mean(foo[foo$treatment=='CO2',]$activity) - (qnorm(0.975)*std.error(foo[foo$treatment=='CO2',]$activity)),\n",
    "           lwd = 4, col = 'dodgerblue2')\n",
    "  \n",
    "  segments(x0 = 1.8, x1 = 2.2, \n",
    "           y0 = mean(foo[foo$treatment=='CO2',]$activity) + (qnorm(0.975)*std.error(foo[foo$treatment=='CO2',]$activity)), \n",
    "           y1 = mean(foo[foo$treatment=='CO2',]$activity) + (qnorm(0.975)*std.error(foo[foo$treatment=='CO2',]$activity)),\n",
    "           lwd = 4, col = 'dodgerblue2')\n",
    "  points(x = 2, y = mean(foo[foo$treatment=='CO2',]$activity), cex=2.6, pch=21, col = 'dodgerblue2', bg='white', lwd=4)\n",
    "  \n",
    "  \n",
    "  # lemon damsel\n",
    "  plot(NA, ylim=c(-3, ymax), xlim=c(0.4, 2.6), xaxt = 'n', yaxt = 'n')\n",
    "  \n",
    "  rect(-5000, -5000, 10000, 10000, col='grey92')\n",
    "  abline(v = c(1:2), lwd=3.6, col='white')\n",
    "  abline(h = c(ylab), lwd=3.6, col='white')\n",
    "  #points(activity ~ jitter(as.numeric(treatment), 1.2), data=oaa[oaa$species=='lemon',], lwd=1, pch=1)\n",
    "  foo <- oaa[oaa$species=='lemon',]\n",
    "  \n",
    "  points(activity ~ jitter(as.numeric(treatment), 10), data=foo[foo$treatment=='control',], lwd=1, pch=18, col = 'grey40', cex=1.1)\n",
    "  points(activity ~ jitter(as.numeric(treatment), 5), data=foo[foo$treatment=='CO2',], lwd=1, pch=16, col = 'dodgerblue2')\n",
    "  \n",
    "  text(0.6, 58, labels = 'E', cex=3.4, font=2)\n",
    "  \n",
    "  # mtext(expression(italic('P. moluccensis')), cex=1.5, side=3, line=1)\n",
    "  axis(1, at = c(1,2), labels = c('Control', expression(paste('CO'[2]))), lty=0, tick=NA, cex.axis=2, las=2)\n",
    "  text(1.5,-3, labels='2014', cex=2)\n",
    "  \n",
    "  \n",
    "  points(x = 1, y = mean(foo[foo$treatment=='control',]$activity), cex=2.6, pch=16, col = 'grey40')\n",
    "  segments(x0 = 1, x1 = 1, \n",
    "           y0 = mean(foo[foo$treatment=='control',]$activity) - (qnorm(0.975)*std.error(foo[foo$treatment=='control',]$activity)), \n",
    "           y1 = mean(foo[foo$treatment=='control',]$activity) + (qnorm(0.975)*std.error(foo[foo$treatment=='control',]$activity)),\n",
    "           lwd = 4, col = 'grey40')\n",
    "  \n",
    "  segments(x0 = 0.8, x1 = 1.2, \n",
    "           y0 = mean(foo[foo$treatment=='control',]$activity) - (qnorm(0.975)*std.error(foo[foo$treatment=='control',]$activity)), \n",
    "           y1 = mean(foo[foo$treatment=='control',]$activity) - (qnorm(0.975)*std.error(foo[foo$treatment=='control',]$activity)),\n",
    "           lwd = 4, col = 'grey40')\n",
    "  \n",
    "  segments(x0 = 0.8, x1 = 1.2, \n",
    "           y0 = mean(foo[foo$treatment=='control',]$activity) + (qnorm(0.975)*std.error(foo[foo$treatment=='control',]$activity)), \n",
    "           y1 = mean(foo[foo$treatment=='control',]$activity) + (qnorm(0.975)*std.error(foo[foo$treatment=='control',]$activity)),\n",
    "           lwd = 4, col = 'grey40')\n",
    "  \n",
    "  #points(x = 2, y = mean(foo[foo$treatment=='CO2',]$activity), cex=2.6, pch=16, col = 'dodgerblue2')\n",
    "  segments(x0 = 2, x1 = 2, \n",
    "           y0 = mean(foo[foo$treatment=='CO2',]$activity) - (qnorm(0.975)*std.error(foo[foo$treatment=='CO2',]$activity)), \n",
    "           y1 = mean(foo[foo$treatment=='CO2',]$activity) + (qnorm(0.975)*std.error(foo[foo$treatment=='CO2',]$activity)),\n",
    "           lwd = 4, col = 'dodgerblue2')\n",
    "  \n",
    "  segments(x0 = 1.8, x1 = 2.2, \n",
    "           y0 = mean(foo[foo$treatment=='CO2',]$activity) - (qnorm(0.975)*std.error(foo[foo$treatment=='CO2',]$activity)), \n",
    "           y1 = mean(foo[foo$treatment=='CO2',]$activity) - (qnorm(0.975)*std.error(foo[foo$treatment=='CO2',]$activity)),\n",
    "           lwd = 4, col = 'dodgerblue2')\n",
    "  \n",
    "  segments(x0 = 1.8, x1 = 2.2, \n",
    "           y0 = mean(foo[foo$treatment=='CO2',]$activity) + (qnorm(0.975)*std.error(foo[foo$treatment=='CO2',]$activity)), \n",
    "           y1 = mean(foo[foo$treatment=='CO2',]$activity) + (qnorm(0.975)*std.error(foo[foo$treatment=='CO2',]$activity)),\n",
    "           lwd = 4, col = 'dodgerblue2')  \n",
    "  points(x = 2, y = mean(foo[foo$treatment=='CO2',]$activity), cex=2.6, pch=21, col = 'dodgerblue2', bg='white', lwd=4)\n",
    "  \n",
    "  \n",
    "  \n",
    "  # white damsels\n",
    "  plot(NA, ylim=c(-3, ymax), xlim=c(0.4, 2.6), xaxt = 'n', yaxt = 'n')\n",
    "  \n",
    "  rect(-5000, -5000, 10000, 10000, col='grey92')\n",
    "  abline(v = c(1:2), lwd=3.6, col='white')\n",
    "  abline(h = c(ylab), lwd=3.6, col='white')\n",
    "  #points(activity ~ jitter(as.numeric(treatment), 1.2), data=oaa[oaa$species=='whitedams',], lwd=1, pch=1)\n",
    "  foo <- oaa[oaa$species=='whitedams',]\n",
    "  \n",
    "  points(activity ~ jitter(as.numeric(treatment), 10), data=foo[foo$treatment=='control',], lwd=1, pch=18, col = 'grey40', cex=1.1)\n",
    "  points(activity ~ jitter(as.numeric(treatment), 5), data=foo[foo$treatment=='CO2',], lwd=1, pch=16, col = 'dodgerblue2')\n",
    "  \n",
    "  #mtext(expression(italic('D. perspicillatus')), cex=1.5, side=3, line=1)\n",
    "  axis(1, at = c(1,2), labels = c('Control', expression(paste('CO'[2]))), lty=0, tick=NA, cex.axis=2, las=2)\n",
    "  \n",
    "  text(0.6, 58, labels = 'F', cex=3.4, font=2)\n",
    "  text(1.5,-3, labels='2016', cex=2)\n",
    "  \n",
    "  points(x = 1, y = mean(foo[foo$treatment=='control',]$activity), cex=2.6, pch=16, col = 'grey40')\n",
    "  segments(x0 = 1, x1 = 1, \n",
    "           y0 = mean(foo[foo$treatment=='control',]$activity) - (qnorm(0.975)*std.error(foo[foo$treatment=='control',]$activity)), \n",
    "           y1 = mean(foo[foo$treatment=='control',]$activity) + (qnorm(0.975)*std.error(foo[foo$treatment=='control',]$activity)),\n",
    "           lwd = 4, col = 'grey40')\n",
    "  \n",
    "  segments(x0 = 0.8, x1 = 1.2, \n",
    "           y0 = mean(foo[foo$treatment=='control',]$activity) - (qnorm(0.975)*std.error(foo[foo$treatment=='control',]$activity)), \n",
    "           y1 = mean(foo[foo$treatment=='control',]$activity) - (qnorm(0.975)*std.error(foo[foo$treatment=='control',]$activity)),\n",
    "           lwd = 4, col = 'grey40')\n",
    "  \n",
    "  segments(x0 = 0.8, x1 = 1.2, \n",
    "           y0 = mean(foo[foo$treatment=='control',]$activity) + (qnorm(0.975)*std.error(foo[foo$treatment=='control',]$activity)), \n",
    "           y1 = mean(foo[foo$treatment=='control',]$activity) + (qnorm(0.975)*std.error(foo[foo$treatment=='control',]$activity)),\n",
    "           lwd = 4, col = 'grey40')\n",
    "  \n",
    "  #points(x = 2, y = mean(foo[foo$treatment=='CO2',]$activity), cex=2.6, pch=16, col = 'dodgerblue2')\n",
    "  segments(x0 = 2, x1 = 2, \n",
    "           y0 = mean(foo[foo$treatment=='CO2',]$activity) - qnorm(0.975)*std.error(foo[foo$treatment=='CO2',]$activity), \n",
    "           y1 = mean(foo[foo$treatment=='CO2',]$activity) + qnorm(0.975)*std.error(foo[foo$treatment=='CO2',]$activity),\n",
    "           lwd = 4, col = 'dodgerblue2')\n",
    "  \n",
    "  segments(x0 = 1.8, x1 = 2.2, \n",
    "           y0 = mean(foo[foo$treatment=='CO2',]$activity) - (qnorm(0.975)*std.error(foo[foo$treatment=='CO2',]$activity)), \n",
    "           y1 = mean(foo[foo$treatment=='CO2',]$activity) - (qnorm(0.975)*std.error(foo[foo$treatment=='CO2',]$activity)),\n",
    "           lwd = 4, col = 'dodgerblue2')\n",
    "  \n",
    "  segments(x0 = 1.8, x1 = 2.2, \n",
    "           y0 = mean(foo[foo$treatment=='CO2',]$activity) + (qnorm(0.975)*std.error(foo[foo$treatment=='CO2',]$activity)), \n",
    "           y1 = mean(foo[foo$treatment=='CO2',]$activity) + (qnorm(0.975)*std.error(foo[foo$treatment=='CO2',]$activity)),\n",
    "           lwd = 4, col = 'dodgerblue2')\n",
    "  points(x = 2, y = mean(foo[foo$treatment=='CO2',]$activity), cex=2.6, pch=21, col = 'dodgerblue2', bg='white', lwd=4)\n",
    "  \n",
    "  \n",
    "  \n",
    "  \n",
    "  dev.off()\n",
    "}"
   ]
  },
  {
   "cell_type": "code",
   "execution_count": 47,
   "id": "b43d6ae7-41ca-4b11-b4f5-85cc3bce1bd9",
   "metadata": {
    "tags": []
   },
   "outputs": [
    {
     "data": {
      "text/plain": [
       "\n",
       "Call:\n",
       "lm(formula = activity ~ treatment * sl, data = foo)\n",
       "\n",
       "Residuals:\n",
       "     Min       1Q   Median       3Q      Max \n",
       "-13.5396  -3.7489  -0.2603   4.2788  14.1551 \n",
       "\n",
       "Coefficients:\n",
       "                Estimate Std. Error t value Pr(>|t|)  \n",
       "(Intercept)      23.3253     9.6002   2.430   0.0180 *\n",
       "treatmentCO2     19.7591    11.8131   1.673   0.0994 .\n",
       "sl                0.2972     0.7921   0.375   0.7087  \n",
       "treatmentCO2:sl  -2.1122     0.9916  -2.130   0.0371 *\n",
       "---\n",
       "Signif. codes:  0 '***' 0.001 '**' 0.01 '*' 0.05 '.' 0.1 ' ' 1\n",
       "\n",
       "Residual standard error: 6.004 on 62 degrees of freedom\n",
       "Multiple R-squared:  0.2312,\tAdjusted R-squared:  0.194 \n",
       "F-statistic: 6.214 on 3 and 62 DF,  p-value: 0.0009275\n"
      ]
     },
     "metadata": {},
     "output_type": "display_data"
    },
    {
     "data": {
      "text/plain": [
       "\n",
       "Call:\n",
       "lm(formula = activity ~ treatment + sl, data = foo)\n",
       "\n",
       "Residuals:\n",
       "     Min       1Q   Median       3Q      Max \n",
       "-11.1311  -3.9870   0.7737   3.2205  12.2490 \n",
       "\n",
       "Coefficients:\n",
       "             Estimate Std. Error t value Pr(>|t|)    \n",
       "(Intercept)   48.1100     7.8079   6.162 3.42e-05 ***\n",
       "treatmentCO2   9.6563     3.1215   3.093 0.008553 ** \n",
       "sl            -0.5944     0.1125  -5.282 0.000148 ***\n",
       "---\n",
       "Signif. codes:  0 '***' 0.001 '**' 0.01 '*' 0.05 '.' 0.1 ' ' 1\n",
       "\n",
       "Residual standard error: 6.242 on 13 degrees of freedom\n",
       "  (2 observations deleted due to missingness)\n",
       "Multiple R-squared:  0.7451,\tAdjusted R-squared:  0.7059 \n",
       "F-statistic:    19 on 2 and 13 DF,  p-value: 0.0001383\n"
      ]
     },
     "metadata": {},
     "output_type": "display_data"
    },
    {
     "data": {
      "text/html": [
       "<style>\n",
       ".list-inline {list-style: none; margin:0; padding: 0}\n",
       ".list-inline>li {display: inline-block}\n",
       ".list-inline>li:not(:last-child)::after {content: \"\\00b7\"; padding: 0 .5ex}\n",
       "</style>\n",
       "<ol class=list-inline><li>50.11667687</li><li>92.53241927</li></ol>\n"
      ],
      "text/latex": [
       "\\begin{enumerate*}\n",
       "\\item 50.11667687\n",
       "\\item 92.53241927\n",
       "\\end{enumerate*}\n"
      ],
      "text/markdown": [
       "1. 50.11667687\n",
       "2. 92.53241927\n",
       "\n",
       "\n"
      ],
      "text/plain": [
       "[1] 50.11668 92.53242"
      ]
     },
     "metadata": {},
     "output_type": "display_data"
    },
    {
     "data": {
      "text/html": [
       "86"
      ],
      "text/latex": [
       "86"
      ],
      "text/markdown": [
       "86"
      ],
      "text/plain": [
       "[1] 86"
      ]
     },
     "metadata": {},
     "output_type": "display_data"
    },
    {
     "data": {
      "text/html": [
       "86"
      ],
      "text/latex": [
       "86"
      ],
      "text/markdown": [
       "86"
      ],
      "text/plain": [
       "[1] 86"
      ]
     },
     "metadata": {},
     "output_type": "display_data"
    },
    {
     "name": "stdout",
     "output_type": "stream",
     "text": [
      "'data.frame':\t86 obs. of  2 variables:\n",
      " $ treatment: Factor w/ 2 levels \"CO2\",\"control\": 2 2 2 2 2 2 2 2 2 2 ...\n",
      " $ sl       : num  50 51 52 53 54 55 56 57 58 59 ...\n"
     ]
    },
    {
     "data": {
      "text/html": [
       "26"
      ],
      "text/latex": [
       "26"
      ],
      "text/markdown": [
       "26"
      ],
      "text/plain": [
       "[1] 26"
      ]
     },
     "metadata": {},
     "output_type": "display_data"
    },
    {
     "data": {
      "text/html": [
       "26"
      ],
      "text/latex": [
       "26"
      ],
      "text/markdown": [
       "26"
      ],
      "text/plain": [
       "[1] 26"
      ]
     },
     "metadata": {},
     "output_type": "display_data"
    },
    {
     "name": "stdout",
     "output_type": "stream",
     "text": [
      "'data.frame':\t26 obs. of  2 variables:\n",
      " $ treatment: chr  \"control\" \"control\" \"control\" \"control\" ...\n",
      " $ sl       : num  8 8.5 9 9.5 10 10.5 11 11.5 12 12.5 ...\n"
     ]
    }
   ],
   "source": [
    "# visualize models that include effects of standard length\n",
    "# first up, showing acantho models for 2014 and 2015 (nothing significant in 2016)\n",
    "\n",
    "\n",
    "\n",
    "# acantho stuff first. excluding 2016 cuz nothing going on there.\n",
    "\n",
    "\n",
    "foo <- oaa[oaa$species=='acantho',]\n",
    "\n",
    "summary(ac110) # acanthos 2015\n",
    "summary(ac101) # acanthos 2014\n",
    "\n",
    "\n",
    "range(foo[foo$loc=='LIRS 2014',]$sl)\n",
    "\n",
    "# script for predicting from models # 2014 acanthos based on SL range\n",
    "SL_seq <- seq(from=50, to=92, by=1) #SL\n",
    "co2_seq <- rep('CO2', length(SL_seq))\n",
    "control_seq <- rep('control', length(SL_seq))\n",
    "\n",
    "treatment_seq <- c(control_seq, co2_seq)\n",
    "sl_seq <- rep(SL_seq, 2)\n",
    "\n",
    "length(sl_seq)\n",
    "length(treatment_seq)\n",
    "\n",
    "fake_data <- data.frame(treatment = treatment_seq, sl = sl_seq) #merge it all into a dataframe\n",
    "fake_data$treatment <- as.factor(fake_data$treatment)\n",
    "str(fake_data) #cool, a fake dataset to predict from.\n",
    "fake_data$treatment <- relevel(as.factor(fake_data$treatment), ref = 'control')\n",
    "\n",
    "pdat <- predict(ac101, fake_data, se.fit=TRUE)\n",
    "activity_fit <- data.frame(treatment = treatment_seq, sl=sl_seq, fit = pdat$fit, se = pdat$se.fit)\n",
    "activity_fit$lci <- activity_fit$fit - (1.96*activity_fit$se) #calculate lower and upper confidence intervals from the standard errors\n",
    "activity_fit$uci <- activity_fit$fit + (1.96*activity_fit$se)\n",
    "\n",
    "ac2014fit <- activity_fit\n",
    "\n",
    "\n",
    "\n",
    "# script for predicting from models # 2015 acanthos.\n",
    "SL_seq <- seq(from=8, to=14, by=0.5) #SL\n",
    "co2_seq <- rep('CO2', length(SL_seq))\n",
    "control_seq <- rep('control', length(SL_seq))\n",
    "\n",
    "treatment_seq <- c(control_seq, co2_seq)\n",
    "sl_seq <- rep(SL_seq, 2)\n",
    "\n",
    "length(sl_seq)\n",
    "length(treatment_seq)\n",
    "\n",
    "fake_data <- data.frame(treatment = treatment_seq, sl = sl_seq) #merge it all into a dataframe\n",
    "str(fake_data) #cool, a fake dataset to predict from.\n",
    "fake_data$treatment <- relevel(as.factor(fake_data$treatment), ref = 'control')\n",
    "\n",
    "pdat <- predict(ac110, fake_data, se.fit=TRUE)\n",
    "activity_fit <- data.frame(treatment = treatment_seq, sl=sl_seq, fit = pdat$fit, se = pdat$se.fit)\n",
    "activity_fit$lci <- activity_fit$fit - (1.96*activity_fit$se) #calculate lower and upper confidence intervals from the standard errors\n",
    "activity_fit$uci <- activity_fit$fit + (1.96*activity_fit$se)\n",
    "\n",
    "ac2015fit <- activity_fit"
   ]
  },
  {
   "cell_type": "code",
   "execution_count": 48,
   "id": "c28e9d40-f267-4201-91fa-faedd22368d4",
   "metadata": {
    "tags": []
   },
   "outputs": [
    {
     "data": {
      "text/html": [
       "<strong>png:</strong> 2"
      ],
      "text/latex": [
       "\\textbf{png:} 2"
      ],
      "text/markdown": [
       "**png:** 2"
      ],
      "text/plain": [
       "png \n",
       "  2 "
      ]
     },
     "metadata": {},
     "output_type": "display_data"
    }
   ],
   "source": [
    "# time to make a plot.\n",
    "\n",
    "jpeg('acantho activity models_20190304.jpg', width=14, height=7, units='in', res=600)\n",
    "\n",
    "{\n",
    "  #define y and x label sequences\n",
    "  xlab <- seq(from=5, to=95, by=10)\n",
    "  \n",
    "  #locations where y-labels will go.\n",
    "  ylab <- seq(from=0, to=60, by=10)\n",
    "  \n",
    "  limX <- c(45, 95)\n",
    "  limY <- c(-5, 60)\n",
    "  \n",
    "  par(mar=c(2,0.5,0.5,0.5)) #plot margins (bottom, left, top, right)\n",
    "  par(mfrow=c(1,2)) #number of rows and columns in for having murbtiple plots\n",
    "  par(oma=c(6,8,0,0.5)) #outer margin areas (bottom, left, top, right)\n",
    "  \n",
    "  # LIRS 2014\n",
    "  #empty plot area\n",
    "  plot(NA, xlim=limX, ylim=limY, main=NULL, xlab=NULL, ylab=NULL, axes=FALSE)\n",
    "  \n",
    "  polygon(c(ac2014fit[ac2014fit$treatment=='control',]$sl, \n",
    "            rev(ac2014fit[ac2014fit$treatment=='control',]$sl)),\n",
    "          c(ac2014fit[ac2014fit$treatment=='control',]$uci,\n",
    "            rev(ac2014fit[ac2014fit$treatment=='control',]$lci)), col = alpha(\"grey75\", 0.5), border = NA)\n",
    "  \n",
    "  polygon(c(ac2014fit[ac2014fit$treatment=='CO2',]$sl, \n",
    "            rev(ac2014fit[ac2014fit$treatment=='CO2',]$sl)),\n",
    "          c(ac2014fit[ac2014fit$treatment=='CO2',]$uci,\n",
    "            rev(ac2014fit[ac2014fit$treatment=='CO2',]$lci)), col = alpha(\"grey75\", 0.5), border = NA)\n",
    "  \n",
    "  points(activity ~ sl, data=foo[foo$treatment=='control' & foo$loc=='LIRS 2014',], cex=1.2, pch=18, col = 'grey40')\n",
    "  \n",
    "  points(activity ~ sl, data=foo[foo$treatment=='CO2' & foo$loc=='LIRS 2014',], cex=1.1, pch=16, col = 'dodgerblue2')\n",
    "  \n",
    "  lines(x = ac2014fit[ac2014fit$treatment=='CO2',]$sl, \n",
    "        y = ac2014fit[ac2014fit$treatment=='CO2',]$fit, lwd=3, col = 'dodgerblue2')\n",
    "  lines(x = ac2014fit[ac2014fit$treatment=='control',]$sl, \n",
    "        y = ac2014fit[ac2014fit$treatment=='control',]$fit, lwd=3, col = 'grey40')\n",
    "  \n",
    "  axis(1, at = xlab, labels=xlab, cex.axis=1.6)\n",
    "  axis(2, at = ylab, labels=ylab, cex.axis=1.6, las=2)\n",
    "  \n",
    "  mtext(expression(paste('Activity duration (', 's min'^'-1', ')')), side=2, line=3.25, cex=2)\n",
    "  mtext('Standard length (mm)', side=1, at = 95, line=4, cex=2)\n",
    "  \n",
    "  text(x = 85, y = 55, labels = 'LIRS 2014', cex=2)\n",
    "  \n",
    "  box(lwd=1.6)\n",
    "  \n",
    "  \n",
    "  \n",
    "  # 2016\n",
    "  \n",
    "  limX <- c(8,14)\n",
    "  \n",
    "  plot(NA, xlim=limX, ylim=limY, main=NULL, xlab=NULL, ylab=NULL, axes=FALSE)\n",
    "  \n",
    "  polygon(c(ac2015fit[ac2015fit$treatment=='control',]$sl, \n",
    "            rev(ac2015fit[ac2015fit$treatment=='control',]$sl)),\n",
    "          c(ac2015fit[ac2015fit$treatment=='control',]$uci,\n",
    "            rev(ac2015fit[ac2015fit$treatment=='control',]$lci)), col = alpha(\"grey75\", 0.5), border = NA)\n",
    "  \n",
    "  polygon(c(ac2015fit[ac2015fit$treatment=='CO2',]$sl, \n",
    "            rev(ac2015fit[ac2015fit$treatment=='CO2',]$sl)),\n",
    "          c(ac2015fit[ac2015fit$treatment=='CO2',]$uci,\n",
    "            rev(ac2015fit[ac2015fit$treatment=='CO2',]$lci)), col = alpha(\"grey75\", 0.5), border = NA)\n",
    "  \n",
    "  points(activity ~ sl, data=foo[foo$treatment=='control' & foo$loc=='AIMS 2015',], cex=1.2, pch=18, col = 'grey40')\n",
    "  points(activity ~ sl, data=foo[foo$treatment=='CO2' & foo$loc=='AIMS 2015',], cex=1.1, pch=16, col = 'dodgerblue2')\n",
    "  \n",
    "  lines(x = ac2015fit[ac2015fit$treatment=='CO2',]$sl, \n",
    "        y = ac2015fit[ac2015fit$treatment=='CO2',]$fit, lwd=3, col = 'dodgerblue2')\n",
    "  lines(x = ac2015fit[ac2015fit$treatment=='control',]$sl, \n",
    "        y = ac2015fit[ac2015fit$treatment=='control',]$fit, lwd=3, col = 'grey40')\n",
    "  \n",
    "  axis(1, at = c(8:14), labels=c(8:14), cex.axis=1.6)\n",
    "  text(x = 13, y = 55, labels = 'AIMS 2015', cex=2)\n",
    "  \n",
    "  box(lwd=1.6)\n",
    "  \n",
    "  dev.off()\n",
    "}"
   ]
  },
  {
   "cell_type": "code",
   "execution_count": 49,
   "id": "d6c79295-16ff-4af6-b9e6-198333716642",
   "metadata": {
    "tags": []
   },
   "outputs": [
    {
     "data": {
      "text/plain": [
       "\n",
       "Call:\n",
       "lm(formula = activity ~ treatment * sl, data = foo)\n",
       "\n",
       "Residuals:\n",
       "     Min       1Q   Median       3Q      Max \n",
       "-23.0365  -7.3813  -0.1692   6.6783  28.5052 \n",
       "\n",
       "Coefficients:\n",
       "                Estimate Std. Error t value Pr(>|t|)    \n",
       "(Intercept)     25.18606    7.05372   3.571 0.000909 ***\n",
       "treatmentCO2    31.82498    9.91405   3.210 0.002544 ** \n",
       "sl              -0.08302    0.18969  -0.438 0.663871    \n",
       "treatmentCO2:sl -0.58961    0.26411  -2.232 0.030977 *  \n",
       "---\n",
       "Signif. codes:  0 '***' 0.001 '**' 0.01 '*' 0.05 '.' 0.1 ' ' 1\n",
       "\n",
       "Residual standard error: 11.61 on 42 degrees of freedom\n",
       "  (2 observations deleted due to missingness)\n",
       "Multiple R-squared:  0.3595,\tAdjusted R-squared:  0.3137 \n",
       "F-statistic: 7.856 on 3 and 42 DF,  p-value: 0.000284\n"
      ]
     },
     "metadata": {},
     "output_type": "display_data"
    },
    {
     "data": {
      "text/html": [
       "<style>\n",
       ".list-inline {list-style: none; margin:0; padding: 0}\n",
       ".list-inline>li {display: inline-block}\n",
       ".list-inline>li:not(:last-child)::after {content: \"\\00b7\"; padding: 0 .5ex}\n",
       "</style>\n",
       "<ol class=list-inline><li>17.06407788</li><li>78</li></ol>\n"
      ],
      "text/latex": [
       "\\begin{enumerate*}\n",
       "\\item 17.06407788\n",
       "\\item 78\n",
       "\\end{enumerate*}\n"
      ],
      "text/markdown": [
       "1. 17.06407788\n",
       "2. 78\n",
       "\n",
       "\n"
      ],
      "text/plain": [
       "[1] 17.06408 78.00000"
      ]
     },
     "metadata": {},
     "output_type": "display_data"
    },
    {
     "data": {
      "text/html": [
       "110"
      ],
      "text/latex": [
       "110"
      ],
      "text/markdown": [
       "110"
      ],
      "text/plain": [
       "[1] 110"
      ]
     },
     "metadata": {},
     "output_type": "display_data"
    },
    {
     "data": {
      "text/html": [
       "110"
      ],
      "text/latex": [
       "110"
      ],
      "text/markdown": [
       "110"
      ],
      "text/plain": [
       "[1] 110"
      ]
     },
     "metadata": {},
     "output_type": "display_data"
    },
    {
     "name": "stdout",
     "output_type": "stream",
     "text": [
      "'data.frame':\t110 obs. of  2 variables:\n",
      " $ treatment: Factor w/ 2 levels \"CO2\",\"control\": 2 2 2 2 2 2 2 2 2 2 ...\n",
      " $ sl       : num  17 18 19 20 21 22 23 24 25 26 ...\n"
     ]
    }
   ],
   "source": [
    "# now, plot of humbug 2014 model\n",
    "\n",
    "foo <- oaa[oaa$species=='humbug',]\n",
    "foo <- foo[foo$loc=='LIRS 2014',]\n",
    "summary(hum101)\n",
    "\n",
    "range(foo$sl)\n",
    "\n",
    "# script for predicting from 2014 humbugs\n",
    "SL_seq <- seq(from=17, to=71, by=1) #SL\n",
    "co2_seq <- rep('CO2', length(SL_seq))\n",
    "control_seq <- rep('control', length(SL_seq))\n",
    "\n",
    "treatment_seq <- c(control_seq, co2_seq)\n",
    "sl_seq <- rep(SL_seq, 2)\n",
    "\n",
    "length(sl_seq)\n",
    "length(treatment_seq)\n",
    "\n",
    "fake_data <- data.frame(treatment = treatment_seq, sl = sl_seq) #merge it all into a dataframe\n",
    "fake_data$treatment <- as.factor(fake_data$treatment)\n",
    "str(fake_data) #cool, a fake dataset to predict from.\n",
    "fake_data$treatment <- relevel(as.factor(fake_data$treatment), ref = 'control')\n",
    "\n",
    "pdat <- predict(hum101, fake_data, se.fit=TRUE)\n",
    "activity_fit <- data.frame(treatment = treatment_seq, sl=sl_seq, fit = pdat$fit, se = pdat$se.fit)\n",
    "activity_fit$lci <- activity_fit$fit - (1.96*activity_fit$se) #calculate lower and upper confidence intervals from the standard errors\n",
    "activity_fit$uci <- activity_fit$fit + (1.96*activity_fit$se)\n",
    "\n",
    "hum2014fit <- activity_fit"
   ]
  },
  {
   "cell_type": "code",
   "execution_count": 50,
   "id": "cd7b2acb-8677-47ce-ad12-e7274a03050a",
   "metadata": {
    "tags": []
   },
   "outputs": [
    {
     "data": {
      "text/html": [
       "<strong>png:</strong> 2"
      ],
      "text/latex": [
       "\\textbf{png:} 2"
      ],
      "text/markdown": [
       "**png:** 2"
      ],
      "text/plain": [
       "png \n",
       "  2 "
      ]
     },
     "metadata": {},
     "output_type": "display_data"
    }
   ],
   "source": [
    "# humbug plot\n",
    "\n",
    "jpeg('humbug activity model 2014_20190304.jpg', width=10, height=7, units='in', res=600)\n",
    "\n",
    "{\n",
    "  #define y and x label sequences\n",
    "  xlab <- seq(from=20, to=70, by=10)\n",
    "  \n",
    "  #locations where y-labels will go.\n",
    "  ylab <- seq(from=0, to=60, by=10)\n",
    "  \n",
    "  limX <- c(17, 71)\n",
    "  limY <- c(0, 60)\n",
    "  \n",
    "  par(mar=c(2,0.5,0.5,0.5)) #plot margins (bottom, left, top, right)\n",
    "  par(mfrow=c(1,1)) #number of rows and columns in for having murbtiple plots\n",
    "  par(oma=c(6,8,0,0.5)) #outer margin areas (bottom, left, top, right)\n",
    "  \n",
    "  # LIRS 2014\n",
    "  #empty plot area\n",
    "  plot(NA, xlim=limX, ylim=limY, main=NULL, xlab=NULL, ylab=NULL, axes=FALSE)\n",
    "  \n",
    "  polygon(c(hum2014fit[hum2014fit$treatment=='control',]$sl, \n",
    "            rev(hum2014fit[hum2014fit$treatment=='control',]$sl)),\n",
    "          c(hum2014fit[hum2014fit$treatment=='control',]$uci,\n",
    "            rev(hum2014fit[hum2014fit$treatment=='control',]$lci)), col = alpha(\"grey75\", 0.5), border = NA)\n",
    "  \n",
    "  polygon(c(hum2014fit[hum2014fit$treatment=='CO2',]$sl, \n",
    "            rev(hum2014fit[hum2014fit$treatment=='CO2',]$sl)),\n",
    "          c(hum2014fit[hum2014fit$treatment=='CO2',]$uci,\n",
    "            rev(hum2014fit[hum2014fit$treatment=='CO2',]$lci)), col = alpha(\"grey75\", 0.5), border = NA)\n",
    "  \n",
    "  points(activity ~ sl, data=foo[foo$treatment=='control' & foo$loc=='LIRS 2014',], cex=1.2, pch=18, col = 'grey40')\n",
    "  \n",
    "  points(activity ~ sl, data=foo[foo$treatment=='CO2' & foo$loc=='LIRS 2014',], cex=1.1, pch=16, col = 'dodgerblue2')\n",
    "  \n",
    "  lines(x = hum2014fit[hum2014fit$treatment=='CO2',]$sl, \n",
    "        y = hum2014fit[hum2014fit$treatment=='CO2',]$fit, lwd=3, col = 'dodgerblue2')\n",
    "  lines(x = hum2014fit[hum2014fit$treatment=='control',]$sl, \n",
    "        y = hum2014fit[hum2014fit$treatment=='control',]$fit, lwd=3, col = 'grey40')\n",
    "  \n",
    "  axis(1, at = xlab, labels=xlab, cex.axis=1.6)\n",
    "  axis(2, at = ylab, labels=ylab, cex.axis=1.6, las=2)\n",
    "  \n",
    "  mtext(expression(paste('Activity duration (', 's min'^'-1', ')')), side=2, line=3.25, cex=2)\n",
    "  mtext('Standard length (mm)', side=1, line=4, cex=2)\n",
    "  \n",
    "  box(lwd=1.6)\n",
    "  \n",
    "  dev.off()\n",
    "}\n",
    "\n",
    "\n",
    "\n",
    "\n",
    "\n",
    "\n",
    "\n",
    "# end"
   ]
  },
  {
   "cell_type": "code",
   "execution_count": null,
   "id": "23f33b02-320d-4f53-91b6-a03cfc7ec317",
   "metadata": {},
   "outputs": [],
   "source": []
  }
 ],
 "metadata": {
  "kernelspec": {
   "display_name": "R",
   "language": "R",
   "name": "ir"
  },
  "language_info": {
   "codemirror_mode": "r",
   "file_extension": ".r",
   "mimetype": "text/x-r-source",
   "name": "R",
   "pygments_lexer": "r",
   "version": "4.1.3"
  }
 },
 "nbformat": 4,
 "nbformat_minor": 5
}
